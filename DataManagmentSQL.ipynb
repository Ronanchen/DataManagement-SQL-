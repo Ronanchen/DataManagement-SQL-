{
 "cells": [
  {
   "cell_type": "markdown",
   "metadata": {},
   "source": [
    "# Project 4 - due Monday, 12/10 at 1pm"
   ]
  },
  {
   "cell_type": "markdown",
   "metadata": {},
   "source": [
    "\n",
    "Select a dataset of at least 250,000 records, preferably at the level of individual transactions. Acquire the data, survey it, wrangle it into a suitable format, and analyze it. Present your work in a brief 5-minute talk with additional 1-2 minutes of Q&A in class on Tuesday, 12/11, and write up your process and results in a reproducible notebook.\n",
    "\n",
    "You may use any of the methods we studied in class: Unix command line tools, relational databases and dimensional models with SQLite or PostgreSQL, or Spark. As much as possible, avoid using tools you may have learned in depth in other classes for data management – we want to see how well you have mastered what you learned in our class. Pandas and R are fine tools, but for this project we want you to focus on using SQL, or pipelines and filters in Unix or pipelines, filters, and dataframes in Spark. The main exception to this rule is for visualization, as noted below in Part 3.\n",
    "\n",
    "*Attestation*: All project team members should contribute meaningfully to the final results. Please attest to your individual contributions and that each member contributed substantially to the project in your final writeup.\n",
    "\n",
    "*Deadline*: Monday, 12/10, 1pm. \n",
    "\n",
    "Submit your presentation (PDF export), your notebook, and any additionally necessary files like scripts or images together in one zip file to Blackboard. Only one team member should submit on behalf of all members. Submissions via email or any means outside of Blackboard will not be accepted."
   ]
  },
  {
   "cell_type": "markdown",
   "metadata": {},
   "source": [
    "## Part 1 Selection"
   ]
  },
  {
   "cell_type": "markdown",
   "metadata": {},
   "source": [
    "Identify and describe your dataset, its source, and what appeals to you about it. Acquire the data and perform an initial exploration to determine which themes you wish to explore. Describe the questions you want to be able to answer with the data, any concerns you have about the data, and any challenges you expect to have to overcome."
   ]
  },
  {
   "cell_type": "markdown",
   "metadata": {},
   "source": [
    "We downloaded dataset from Kaggle. The dataset contains UK road accidents from 2005 to 2014, separated in 3 csv files. We calculated the null values and looked into these three datasets, we chose the third one(accident from 12 to 14 in UK) for assignment convenience to analyze because this dataset is more complete than others. We are interested in this dataset because it contains a lot of information for us to analyze traffic accident, such as what course the traffic accident, how serious is the accident, what was the road condition, what was the weather, was there any special conditions when the accident happened. How has different areas differed? There is so much we can explore for these data."
   ]
  },
  {
   "cell_type": "markdown",
   "metadata": {},
   "source": [
    "Data Link: https://www.kaggle.com/daveianhickey/2000-16-traffic-flow-england-scotland-wales#accidents_2005_to_2007.csv\n"
   ]
  },
  {
   "cell_type": "markdown",
   "metadata": {},
   "source": [
    "Questions we want to be able to answer with the data:\n",
    "* 1.Vehicles and Casualties by Accident_Severity and our own cognition about Accident_Severity (our assumption: measure by average ‘Number_of_Vehicles’ and ‘Number_of_Casualties)’\n",
    "* 2.Accident count peak (by hour, by weekday, by month, by year)\n",
    "* 3.Average Number_of_Vehicles and Number_of_Casualties in different Road_Surface_Conditions\n",
    "* 4.Average Number_of_Vehicles and Number_of_Casualties in different Special_Conditions_at_Site\n",
    "* 5.Average Number_of_Vehicles and Number_of_Casualties in different Carriageway_Hazards\n",
    "* 6.Vehicles and Casualties by Light_Condition / Weather_Condition\n",
    "* 7.Severity proportion and frequency in Urban and Rural (1 - Urban, 2 - Rural)\n",
    "* 8.Top 10 Districts where have most accidents\n",
    "* 9.Question 9 extension:Vehicles and Casualties by both Light_Condition and Weather_Condition in top 10\n",
    "* 10.Question 9 extension: The distribution of Road_Type (expect: ‘Slip road’ and ‘Roundabout’ have more’) in top 10\n",
    "* 11.Distribution of accident in different Speed_limit. (expect: intermediate speed limit has most accidents. Generally, in the road with high-speed limit such as high-speed railway, people tend to pay more attention to driving. As for the road with low-speed limit, it is hard that accident in the road with low-speed limit occurs and some roads with that speed limit means that road could occur accidents frequently in the past, so people may pay fine with high value when they exceed the speed limit.) \n",
    "\n",
    "In part 3, we answered these questions follow this order."
   ]
  },
  {
   "cell_type": "markdown",
   "metadata": {},
   "source": [
    "Concerns we have about the data:\n",
    "* We are not sure whether roads have the same speed limit all the time. So we made the assumption in part 2 to assume that roads have only\n",
    "\n"
   ]
  },
  {
   "cell_type": "markdown",
   "metadata": {},
   "source": [
    "Challenges we expect to overcome:\n",
    "    \n",
    "* Drawing star schema and schema.\n",
    "* Find the dataset that have column sharing same property of our original dataset\n"
   ]
  },
  {
   "cell_type": "markdown",
   "metadata": {},
   "source": [
    "#### Note: When we copy csv file, sometimes we may get error 'cannot allocate memory'. If you get this error, please change to another path of your directory."
   ]
  },
  {
   "cell_type": "markdown",
   "metadata": {},
   "source": [
    "### Initial Data Exploration"
   ]
  },
  {
   "cell_type": "markdown",
   "metadata": {},
   "source": [
    "#### See how many observations in the data"
   ]
  },
  {
   "cell_type": "code",
   "execution_count": 1,
   "metadata": {},
   "outputs": [
    {
     "name": "stdout",
     "output_type": "stream",
     "text": [
      "--2018-12-09 23:41:53--  https://s3.amazonaws.com/datamanagement2018fall/accidents_2012_to_2014.csv\n",
      "Resolving s3.amazonaws.com (s3.amazonaws.com)... 52.216.163.125\n",
      "Connecting to s3.amazonaws.com (s3.amazonaws.com)|52.216.163.125|:443... connected.\n",
      "HTTP request sent, awaiting response... 200 OK\n",
      "Length: 133627887 (127M) [text/csv]\n",
      "Saving to: ‘accidents_2012_to_2014.csv’\n",
      "\n",
      "accidents_2012_to_2 100%[===================>] 127.44M  51.6MB/s    in 2.5s    \n",
      "\n",
      "2018-12-09 23:41:56 (51.6 MB/s) - ‘accidents_2012_to_2014.csv’ saved [133627887/133627887]\n",
      "\n"
     ]
    }
   ],
   "source": [
    "!wget https://s3.amazonaws.com/datamanagement2018fall/accidents_2012_to_2014.csv"
   ]
  },
  {
   "cell_type": "code",
   "execution_count": 2,
   "metadata": {},
   "outputs": [
    {
     "name": "stdout",
     "output_type": "stream",
     "text": [
      "464697\n"
     ]
    }
   ],
   "source": [
    "!xsv count accidents_2012_to_2014.csv"
   ]
  },
  {
   "cell_type": "markdown",
   "metadata": {},
   "source": [
    "There are 464,697 of observations in the data."
   ]
  },
  {
   "cell_type": "markdown",
   "metadata": {},
   "source": [
    "#### See the coulmns of this data and attribute of columns"
   ]
  },
  {
   "cell_type": "code",
   "execution_count": 3,
   "metadata": {},
   "outputs": [
    {
     "name": "stdout",
     "output_type": "stream",
     "text": [
      "  1: Accident_Index\n",
      "  2: Location_Easting_OSGR\n",
      "  3: Location_Northing_OSGR\n",
      "  4: Longitude\n",
      "  5: Latitude\n",
      "  6: Police_Force\n",
      "  7: Accident_Severity\n",
      "  8: Number_of_Vehicles\n",
      "  9: Number_of_Casualties\n",
      " 10: Date\n",
      " 11: Day_of_Week\n",
      " 12: Time\n",
      " 13: Local_Authority_(District)\n",
      " 14: Local_Authority_(Highway)\n",
      " 15: 1st_Road_Class\n",
      " 16: 1st_Road_Number\n",
      " 17: Road_Type\n",
      " 18: Speed_limit\n",
      " 19: Junction_Detail\n",
      " 20: Junction_Control\n",
      " 21: 2nd_Road_Class\n",
      " 22: 2nd_Road_Number\n",
      " 23: Pedestrian_Crossing-Human_Control\n",
      " 24: Pedestrian_Crossing-Physical_Facilities\n",
      " 25: Light_Conditions\n",
      " 26: Weather_Conditions\n",
      " 27: Road_Surface_Conditions\n",
      " 28: Special_Conditions_at_Site\n",
      " 29: Carriageway_Hazards\n",
      " 30: Urban_or_Rural_Area\n",
      " 31: Did_Police_Officer_Attend_Scene_of_Accident\n",
      " 32: LSOA_of_Accident_Location\n",
      " 33: Year\n"
     ]
    }
   ],
   "source": [
    "!csvcut -n accidents_2012_to_2014.csv"
   ]
  },
  {
   "cell_type": "code",
   "execution_count": 4,
   "metadata": {},
   "outputs": [
    {
     "name": "stdout",
     "output_type": "stream",
     "text": [
      "  1. \"Accident_Index\"\n",
      "\n",
      "\tType of data:          Text\n",
      "\tContains null values:  False\n",
      "\tUnique values:         9\n",
      "\tLongest value:         13 characters\n",
      "\tMost common values:    201201BS70001 (1x)\n",
      "\t                       201201BS70002 (1x)\n",
      "\t                       201201BS70003 (1x)\n",
      "\t                       201201BS70004 (1x)\n",
      "\t                       201201BS70005 (1x)\n",
      "\n",
      "  2. \"Location_Easting_OSGR\"\n",
      "\n",
      "\tType of data:          Number\n",
      "\tContains null values:  False\n",
      "\tUnique values:         9\n",
      "\tSmallest value:        524,010\n",
      "\tLargest value:         527,780\n",
      "\tSum:                   4,734,730\n",
      "\tMean:                  526,081.111\n",
      "\tMedian:                526,090\n",
      "\tStDev:                 1,307.444\n",
      "\tMost common values:    527,200 (1x)\n",
      "\t                       524,930 (1x)\n",
      "\t                       525,860 (1x)\n",
      "\t                       524,980 (1x)\n",
      "\t                       526,170 (1x)\n",
      "\n",
      "  3. \"Location_Northing_OSGR\"\n",
      "\n",
      "\tType of data:          Number\n",
      "\tContains null values:  False\n",
      "\tUnique values:         9\n",
      "\tSmallest value:        177,600\n",
      "\tLargest value:         182,080\n",
      "\tSum:                   1,617,150\n",
      "\tMean:                  179,683.333\n",
      "\tMedian:                179,290\n",
      "\tStDev:                 1,531.347\n",
      "\tMost common values:    178,760 (1x)\n",
      "\t                       181,430 (1x)\n",
      "\t                       178,080 (1x)\n",
      "\t                       181,030 (1x)\n",
      "\t                       179,200 (1x)\n",
      "\n",
      "  4. \"Longitude\"\n",
      "\n",
      "\tType of data:          Number\n",
      "\tContains null values:  False\n",
      "\tUnique values:         9\n",
      "\tSmallest value:        -0.214\n",
      "\tLargest value:         -0.16\n",
      "\tSum:                   -1.664\n",
      "\tMean:                  -0.185\n",
      "\tMedian:                -0.185\n",
      "\tStDev:                 0.018\n",
      "\tMost common values:    -0.169 (1x)\n",
      "\t                       -0.201 (1x)\n",
      "\t                       -0.189 (1x)\n",
      "\t                       -0.2 (1x)\n",
      "\t                       -0.184 (1x)\n",
      "\n",
      "  5. \"Latitude\"\n",
      "\n",
      "\tType of data:          Number\n",
      "\tContains null values:  False\n",
      "\tUnique values:         9\n",
      "\tSmallest value:        51.483\n",
      "\tLargest value:         51.524\n",
      "\tSum:                   463.518\n",
      "\tMean:                  51.502\n",
      "\tMedian:                51.498\n",
      "\tStDev:                 0.014\n",
      "\tMost common values:    51.493 (1x)\n",
      "\t                       51.518 (1x)\n",
      "\t                       51.488 (1x)\n",
      "\t                       51.514 (1x)\n",
      "\t                       51.498 (1x)\n",
      "\n",
      "  6. \"Police_Force\"\n",
      "\n",
      "\tType of data:          Boolean\n",
      "\tContains null values:  False\n",
      "\tUnique values:         1\n",
      "\tMost common values:    True (9x)\n",
      "\n",
      "  7. \"Accident_Severity\"\n",
      "\n",
      "\tType of data:          Number\n",
      "\tContains null values:  False\n",
      "\tUnique values:         1\n",
      "\tSmallest value:        3\n",
      "\tLargest value:         3\n",
      "\tSum:                   27\n",
      "\tMean:                  3\n",
      "\tMedian:                3\n",
      "\tStDev:                 0\n",
      "\tMost common values:    3 (9x)\n",
      "\n",
      "  8. \"Number_of_Vehicles\"\n",
      "\n",
      "\tType of data:          Number\n",
      "\tContains null values:  False\n",
      "\tUnique values:         2\n",
      "\tSmallest value:        1\n",
      "\tLargest value:         2\n",
      "\tSum:                   15\n",
      "\tMean:                  1.667\n",
      "\tMedian:                2\n",
      "\tStDev:                 0.5\n",
      "\tMost common values:    2 (6x)\n",
      "\t                       1 (3x)\n",
      "\n",
      "  9. \"Number_of_Casualties\"\n",
      "\n",
      "\tType of data:          Boolean\n",
      "\tContains null values:  False\n",
      "\tUnique values:         1\n",
      "\tMost common values:    True (9x)\n",
      "\n",
      " 10. \"Date\"\n",
      "\n",
      "\tType of data:          Text\n",
      "\tContains null values:  False\n",
      "\tUnique values:         7\n",
      "\tLongest value:         10 characters\n",
      "\tMost common values:    19/01/2012 (2x)\n",
      "\t                       07/01/2012 (2x)\n",
      "\t                       04/01/2012 (1x)\n",
      "\t                       10/01/2012 (1x)\n",
      "\t                       18/01/2012 (1x)\n",
      "\n",
      " 11. \"Day_of_Week\"\n",
      "\n",
      "\tType of data:          Number\n",
      "\tContains null values:  False\n",
      "\tUnique values:         4\n",
      "\tSmallest value:        3\n",
      "\tLargest value:         7\n",
      "\tSum:                   43\n",
      "\tMean:                  4.778\n",
      "\tMedian:                5\n",
      "\tStDev:                 1.481\n",
      "\tMost common values:    5 (3x)\n",
      "\t                       4 (2x)\n",
      "\t                       3 (2x)\n",
      "\t                       7 (2x)\n",
      "\n",
      " 12. \"Time\"\n",
      "\n",
      "\tType of data:          TimeDelta\n",
      "\tContains null values:  False\n",
      "\tUnique values:         9\n",
      "\tMost common values:    0:20:35 (1x)\n",
      "\t                       0:17:00 (1x)\n",
      "\t                       0:10:07 (1x)\n",
      "\t                       0:12:20 (1x)\n",
      "\t                       0:20:24 (1x)\n",
      "\n",
      " 13. \"Local_Authority_(District)\"\n",
      "\n",
      "\tType of data:          Number\n",
      "\tContains null values:  False\n",
      "\tUnique values:         2\n",
      "\tSmallest value:        1\n",
      "\tLargest value:         12\n",
      "\tSum:                   86\n",
      "\tMean:                  9.556\n",
      "\tMedian:                12\n",
      "\tStDev:                 4.851\n",
      "\tMost common values:    12 (7x)\n",
      "\t                       1 (2x)\n",
      "\n",
      " 14. \"Local_Authority_(Highway)\"\n",
      "\n",
      "\tType of data:          Text\n",
      "\tContains null values:  False\n",
      "\tUnique values:         2\n",
      "\tLongest value:         9 characters\n",
      "\tMost common values:    E09000020 (7x)\n",
      "\t                       E09000033 (2x)\n",
      "\n",
      " 15. \"1st_Road_Class\"\n",
      "\n",
      "\tType of data:          Number\n",
      "\tContains null values:  False\n",
      "\tUnique values:         4\n",
      "\tSmallest value:        3\n",
      "\tLargest value:         6\n",
      "\tSum:                   35\n",
      "\tMean:                  3.889\n",
      "\tMedian:                4\n",
      "\tStDev:                 1.054\n",
      "\tMost common values:    3 (4x)\n",
      "\t                       4 (3x)\n",
      "\t                       5 (1x)\n",
      "\t                       6 (1x)\n",
      "\n",
      " 16. \"1st_Road_Number\"\n",
      "\n",
      "\tType of data:          Number\n",
      "\tContains null values:  False\n",
      "\tUnique values:         7\n",
      "\tSmallest value:        0\n",
      "\tLargest value:         3,220\n",
      "\tSum:                   8,239\n",
      "\tMean:                  915.444\n",
      "\tMedian:                325\n",
      "\tStDev:                 1,315.119\n",
      "\tMost common values:    308 (2x)\n",
      "\t                       0 (2x)\n",
      "\t                       412 (1x)\n",
      "\t                       3,220 (1x)\n",
      "\t                       325 (1x)\n",
      "\n",
      " 17. \"Road_Type\"\n",
      "\n",
      "\tType of data:          Text\n",
      "\tContains null values:  False\n",
      "\tUnique values:         3\n",
      "\tLongest value:         18 characters\n",
      "\tMost common values:    Single carriageway (6x)\n",
      "\t                       One way street (2x)\n",
      "\t                       Roundabout (1x)\n",
      "\n",
      " 18. \"Speed_limit\"\n",
      "\n",
      "\tType of data:          Number\n",
      "\tContains null values:  False\n",
      "\tUnique values:         1\n",
      "\tSmallest value:        30\n",
      "\tLargest value:         30\n",
      "\tSum:                   270\n",
      "\tMean:                  30\n",
      "\tMedian:                30\n",
      "\tStDev:                 0\n",
      "\tMost common values:    30 (9x)\n",
      "\n",
      " 19. \"Junction_Detail\"\n",
      "\n",
      "\tType of data:          Boolean\n",
      "\tContains null values:  True (excluded from calculations)\n",
      "\tUnique values:         1\n",
      "\tMost common values:    None (9x)\n",
      "\n",
      " 20. \"Junction_Control\"\n",
      "\n",
      "\tType of data:          Text\n",
      "\tContains null values:  False\n",
      "\tUnique values:         2\n",
      "\tLongest value:         24 characters\n",
      "\tMost common values:    Giveway or uncontrolled (6x)\n",
      "\t                       Automatic traffic signal (3x)\n",
      "\n",
      " 21. \"2nd_Road_Class\"\n",
      "\n",
      "\tType of data:          Number\n",
      "\tContains null values:  False\n",
      "\tUnique values:         3\n",
      "\tSmallest value:        3\n",
      "\tLargest value:         6\n",
      "\tSum:                   46\n",
      "\tMean:                  5.111\n",
      "\tMedian:                6\n",
      "\tStDev:                 1.269\n",
      "\tMost common values:    6 (5x)\n",
      "\t                       5 (2x)\n",
      "\t                       3 (2x)\n",
      "\n",
      " 22. \"2nd_Road_Number\"\n",
      "\n",
      "\tType of data:          Number\n",
      "\tContains null values:  False\n",
      "\tUnique values:         3\n",
      "\tSmallest value:        0\n",
      "\tLargest value:         3,220\n",
      "\tSum:                   3,224\n",
      "\tMean:                  358.222\n",
      "\tMedian:                0\n",
      "\tStDev:                 1,073.167\n",
      "\tMost common values:    0 (7x)\n",
      "\t                       3,220 (1x)\n",
      "\t                       4 (1x)\n",
      "\n",
      " 23. \"Pedestrian_Crossing-Human_Control\"\n",
      "\n",
      "\tType of data:          Text\n",
      "\tContains null values:  False\n",
      "\tUnique values:         1\n",
      "\tLongest value:         21 characters\n",
      "\tMost common values:    None within 50 metres (9x)\n",
      "\n",
      " 24. \"Pedestrian_Crossing-Physical_Facilities\"\n",
      "\n",
      "\tType of data:          Text\n",
      "\tContains null values:  False\n",
      "\tUnique values:         4\n",
      "\tLongest value:         43 characters\n",
      "\tMost common values:    No physical crossing within 50 meters (4x)\n",
      "\t                       Pedestrian phase at traffic signal junction (3x)\n",
      "\t                       non-junction pedestrian crossing (1x)\n",
      "\t                       Zebra crossing (1x)\n",
      "\n",
      " 25. \"Light_Conditions\"\n",
      "\n",
      "\tType of data:          Text\n",
      "\tContains null values:  False\n",
      "\tUnique values:         2\n",
      "\tLongest value:         39 characters\n",
      "\tMost common values:    Daylight: Street light present (5x)\n",
      "\t                       Darkness: Street lights present and lit (4x)\n",
      "\n",
      " 26. \"Weather_Conditions\"\n",
      "\n",
      "\tType of data:          Text\n",
      "\tContains null values:  False\n",
      "\tUnique values:         2\n",
      "\tLongest value:         26 characters\n",
      "\tMost common values:    Fine without high winds (8x)\n",
      "\t                       Raining without high winds (1x)\n",
      "\n",
      " 27. \"Road_Surface_Conditions\"\n",
      "\n",
      "\tType of data:          Text\n",
      "\tContains null values:  False\n",
      "\tUnique values:         2\n",
      "\tLongest value:         8 characters\n",
      "\tMost common values:    Dry (8x)\n",
      "\t                       Wet/Damp (1x)\n",
      "\n",
      " 28. \"Special_Conditions_at_Site\"\n",
      "\n",
      "\tType of data:          Boolean\n",
      "\tContains null values:  True (excluded from calculations)\n",
      "\tUnique values:         1\n",
      "\tMost common values:    None (9x)\n",
      "\n",
      " 29. \"Carriageway_Hazards\"\n",
      "\n",
      "\tType of data:          Boolean\n",
      "\tContains null values:  True (excluded from calculations)\n",
      "\tUnique values:         1\n",
      "\tMost common values:    None (9x)\n",
      "\n",
      " 30. \"Urban_or_Rural_Area\"\n",
      "\n",
      "\tType of data:          Boolean\n",
      "\tContains null values:  False\n",
      "\tUnique values:         1\n",
      "\tMost common values:    True (9x)\n",
      "\n",
      " 31. \"Did_Police_Officer_Attend_Scene_of_Accident\"\n",
      "\n",
      "\tType of data:          Boolean\n",
      "\tContains null values:  False\n",
      "\tUnique values:         2\n",
      "\tMost common values:    True (8x)\n",
      "\t                       False (1x)\n",
      "\n",
      " 32. \"LSOA_of_Accident_Location\"\n",
      "\n",
      "\tType of data:          Text\n",
      "\tContains null values:  False\n",
      "\tUnique values:         8\n",
      "\tLongest value:         9 characters\n",
      "\tMost common values:    E01002818 (2x)\n",
      "\t                       E01002821 (1x)\n",
      "\t                       E01004760 (1x)\n",
      "\t                       E01002893 (1x)\n",
      "\t                       E01002886 (1x)\n",
      "\n",
      " 33. \"Year\"\n",
      "\n",
      "\tType of data:          Number\n",
      "\tContains null values:  False\n",
      "\tUnique values:         1\n",
      "\tSmallest value:        2,012\n",
      "\tLargest value:         2,012\n",
      "\tSum:                   18,108\n",
      "\tMean:                  2,012\n",
      "\tMedian:                2,012\n",
      "\tStDev:                 0\n",
      "\tMost common values:    2,012 (9x)\n",
      "\n",
      "Row count: 9\n"
     ]
    }
   ],
   "source": [
    "!head -n 10 accidents_2012_to_2014.csv | csvstat"
   ]
  },
  {
   "cell_type": "markdown",
   "metadata": {},
   "source": [
    "#### See some of the data and find the null values"
   ]
  },
  {
   "cell_type": "code",
   "execution_count": 5,
   "metadata": {},
   "outputs": [],
   "source": [
    "import pandas as pd"
   ]
  },
  {
   "cell_type": "code",
   "execution_count": 6,
   "metadata": {},
   "outputs": [
    {
     "name": "stderr",
     "output_type": "stream",
     "text": [
      "/home/ubuntu/.local/lib/python3.5/site-packages/IPython/core/interactiveshell.py:2785: DtypeWarning: Columns (31) have mixed types. Specify dtype option on import or set low_memory=False.\n",
      "  interactivity=interactivity, compiler=compiler, result=result)\n"
     ]
    }
   ],
   "source": [
    "data = pd.read_csv('accidents_2012_to_2014.csv')"
   ]
  },
  {
   "cell_type": "code",
   "execution_count": 7,
   "metadata": {},
   "outputs": [
    {
     "data": {
      "text/html": [
       "<div>\n",
       "<style scoped>\n",
       "    .dataframe tbody tr th:only-of-type {\n",
       "        vertical-align: middle;\n",
       "    }\n",
       "\n",
       "    .dataframe tbody tr th {\n",
       "        vertical-align: top;\n",
       "    }\n",
       "\n",
       "    .dataframe thead th {\n",
       "        text-align: right;\n",
       "    }\n",
       "</style>\n",
       "<table border=\"1\" class=\"dataframe\">\n",
       "  <thead>\n",
       "    <tr style=\"text-align: right;\">\n",
       "      <th></th>\n",
       "      <th>Accident_Index</th>\n",
       "      <th>Location_Easting_OSGR</th>\n",
       "      <th>Location_Northing_OSGR</th>\n",
       "      <th>Longitude</th>\n",
       "      <th>Latitude</th>\n",
       "      <th>Police_Force</th>\n",
       "      <th>Accident_Severity</th>\n",
       "      <th>Number_of_Vehicles</th>\n",
       "      <th>Number_of_Casualties</th>\n",
       "      <th>Date</th>\n",
       "      <th>...</th>\n",
       "      <th>Pedestrian_Crossing-Physical_Facilities</th>\n",
       "      <th>Light_Conditions</th>\n",
       "      <th>Weather_Conditions</th>\n",
       "      <th>Road_Surface_Conditions</th>\n",
       "      <th>Special_Conditions_at_Site</th>\n",
       "      <th>Carriageway_Hazards</th>\n",
       "      <th>Urban_or_Rural_Area</th>\n",
       "      <th>Did_Police_Officer_Attend_Scene_of_Accident</th>\n",
       "      <th>LSOA_of_Accident_Location</th>\n",
       "      <th>Year</th>\n",
       "    </tr>\n",
       "  </thead>\n",
       "  <tbody>\n",
       "    <tr>\n",
       "      <th>0</th>\n",
       "      <td>201201BS70001</td>\n",
       "      <td>527200</td>\n",
       "      <td>178760</td>\n",
       "      <td>-0.169101</td>\n",
       "      <td>51.493429</td>\n",
       "      <td>1</td>\n",
       "      <td>3</td>\n",
       "      <td>2</td>\n",
       "      <td>1</td>\n",
       "      <td>19/01/2012</td>\n",
       "      <td>...</td>\n",
       "      <td>Pedestrian phase at traffic signal junction</td>\n",
       "      <td>Darkness: Street lights present and lit</td>\n",
       "      <td>Fine without high winds</td>\n",
       "      <td>Dry</td>\n",
       "      <td>None</td>\n",
       "      <td>None</td>\n",
       "      <td>1</td>\n",
       "      <td>Yes</td>\n",
       "      <td>E01002821</td>\n",
       "      <td>2012</td>\n",
       "    </tr>\n",
       "    <tr>\n",
       "      <th>1</th>\n",
       "      <td>201201BS70002</td>\n",
       "      <td>524930</td>\n",
       "      <td>181430</td>\n",
       "      <td>-0.200838</td>\n",
       "      <td>51.517931</td>\n",
       "      <td>1</td>\n",
       "      <td>3</td>\n",
       "      <td>2</td>\n",
       "      <td>1</td>\n",
       "      <td>04/01/2012</td>\n",
       "      <td>...</td>\n",
       "      <td>No physical crossing within 50 meters</td>\n",
       "      <td>Darkness: Street lights present and lit</td>\n",
       "      <td>Fine without high winds</td>\n",
       "      <td>Dry</td>\n",
       "      <td>None</td>\n",
       "      <td>None</td>\n",
       "      <td>1</td>\n",
       "      <td>Yes</td>\n",
       "      <td>E01004760</td>\n",
       "      <td>2012</td>\n",
       "    </tr>\n",
       "    <tr>\n",
       "      <th>2</th>\n",
       "      <td>201201BS70003</td>\n",
       "      <td>525860</td>\n",
       "      <td>178080</td>\n",
       "      <td>-0.188636</td>\n",
       "      <td>51.487618</td>\n",
       "      <td>1</td>\n",
       "      <td>3</td>\n",
       "      <td>2</td>\n",
       "      <td>1</td>\n",
       "      <td>10/01/2012</td>\n",
       "      <td>...</td>\n",
       "      <td>non-junction pedestrian crossing</td>\n",
       "      <td>Daylight: Street light present</td>\n",
       "      <td>Fine without high winds</td>\n",
       "      <td>Dry</td>\n",
       "      <td>None</td>\n",
       "      <td>None</td>\n",
       "      <td>1</td>\n",
       "      <td>Yes</td>\n",
       "      <td>E01002893</td>\n",
       "      <td>2012</td>\n",
       "    </tr>\n",
       "    <tr>\n",
       "      <th>3</th>\n",
       "      <td>201201BS70004</td>\n",
       "      <td>524980</td>\n",
       "      <td>181030</td>\n",
       "      <td>-0.200259</td>\n",
       "      <td>51.514325</td>\n",
       "      <td>1</td>\n",
       "      <td>3</td>\n",
       "      <td>1</td>\n",
       "      <td>1</td>\n",
       "      <td>18/01/2012</td>\n",
       "      <td>...</td>\n",
       "      <td>No physical crossing within 50 meters</td>\n",
       "      <td>Daylight: Street light present</td>\n",
       "      <td>Fine without high winds</td>\n",
       "      <td>Dry</td>\n",
       "      <td>None</td>\n",
       "      <td>None</td>\n",
       "      <td>1</td>\n",
       "      <td>Yes</td>\n",
       "      <td>E01002886</td>\n",
       "      <td>2012</td>\n",
       "    </tr>\n",
       "    <tr>\n",
       "      <th>4</th>\n",
       "      <td>201201BS70005</td>\n",
       "      <td>526170</td>\n",
       "      <td>179200</td>\n",
       "      <td>-0.183773</td>\n",
       "      <td>51.497614</td>\n",
       "      <td>1</td>\n",
       "      <td>3</td>\n",
       "      <td>1</td>\n",
       "      <td>1</td>\n",
       "      <td>17/01/2012</td>\n",
       "      <td>...</td>\n",
       "      <td>No physical crossing within 50 meters</td>\n",
       "      <td>Darkness: Street lights present and lit</td>\n",
       "      <td>Fine without high winds</td>\n",
       "      <td>Dry</td>\n",
       "      <td>None</td>\n",
       "      <td>None</td>\n",
       "      <td>1</td>\n",
       "      <td>Yes</td>\n",
       "      <td>E01002890</td>\n",
       "      <td>2012</td>\n",
       "    </tr>\n",
       "  </tbody>\n",
       "</table>\n",
       "<p>5 rows × 33 columns</p>\n",
       "</div>"
      ],
      "text/plain": [
       "  Accident_Index  Location_Easting_OSGR  Location_Northing_OSGR  Longitude  \\\n",
       "0  201201BS70001                 527200                  178760  -0.169101   \n",
       "1  201201BS70002                 524930                  181430  -0.200838   \n",
       "2  201201BS70003                 525860                  178080  -0.188636   \n",
       "3  201201BS70004                 524980                  181030  -0.200259   \n",
       "4  201201BS70005                 526170                  179200  -0.183773   \n",
       "\n",
       "    Latitude  Police_Force  Accident_Severity  Number_of_Vehicles  \\\n",
       "0  51.493429             1                  3                   2   \n",
       "1  51.517931             1                  3                   2   \n",
       "2  51.487618             1                  3                   2   \n",
       "3  51.514325             1                  3                   1   \n",
       "4  51.497614             1                  3                   1   \n",
       "\n",
       "   Number_of_Casualties        Date  ...   \\\n",
       "0                     1  19/01/2012  ...    \n",
       "1                     1  04/01/2012  ...    \n",
       "2                     1  10/01/2012  ...    \n",
       "3                     1  18/01/2012  ...    \n",
       "4                     1  17/01/2012  ...    \n",
       "\n",
       "       Pedestrian_Crossing-Physical_Facilities  \\\n",
       "0  Pedestrian phase at traffic signal junction   \n",
       "1        No physical crossing within 50 meters   \n",
       "2             non-junction pedestrian crossing   \n",
       "3        No physical crossing within 50 meters   \n",
       "4        No physical crossing within 50 meters   \n",
       "\n",
       "                          Light_Conditions       Weather_Conditions  \\\n",
       "0  Darkness: Street lights present and lit  Fine without high winds   \n",
       "1  Darkness: Street lights present and lit  Fine without high winds   \n",
       "2           Daylight: Street light present  Fine without high winds   \n",
       "3           Daylight: Street light present  Fine without high winds   \n",
       "4  Darkness: Street lights present and lit  Fine without high winds   \n",
       "\n",
       "  Road_Surface_Conditions  Special_Conditions_at_Site  Carriageway_Hazards  \\\n",
       "0                     Dry                        None                 None   \n",
       "1                     Dry                        None                 None   \n",
       "2                     Dry                        None                 None   \n",
       "3                     Dry                        None                 None   \n",
       "4                     Dry                        None                 None   \n",
       "\n",
       "  Urban_or_Rural_Area  Did_Police_Officer_Attend_Scene_of_Accident  \\\n",
       "0                   1                                          Yes   \n",
       "1                   1                                          Yes   \n",
       "2                   1                                          Yes   \n",
       "3                   1                                          Yes   \n",
       "4                   1                                          Yes   \n",
       "\n",
       "   LSOA_of_Accident_Location  Year  \n",
       "0                  E01002821  2012  \n",
       "1                  E01004760  2012  \n",
       "2                  E01002893  2012  \n",
       "3                  E01002886  2012  \n",
       "4                  E01002890  2012  \n",
       "\n",
       "[5 rows x 33 columns]"
      ]
     },
     "execution_count": 7,
     "metadata": {},
     "output_type": "execute_result"
    }
   ],
   "source": [
    "data.head()"
   ]
  },
  {
   "cell_type": "code",
   "execution_count": 7,
   "metadata": {},
   "outputs": [
    {
     "data": {
      "text/plain": [
       "Accident_Index                                      0\n",
       "Location_Easting_OSGR                               0\n",
       "Location_Northing_OSGR                              0\n",
       "Longitude                                           0\n",
       "Latitude                                            0\n",
       "Police_Force                                        0\n",
       "Accident_Severity                                   0\n",
       "Number_of_Vehicles                                  0\n",
       "Number_of_Casualties                                0\n",
       "Date                                                0\n",
       "Day_of_Week                                         0\n",
       "Time                                               13\n",
       "Local_Authority_(District)                          0\n",
       "Local_Authority_(Highway)                           0\n",
       "1st_Road_Class                                      0\n",
       "1st_Road_Number                                     0\n",
       "Road_Type                                           0\n",
       "Speed_limit                                         0\n",
       "Junction_Detail                                464697\n",
       "Junction_Control                               178610\n",
       "2nd_Road_Class                                      0\n",
       "2nd_Road_Number                                     0\n",
       "Pedestrian_Crossing-Human_Control                   0\n",
       "Pedestrian_Crossing-Physical_Facilities             0\n",
       "Light_Conditions                                    0\n",
       "Weather_Conditions                                  0\n",
       "Road_Surface_Conditions                           755\n",
       "Special_Conditions_at_Site                          2\n",
       "Carriageway_Hazards                                 3\n",
       "Urban_or_Rural_Area                                 0\n",
       "Did_Police_Officer_Attend_Scene_of_Accident         2\n",
       "LSOA_of_Accident_Location                       28718\n",
       "Year                                                0\n",
       "dtype: int64"
      ]
     },
     "execution_count": 7,
     "metadata": {},
     "output_type": "execute_result"
    }
   ],
   "source": [
    "data.isna().sum()"
   ]
  },
  {
   "cell_type": "markdown",
   "metadata": {},
   "source": [
    "# Part 2 Wrangling"
   ]
  },
  {
   "cell_type": "markdown",
   "metadata": {},
   "source": [
    "Based on what you found above, wrangle the data into a format suitable for analysis. This may involve cleaning, filtering, merging, and modeling steps, any and all of which are valid for this project. Describe your process as you proceed, and document any scripts, databases, or other models you develop. Be specific about any key decisions to modify or remove data, how you overcame any challenges, and all assumptions you make about the meaning of variables and their values.\n",
    "Verify that your wrangling steps have succeeded (for example, if you loaded the data into a dimensional model, ensure that the fact table contains the right number of records)."
   ]
  },
  {
   "cell_type": "markdown",
   "metadata": {},
   "source": [
    "# Our Wrangling part consists of 3 steps"
   ]
  },
  {
   "cell_type": "markdown",
   "metadata": {},
   "source": [
    "## Step 1 \n",
    "Change ‘date’ from string to data\n",
    "* data['Date'] = [datetime.strptime(datestr,'%d/%m/%Y') for datestr in data['Date']]\n"
   ]
  },
  {
   "cell_type": "markdown",
   "metadata": {},
   "source": [
    "## Step 2\n",
    "Drop Columns and reasons of dropping the columns:\n",
    "* a.Location_Easting_OSGR,Location_Northing_OSGR: the variables will not help to solve the issues in which we are interested.\n",
    "* b.Police_Force: at first we consider this useful because we think that this column means how many police officers are there when accident happened. However, when we explore this column using the code: pd.data.groupby(‘Police_Force’)[‘Police_Force’].count(), we think that this may represent the district of police being sent to the accident scene. Therefore, we think this column cannot solve the question in which we are interested and Local_Authority_(District) have almost same attribute to represent attribute of location.\n",
    "* c.1st_Road_Class,1st_Road_Number,2nd_Road_Class,2nd_Road_Number: the variables will not help to solve the issues in which we are interested.\n",
    "* d.Junction_Detail: all rows in this column are NULL.\n",
    "* e.Junction_Control: too many NULL values in this column.\n",
    "* f.Pedestrian_Crossing-Human_Control: the variables will not help to solve the issues in which we are interested.\n",
    "* g.Pedestrian_Crossing_Physical_Facilities: at first, we are very interested in this variable because those facilities may reduce the accident that car bumps people. However, in this dataset we cannot get the information of accident type. For example, car bumps car or car bumps human or car bumps other things. Therefore, if the type of accident is not related to people and car,  we consider this column useless.\n",
    "* H.Did_Police_Officer_Attend_Scene_of_Accident: the variables will not help to solve the issues in which we are interested.\n",
    "\n",
    "We drop these colums at the end of part 2\n"
   ]
  },
  {
   "cell_type": "markdown",
   "metadata": {},
   "source": [
    "## Step 3 \n",
    "* Update null value in columns when creating dimensional tables : time, road_surface_condition, special_condition, carriageway_hazards, lsoa, region\n",
    "* Add new column ‘region’ in original dataset for further analysis.\n"
   ]
  },
  {
   "cell_type": "markdown",
   "metadata": {},
   "source": [
    "# Assumptions"
   ]
  },
  {
   "cell_type": "markdown",
   "metadata": {},
   "source": [
    "* Speed-limit: We assume that speed limit of some districts will not change because of specific time interval. Speed limit of district will remain constant at that district.\n",
    "* Special_Conditions_at_Site: We assume that special condition depends on the time not the district.\n",
    "* What we define urban or rural (using tableau to map all accident location),\n",
    "There is no definition in the website about urban or rural area and the column of ‘urban_or_rural’ have to values(1 and 2), so we use tableau to deduce the definition. First, we map all accident location and we use ‘urban_or_rural’ as filter. When we looked at all locations of accident in group 1, dots are aggregated in several places. However, when we looked at all locations of accident in group 2, dots are evenly distributed throughout the U.K. Therefore, we assumed that 1 denotes urban and 2 denoted rural.\n"
   ]
  },
  {
   "cell_type": "markdown",
   "metadata": {},
   "source": [
    "#### Change the type of column 'Date' from string to timstamp"
   ]
  },
  {
   "cell_type": "code",
   "execution_count": 8,
   "metadata": {},
   "outputs": [],
   "source": [
    "from datetime import datetime"
   ]
  },
  {
   "cell_type": "code",
   "execution_count": 9,
   "metadata": {},
   "outputs": [],
   "source": [
    "data['Date'] = [datetime.strptime(datestr,'%d/%m/%Y') for datestr in data['Date']]"
   ]
  },
  {
   "cell_type": "markdown",
   "metadata": {},
   "source": [
    "#### Link to postgresql and import csv file into it"
   ]
  },
  {
   "cell_type": "code",
   "execution_count": 10,
   "metadata": {},
   "outputs": [],
   "source": [
    "data.to_csv('accidents.csv',index=None)"
   ]
  },
  {
   "cell_type": "code",
   "execution_count": 11,
   "metadata": {},
   "outputs": [],
   "source": [
    "%load_ext sql"
   ]
  },
  {
   "cell_type": "code",
   "execution_count": 12,
   "metadata": {},
   "outputs": [],
   "source": [
    "!dropdb -U student project4"
   ]
  },
  {
   "cell_type": "code",
   "execution_count": 13,
   "metadata": {},
   "outputs": [],
   "source": [
    "!createdb -U student project4"
   ]
  },
  {
   "cell_type": "code",
   "execution_count": 14,
   "metadata": {},
   "outputs": [
    {
     "data": {
      "text/plain": [
       "'Connected: student@project4'"
      ]
     },
     "execution_count": 14,
     "metadata": {},
     "output_type": "execute_result"
    }
   ],
   "source": [
    "%sql postgresql://student@/project4"
   ]
  },
  {
   "cell_type": "code",
   "execution_count": 15,
   "metadata": {},
   "outputs": [
    {
     "name": "stdout",
     "output_type": "stream",
     "text": [
      " * postgresql://student@/project4\n",
      "Done.\n",
      "Done.\n"
     ]
    },
    {
     "data": {
      "text/plain": [
       "[]"
      ]
     },
     "execution_count": 15,
     "metadata": {},
     "output_type": "execute_result"
    }
   ],
   "source": [
    "%%sql\n",
    "DROP TABLE IF EXISTS accidents ;\n",
    "\n",
    "CREATE TABLE accidents (\n",
    "    index VARCHAR(50),\n",
    "    easting_osgr NUMERIC,\n",
    "    northing_osgr NUMERIC,\n",
    "    longitude NUMERIC,\n",
    "    latitude NUMERIC,\n",
    "    police_force VARCHAR(50),\n",
    "    severity NUMERIC,\n",
    "    number_vehicles NUMERIC,\n",
    "    number_casualties NUMERIC,\n",
    "    date TIMESTAMP,\n",
    "    day_week NUMERIC,\n",
    "    time TIME,\n",
    "    district NUMERIC,\n",
    "    highway VARCHAR(50),\n",
    "    first_road_class NUMERIC,\n",
    "    first_road_number NUMERIC,\n",
    "    road_type VARCHAR(100),\n",
    "    speed_limit NUMERIC,\n",
    "    junction_detail VARCHAR(10),\n",
    "    junction_control VARCHAR(100),\n",
    "    second_road_class NUMERIC,\n",
    "    second_road_number NUMERIC,\n",
    "    pedestrian_crossing_human_control VARCHAR(100),\n",
    "    pedestrian_crossing_physical_facilities VARCHAR(100),\n",
    "    light_conditions VARCHAR(100),\n",
    "    weather_condition VARCHAR(100),\n",
    "    road_surface_condition VARCHAR(50),\n",
    "    special_condition VARCHAR(50),\n",
    "    carriageway_hazards VARCHAR(50),\n",
    "    urban_or_rural VARCHAR(50),\n",
    "    did_police_attend BOOLEAN,\n",
    "    lsoa VARCHAR(50),\n",
    "    year NUMERIC\n",
    ")"
   ]
  },
  {
   "cell_type": "markdown",
   "metadata": {},
   "source": [
    "#### Note: if you get error 'cannot allocate memory', please change to another path."
   ]
  },
  {
   "cell_type": "code",
   "execution_count": 16,
   "metadata": {},
   "outputs": [],
   "source": [
    "!cp accidents.csv /tmp/accidents.csv"
   ]
  },
  {
   "cell_type": "code",
   "execution_count": 17,
   "metadata": {},
   "outputs": [
    {
     "name": "stdout",
     "output_type": "stream",
     "text": [
      " * postgresql://student@/project4\n",
      "464697 rows affected.\n"
     ]
    },
    {
     "data": {
      "text/plain": [
       "[]"
      ]
     },
     "execution_count": 17,
     "metadata": {},
     "output_type": "execute_result"
    }
   ],
   "source": [
    "%%sql\n",
    "COPY accidents\n",
    "FROM '/tmp/accidents.csv'\n",
    "CSV\n",
    "HEADER;"
   ]
  },
  {
   "cell_type": "code",
   "execution_count": 18,
   "metadata": {},
   "outputs": [
    {
     "name": "stdout",
     "output_type": "stream",
     "text": [
      " * postgresql://student@/project4\n",
      "5 rows affected.\n"
     ]
    },
    {
     "data": {
      "text/html": [
       "<table>\n",
       "    <tr>\n",
       "        <th>index</th>\n",
       "        <th>easting_osgr</th>\n",
       "        <th>northing_osgr</th>\n",
       "        <th>longitude</th>\n",
       "        <th>latitude</th>\n",
       "        <th>police_force</th>\n",
       "        <th>severity</th>\n",
       "        <th>number_vehicles</th>\n",
       "        <th>number_casualties</th>\n",
       "        <th>date</th>\n",
       "        <th>day_week</th>\n",
       "        <th>time</th>\n",
       "        <th>district</th>\n",
       "        <th>highway</th>\n",
       "        <th>first_road_class</th>\n",
       "        <th>first_road_number</th>\n",
       "        <th>road_type</th>\n",
       "        <th>speed_limit</th>\n",
       "        <th>junction_detail</th>\n",
       "        <th>junction_control</th>\n",
       "        <th>second_road_class</th>\n",
       "        <th>second_road_number</th>\n",
       "        <th>pedestrian_crossing_human_control</th>\n",
       "        <th>pedestrian_crossing_physical_facilities</th>\n",
       "        <th>light_conditions</th>\n",
       "        <th>weather_condition</th>\n",
       "        <th>road_surface_condition</th>\n",
       "        <th>special_condition</th>\n",
       "        <th>carriageway_hazards</th>\n",
       "        <th>urban_or_rural</th>\n",
       "        <th>did_police_attend</th>\n",
       "        <th>lsoa</th>\n",
       "        <th>year</th>\n",
       "    </tr>\n",
       "    <tr>\n",
       "        <td>201201BS70001</td>\n",
       "        <td>527200</td>\n",
       "        <td>178760</td>\n",
       "        <td>-0.169101</td>\n",
       "        <td>51.493429</td>\n",
       "        <td>1</td>\n",
       "        <td>3</td>\n",
       "        <td>2</td>\n",
       "        <td>1</td>\n",
       "        <td>2012-01-19 00:00:00</td>\n",
       "        <td>5</td>\n",
       "        <td>20:35:00</td>\n",
       "        <td>12</td>\n",
       "        <td>E09000020</td>\n",
       "        <td>3</td>\n",
       "        <td>308</td>\n",
       "        <td>Single carriageway</td>\n",
       "        <td>30</td>\n",
       "        <td>None</td>\n",
       "        <td>Automatic traffic signal</td>\n",
       "        <td>5</td>\n",
       "        <td>0</td>\n",
       "        <td>None within 50 metres</td>\n",
       "        <td>Pedestrian phase at traffic signal junction</td>\n",
       "        <td>Darkness: Street lights present and lit</td>\n",
       "        <td>Fine without high winds</td>\n",
       "        <td>Dry</td>\n",
       "        <td>None</td>\n",
       "        <td>None</td>\n",
       "        <td>1</td>\n",
       "        <td>True</td>\n",
       "        <td>E01002821</td>\n",
       "        <td>2012</td>\n",
       "    </tr>\n",
       "    <tr>\n",
       "        <td>201201BS70002</td>\n",
       "        <td>524930</td>\n",
       "        <td>181430</td>\n",
       "        <td>-0.20083800000000002</td>\n",
       "        <td>51.517931</td>\n",
       "        <td>1</td>\n",
       "        <td>3</td>\n",
       "        <td>2</td>\n",
       "        <td>1</td>\n",
       "        <td>2012-01-04 00:00:00</td>\n",
       "        <td>4</td>\n",
       "        <td>17:00:00</td>\n",
       "        <td>1</td>\n",
       "        <td>E09000033</td>\n",
       "        <td>4</td>\n",
       "        <td>412</td>\n",
       "        <td>Single carriageway</td>\n",
       "        <td>30</td>\n",
       "        <td>None</td>\n",
       "        <td>Giveway or uncontrolled</td>\n",
       "        <td>6</td>\n",
       "        <td>0</td>\n",
       "        <td>None within 50 metres</td>\n",
       "        <td>No physical crossing within 50 meters</td>\n",
       "        <td>Darkness: Street lights present and lit</td>\n",
       "        <td>Fine without high winds</td>\n",
       "        <td>Dry</td>\n",
       "        <td>None</td>\n",
       "        <td>None</td>\n",
       "        <td>1</td>\n",
       "        <td>True</td>\n",
       "        <td>E01004760</td>\n",
       "        <td>2012</td>\n",
       "    </tr>\n",
       "    <tr>\n",
       "        <td>201201BS70003</td>\n",
       "        <td>525860</td>\n",
       "        <td>178080</td>\n",
       "        <td>-0.188636</td>\n",
       "        <td>51.487618</td>\n",
       "        <td>1</td>\n",
       "        <td>3</td>\n",
       "        <td>2</td>\n",
       "        <td>1</td>\n",
       "        <td>2012-01-10 00:00:00</td>\n",
       "        <td>3</td>\n",
       "        <td>10:07:00</td>\n",
       "        <td>12</td>\n",
       "        <td>E09000020</td>\n",
       "        <td>3</td>\n",
       "        <td>3220</td>\n",
       "        <td>One way street</td>\n",
       "        <td>30</td>\n",
       "        <td>None</td>\n",
       "        <td>Giveway or uncontrolled</td>\n",
       "        <td>6</td>\n",
       "        <td>0</td>\n",
       "        <td>None within 50 metres</td>\n",
       "        <td>non-junction pedestrian crossing</td>\n",
       "        <td>Daylight: Street light present</td>\n",
       "        <td>Fine without high winds</td>\n",
       "        <td>Dry</td>\n",
       "        <td>None</td>\n",
       "        <td>None</td>\n",
       "        <td>1</td>\n",
       "        <td>True</td>\n",
       "        <td>E01002893</td>\n",
       "        <td>2012</td>\n",
       "    </tr>\n",
       "    <tr>\n",
       "        <td>201201BS70004</td>\n",
       "        <td>524980</td>\n",
       "        <td>181030</td>\n",
       "        <td>-0.200259</td>\n",
       "        <td>51.514325</td>\n",
       "        <td>1</td>\n",
       "        <td>3</td>\n",
       "        <td>1</td>\n",
       "        <td>1</td>\n",
       "        <td>2012-01-18 00:00:00</td>\n",
       "        <td>4</td>\n",
       "        <td>12:20:00</td>\n",
       "        <td>12</td>\n",
       "        <td>E09000020</td>\n",
       "        <td>5</td>\n",
       "        <td>0</td>\n",
       "        <td>Single carriageway</td>\n",
       "        <td>30</td>\n",
       "        <td>None</td>\n",
       "        <td>Giveway or uncontrolled</td>\n",
       "        <td>6</td>\n",
       "        <td>0</td>\n",
       "        <td>None within 50 metres</td>\n",
       "        <td>No physical crossing within 50 meters</td>\n",
       "        <td>Daylight: Street light present</td>\n",
       "        <td>Fine without high winds</td>\n",
       "        <td>Dry</td>\n",
       "        <td>None</td>\n",
       "        <td>None</td>\n",
       "        <td>1</td>\n",
       "        <td>True</td>\n",
       "        <td>E01002886</td>\n",
       "        <td>2012</td>\n",
       "    </tr>\n",
       "    <tr>\n",
       "        <td>201201BS70005</td>\n",
       "        <td>526170</td>\n",
       "        <td>179200</td>\n",
       "        <td>-0.183773</td>\n",
       "        <td>51.497614</td>\n",
       "        <td>1</td>\n",
       "        <td>3</td>\n",
       "        <td>1</td>\n",
       "        <td>1</td>\n",
       "        <td>2012-01-17 00:00:00</td>\n",
       "        <td>3</td>\n",
       "        <td>20:24:00</td>\n",
       "        <td>12</td>\n",
       "        <td>E09000020</td>\n",
       "        <td>4</td>\n",
       "        <td>325</td>\n",
       "        <td>Single carriageway</td>\n",
       "        <td>30</td>\n",
       "        <td>None</td>\n",
       "        <td>Giveway or uncontrolled</td>\n",
       "        <td>6</td>\n",
       "        <td>0</td>\n",
       "        <td>None within 50 metres</td>\n",
       "        <td>No physical crossing within 50 meters</td>\n",
       "        <td>Darkness: Street lights present and lit</td>\n",
       "        <td>Fine without high winds</td>\n",
       "        <td>Dry</td>\n",
       "        <td>None</td>\n",
       "        <td>None</td>\n",
       "        <td>1</td>\n",
       "        <td>True</td>\n",
       "        <td>E01002890</td>\n",
       "        <td>2012</td>\n",
       "    </tr>\n",
       "</table>"
      ],
      "text/plain": [
       "[('201201BS70001', Decimal('527200'), Decimal('178760'), Decimal('-0.169101'), Decimal('51.493429'), '1', Decimal('3'), Decimal('2'), Decimal('1'), datetime.datetime(2012, 1, 19, 0, 0), Decimal('5'), datetime.time(20, 35), Decimal('12'), 'E09000020', Decimal('3'), Decimal('308'), 'Single carriageway', Decimal('30'), None, 'Automatic traffic signal', Decimal('5'), Decimal('0'), 'None within 50 metres', 'Pedestrian phase at traffic signal junction', 'Darkness: Street lights present and lit', 'Fine without high winds', 'Dry', 'None', 'None', '1', True, 'E01002821', Decimal('2012')),\n",
       " ('201201BS70002', Decimal('524930'), Decimal('181430'), Decimal('-0.20083800000000002'), Decimal('51.517931'), '1', Decimal('3'), Decimal('2'), Decimal('1'), datetime.datetime(2012, 1, 4, 0, 0), Decimal('4'), datetime.time(17, 0), Decimal('1'), 'E09000033', Decimal('4'), Decimal('412'), 'Single carriageway', Decimal('30'), None, 'Giveway or uncontrolled', Decimal('6'), Decimal('0'), 'None within 50 metres', 'No physical crossing within 50 meters', 'Darkness: Street lights present and lit', 'Fine without high winds', 'Dry', 'None', 'None', '1', True, 'E01004760', Decimal('2012')),\n",
       " ('201201BS70003', Decimal('525860'), Decimal('178080'), Decimal('-0.188636'), Decimal('51.487618'), '1', Decimal('3'), Decimal('2'), Decimal('1'), datetime.datetime(2012, 1, 10, 0, 0), Decimal('3'), datetime.time(10, 7), Decimal('12'), 'E09000020', Decimal('3'), Decimal('3220'), 'One way street', Decimal('30'), None, 'Giveway or uncontrolled', Decimal('6'), Decimal('0'), 'None within 50 metres', 'non-junction pedestrian crossing', 'Daylight: Street light present', 'Fine without high winds', 'Dry', 'None', 'None', '1', True, 'E01002893', Decimal('2012')),\n",
       " ('201201BS70004', Decimal('524980'), Decimal('181030'), Decimal('-0.200259'), Decimal('51.514325'), '1', Decimal('3'), Decimal('1'), Decimal('1'), datetime.datetime(2012, 1, 18, 0, 0), Decimal('4'), datetime.time(12, 20), Decimal('12'), 'E09000020', Decimal('5'), Decimal('0'), 'Single carriageway', Decimal('30'), None, 'Giveway or uncontrolled', Decimal('6'), Decimal('0'), 'None within 50 metres', 'No physical crossing within 50 meters', 'Daylight: Street light present', 'Fine without high winds', 'Dry', 'None', 'None', '1', True, 'E01002886', Decimal('2012')),\n",
       " ('201201BS70005', Decimal('526170'), Decimal('179200'), Decimal('-0.183773'), Decimal('51.497614'), '1', Decimal('3'), Decimal('1'), Decimal('1'), datetime.datetime(2012, 1, 17, 0, 0), Decimal('3'), datetime.time(20, 24), Decimal('12'), 'E09000020', Decimal('4'), Decimal('325'), 'Single carriageway', Decimal('30'), None, 'Giveway or uncontrolled', Decimal('6'), Decimal('0'), 'None within 50 metres', 'No physical crossing within 50 meters', 'Darkness: Street lights present and lit', 'Fine without high winds', 'Dry', 'None', 'None', '1', True, 'E01002890', Decimal('2012'))]"
      ]
     },
     "execution_count": 18,
     "metadata": {},
     "output_type": "execute_result"
    }
   ],
   "source": [
    "%%sql\n",
    "SELECT * from accidents LIMIT 5;"
   ]
  },
  {
   "cell_type": "markdown",
   "metadata": {},
   "source": [
    "#### Import another dataset to check specific lsoa(Lower Layer Super Output Area) in table 'accidents' belongs to what UK region(local authority)"
   ]
  },
  {
   "cell_type": "markdown",
   "metadata": {},
   "source": [
    "Data link:http://geoportal.statistics.gov.uk/datasets/output-area-to-lsoa-to-msoa-to-local-authority-district-december-2017-lookup-with-area-classifications-in-great-britain/data"
   ]
  },
  {
   "cell_type": "code",
   "execution_count": 19,
   "metadata": {},
   "outputs": [
    {
     "name": "stdout",
     "output_type": "stream",
     "text": [
      "--2018-12-09 23:55:25--  https://s3.amazonaws.com/istm/Output_Area_to_Lower_Layer_Super_Output_Area_to_Middle_Layer_Super_Output_Area_to_Local_Authority_District_December_2017_Lookup_in_Great_Britain__Classification_Version_2.csv\n",
      "Resolving s3.amazonaws.com (s3.amazonaws.com)... 52.216.110.101\n",
      "Connecting to s3.amazonaws.com (s3.amazonaws.com)|52.216.110.101|:443... connected.\n",
      "HTTP request sent, awaiting response... 200 OK\n",
      "Length: 49727466 (47M) [text/csv]\n",
      "Saving to: ‘Output_Area_to_Lower_Layer_Super_Output_Area_to_Middle_Layer_Super_Output_Area_to_Local_Authority_District_December_2017_Lookup_in_Great_Britain__Classification_Version_2.csv’\n",
      "\n",
      "Output_Area_to_Lowe 100%[===================>]  47.42M  56.8MB/s    in 0.8s    \n",
      "\n",
      "2018-12-09 23:55:26 (56.8 MB/s) - ‘Output_Area_to_Lower_Layer_Super_Output_Area_to_Middle_Layer_Super_Output_Area_to_Local_Authority_District_December_2017_Lookup_in_Great_Britain__Classification_Version_2.csv’ saved [49727466/49727466]\n",
      "\n"
     ]
    }
   ],
   "source": [
    "!wget https://s3.amazonaws.com/istm/Output_Area_to_Lower_Layer_Super_Output_Area_to_Middle_Layer_Super_Output_Area_to_Local_Authority_District_December_2017_Lookup_in_Great_Britain__Classification_Version_2.csv"
   ]
  },
  {
   "cell_type": "code",
   "execution_count": 20,
   "metadata": {},
   "outputs": [],
   "source": [
    "outputArea = pd.read_csv('Output_Area_to_Lower_Layer_Super_Output_Area_to_Middle_Layer_Super_Output_Area_to_Local_Authority_District_December_2017_Lookup_in_Great_Britain__Classification_Version_2.csv')"
   ]
  },
  {
   "cell_type": "code",
   "execution_count": 21,
   "metadata": {},
   "outputs": [
    {
     "data": {
      "text/html": [
       "<div>\n",
       "<style scoped>\n",
       "    .dataframe tbody tr th:only-of-type {\n",
       "        vertical-align: middle;\n",
       "    }\n",
       "\n",
       "    .dataframe tbody tr th {\n",
       "        vertical-align: top;\n",
       "    }\n",
       "\n",
       "    .dataframe thead th {\n",
       "        text-align: right;\n",
       "    }\n",
       "</style>\n",
       "<table border=\"1\" class=\"dataframe\">\n",
       "  <thead>\n",
       "    <tr style=\"text-align: right;\">\n",
       "      <th></th>\n",
       "      <th>OA11CD</th>\n",
       "      <th>OAC11CD</th>\n",
       "      <th>OAC11NM</th>\n",
       "      <th>LSOA11CD</th>\n",
       "      <th>LSOA11NM</th>\n",
       "      <th>SOAC11CD</th>\n",
       "      <th>SOAC11NM</th>\n",
       "      <th>MSOA11CD</th>\n",
       "      <th>MSOA11NM</th>\n",
       "      <th>LAD17CD</th>\n",
       "      <th>LAD17NM</th>\n",
       "      <th>LACCD</th>\n",
       "      <th>LACNM</th>\n",
       "      <th>RGN11CD</th>\n",
       "      <th>RGN11NM</th>\n",
       "      <th>CTRY11CD</th>\n",
       "      <th>CTRY11NM</th>\n",
       "      <th>FID</th>\n",
       "    </tr>\n",
       "  </thead>\n",
       "  <tbody>\n",
       "    <tr>\n",
       "      <th>0</th>\n",
       "      <td>E00070834</td>\n",
       "      <td>1a2</td>\n",
       "      <td>Established Farming Communities</td>\n",
       "      <td>E01014030</td>\n",
       "      <td>Herefordshire 009D</td>\n",
       "      <td>2b</td>\n",
       "      <td>Prospering countryside life</td>\n",
       "      <td>E02002913</td>\n",
       "      <td>Herefordshire 009</td>\n",
       "      <td>E06000019</td>\n",
       "      <td>Herefordshire, County of</td>\n",
       "      <td>3a2r</td>\n",
       "      <td>Sparse English and Welsh Countryside</td>\n",
       "      <td>E12000005</td>\n",
       "      <td>West Midlands</td>\n",
       "      <td>E92000001</td>\n",
       "      <td>England</td>\n",
       "      <td>11001</td>\n",
       "    </tr>\n",
       "    <tr>\n",
       "      <th>1</th>\n",
       "      <td>E00070835</td>\n",
       "      <td>1a2</td>\n",
       "      <td>Established Farming Communities</td>\n",
       "      <td>E01014028</td>\n",
       "      <td>Herefordshire 009B</td>\n",
       "      <td>2a</td>\n",
       "      <td>Ageing rural neighbourhoods</td>\n",
       "      <td>E02002913</td>\n",
       "      <td>Herefordshire 009</td>\n",
       "      <td>E06000019</td>\n",
       "      <td>Herefordshire, County of</td>\n",
       "      <td>3a2r</td>\n",
       "      <td>Sparse English and Welsh Countryside</td>\n",
       "      <td>E12000005</td>\n",
       "      <td>West Midlands</td>\n",
       "      <td>E92000001</td>\n",
       "      <td>England</td>\n",
       "      <td>11002</td>\n",
       "    </tr>\n",
       "    <tr>\n",
       "      <th>2</th>\n",
       "      <td>E00070837</td>\n",
       "      <td>1a2</td>\n",
       "      <td>Established Farming Communities</td>\n",
       "      <td>E01014027</td>\n",
       "      <td>Herefordshire 009A</td>\n",
       "      <td>2c</td>\n",
       "      <td>Remoter communities</td>\n",
       "      <td>E02002913</td>\n",
       "      <td>Herefordshire 009</td>\n",
       "      <td>E06000019</td>\n",
       "      <td>Herefordshire, County of</td>\n",
       "      <td>3a2r</td>\n",
       "      <td>Sparse English and Welsh Countryside</td>\n",
       "      <td>E12000005</td>\n",
       "      <td>West Midlands</td>\n",
       "      <td>E92000001</td>\n",
       "      <td>England</td>\n",
       "      <td>11003</td>\n",
       "    </tr>\n",
       "    <tr>\n",
       "      <th>3</th>\n",
       "      <td>E00070907</td>\n",
       "      <td>1a2</td>\n",
       "      <td>Established Farming Communities</td>\n",
       "      <td>E01014044</td>\n",
       "      <td>Herefordshire 002D</td>\n",
       "      <td>2d</td>\n",
       "      <td>Rural traits</td>\n",
       "      <td>E02002906</td>\n",
       "      <td>Herefordshire 002</td>\n",
       "      <td>E06000019</td>\n",
       "      <td>Herefordshire, County of</td>\n",
       "      <td>3a2r</td>\n",
       "      <td>Sparse English and Welsh Countryside</td>\n",
       "      <td>E12000005</td>\n",
       "      <td>West Midlands</td>\n",
       "      <td>E92000001</td>\n",
       "      <td>England</td>\n",
       "      <td>11004</td>\n",
       "    </tr>\n",
       "    <tr>\n",
       "      <th>4</th>\n",
       "      <td>E00070937</td>\n",
       "      <td>1a2</td>\n",
       "      <td>Established Farming Communities</td>\n",
       "      <td>E01014050</td>\n",
       "      <td>Herefordshire 023D</td>\n",
       "      <td>2c</td>\n",
       "      <td>Remoter communities</td>\n",
       "      <td>E02002927</td>\n",
       "      <td>Herefordshire 023</td>\n",
       "      <td>E06000019</td>\n",
       "      <td>Herefordshire, County of</td>\n",
       "      <td>3a2r</td>\n",
       "      <td>Sparse English and Welsh Countryside</td>\n",
       "      <td>E12000005</td>\n",
       "      <td>West Midlands</td>\n",
       "      <td>E92000001</td>\n",
       "      <td>England</td>\n",
       "      <td>11005</td>\n",
       "    </tr>\n",
       "  </tbody>\n",
       "</table>\n",
       "</div>"
      ],
      "text/plain": [
       "      OA11CD OAC11CD                          OAC11NM   LSOA11CD  \\\n",
       "0  E00070834     1a2  Established Farming Communities  E01014030   \n",
       "1  E00070835     1a2  Established Farming Communities  E01014028   \n",
       "2  E00070837     1a2  Established Farming Communities  E01014027   \n",
       "3  E00070907     1a2  Established Farming Communities  E01014044   \n",
       "4  E00070937     1a2  Established Farming Communities  E01014050   \n",
       "\n",
       "             LSOA11NM SOAC11CD                     SOAC11NM   MSOA11CD  \\\n",
       "0  Herefordshire 009D       2b  Prospering countryside life  E02002913   \n",
       "1  Herefordshire 009B       2a  Ageing rural neighbourhoods  E02002913   \n",
       "2  Herefordshire 009A       2c          Remoter communities  E02002913   \n",
       "3  Herefordshire 002D       2d                 Rural traits  E02002906   \n",
       "4  Herefordshire 023D       2c          Remoter communities  E02002927   \n",
       "\n",
       "            MSOA11NM    LAD17CD                   LAD17NM LACCD  \\\n",
       "0  Herefordshire 009  E06000019  Herefordshire, County of  3a2r   \n",
       "1  Herefordshire 009  E06000019  Herefordshire, County of  3a2r   \n",
       "2  Herefordshire 009  E06000019  Herefordshire, County of  3a2r   \n",
       "3  Herefordshire 002  E06000019  Herefordshire, County of  3a2r   \n",
       "4  Herefordshire 023  E06000019  Herefordshire, County of  3a2r   \n",
       "\n",
       "                                  LACNM    RGN11CD        RGN11NM   CTRY11CD  \\\n",
       "0  Sparse English and Welsh Countryside  E12000005  West Midlands  E92000001   \n",
       "1  Sparse English and Welsh Countryside  E12000005  West Midlands  E92000001   \n",
       "2  Sparse English and Welsh Countryside  E12000005  West Midlands  E92000001   \n",
       "3  Sparse English and Welsh Countryside  E12000005  West Midlands  E92000001   \n",
       "4  Sparse English and Welsh Countryside  E12000005  West Midlands  E92000001   \n",
       "\n",
       "  CTRY11NM    FID  \n",
       "0  England  11001  \n",
       "1  England  11002  \n",
       "2  England  11003  \n",
       "3  England  11004  \n",
       "4  England  11005  "
      ]
     },
     "execution_count": 21,
     "metadata": {},
     "output_type": "execute_result"
    }
   ],
   "source": [
    "outputArea.head()"
   ]
  },
  {
   "cell_type": "markdown",
   "metadata": {},
   "source": [
    "##### Name the new dataset 'areaTransfer'"
   ]
  },
  {
   "cell_type": "code",
   "execution_count": 22,
   "metadata": {},
   "outputs": [],
   "source": [
    "areaTransfer = outputArea.loc[:,['LSOA11CD','LAD17NM']].drop_duplicates()"
   ]
  },
  {
   "cell_type": "code",
   "execution_count": 23,
   "metadata": {},
   "outputs": [],
   "source": [
    "areaTransfer.to_csv('areaTransfer.csv',index=None)"
   ]
  },
  {
   "cell_type": "markdown",
   "metadata": {},
   "source": [
    "#### Note: if you get error 'cannot allocate memory', please change to another path."
   ]
  },
  {
   "cell_type": "code",
   "execution_count": 24,
   "metadata": {},
   "outputs": [],
   "source": [
    "!cp areaTransfer.csv /tmp/areaTransfer.csv"
   ]
  },
  {
   "cell_type": "code",
   "execution_count": 25,
   "metadata": {},
   "outputs": [
    {
     "name": "stdout",
     "output_type": "stream",
     "text": [
      " * postgresql://student@/project4\n",
      "Done.\n",
      "Done.\n"
     ]
    },
    {
     "data": {
      "text/plain": [
       "[]"
      ]
     },
     "execution_count": 25,
     "metadata": {},
     "output_type": "execute_result"
    }
   ],
   "source": [
    "%%sql \n",
    "DROP TABLE IF EXISTS areaTransfer;\n",
    "\n",
    "CREATE TABLE areaTransfer(\n",
    "    LSOACD VARCHAR(50),\n",
    "    LA VARCHAR(50)\n",
    ");"
   ]
  },
  {
   "cell_type": "markdown",
   "metadata": {},
   "source": [
    "#### Note: if you get error 'cannot allocate memory', please change to another path."
   ]
  },
  {
   "cell_type": "code",
   "execution_count": 26,
   "metadata": {},
   "outputs": [
    {
     "name": "stdout",
     "output_type": "stream",
     "text": [
      " * postgresql://student@/project4\n",
      "41729 rows affected.\n"
     ]
    },
    {
     "data": {
      "text/plain": [
       "[]"
      ]
     },
     "execution_count": 26,
     "metadata": {},
     "output_type": "execute_result"
    }
   ],
   "source": [
    "%%sql\n",
    "COPY areaTransfer \n",
    "FROM '/tmp/areaTransfer.csv'\n",
    "CSV\n",
    "HEADER\n",
    ";"
   ]
  },
  {
   "cell_type": "markdown",
   "metadata": {},
   "source": [
    "#### The below is checking the number of null values of lsoa in accidents table after left join with areaTransfer"
   ]
  },
  {
   "cell_type": "code",
   "execution_count": 27,
   "metadata": {},
   "outputs": [
    {
     "name": "stdout",
     "output_type": "stream",
     "text": [
      " * postgresql://student@/project4\n",
      "1 rows affected.\n"
     ]
    },
    {
     "data": {
      "text/html": [
       "<table>\n",
       "    <tr>\n",
       "        <th>count</th>\n",
       "    </tr>\n",
       "    <tr>\n",
       "        <td>28718</td>\n",
       "    </tr>\n",
       "</table>"
      ],
      "text/plain": [
       "[(28718,)]"
      ]
     },
     "execution_count": 27,
     "metadata": {},
     "output_type": "execute_result"
    }
   ],
   "source": [
    "%%sql\n",
    "SELECT COUNT(*)\n",
    "FROM(SELECT accidents.lsoa, areaTransfer.LSOACD, areaTransfer.LA\n",
    "     FROM accidents\n",
    "     LEFT OUTER JOIN areaTransfer\n",
    "     ON accidents.lsoa = areaTransfer.LSOACD) AS foo\n",
    "WHERE foo.lsoa IS NULL;"
   ]
  },
  {
   "cell_type": "markdown",
   "metadata": {},
   "source": [
    "The number of null values is 28718."
   ]
  },
  {
   "cell_type": "markdown",
   "metadata": {},
   "source": [
    "### Note: the below code is checking the value that LSOACD(lsoa code) in 'areaTransfer' cannot find the match in lsoa of table 'accidents'."
   ]
  },
  {
   "cell_type": "code",
   "execution_count": 28,
   "metadata": {},
   "outputs": [
    {
     "name": "stdout",
     "output_type": "stream",
     "text": [
      " * postgresql://student@/project4\n",
      "1 rows affected.\n"
     ]
    },
    {
     "data": {
      "text/html": [
       "<table>\n",
       "    <tr>\n",
       "        <th>count</th>\n",
       "    </tr>\n",
       "    <tr>\n",
       "        <td>37943</td>\n",
       "    </tr>\n",
       "</table>"
      ],
      "text/plain": [
       "[(37943,)]"
      ]
     },
     "execution_count": 28,
     "metadata": {},
     "output_type": "execute_result"
    }
   ],
   "source": [
    "%%sql\n",
    "SELECT COUNT(*)\n",
    "FROM(SELECT accidents.lsoa, areaTransfer.LSOACD, areaTransfer.LA\n",
    "     FROM accidents\n",
    "     LEFT OUTER JOIN areaTransfer\n",
    "     ON accidents.lsoa = areaTransfer.LSOACD) AS foo\n",
    "WHERE foo.la IS NULL;"
   ]
  },
  {
   "cell_type": "markdown",
   "metadata": {},
   "source": [
    "The number is 37943 that LSOA code cannot match with lsoa in table 'accidents'."
   ]
  },
  {
   "cell_type": "markdown",
   "metadata": {},
   "source": [
    "Therefore, the number is 9225 (37943 - 28718) that 'LSOACD' in 'areaTransfer' cannot match with 'lsoa' in table 'accidents'."
   ]
  },
  {
   "cell_type": "markdown",
   "metadata": {},
   "source": [
    "#### Add new column region in table 'accidents'"
   ]
  },
  {
   "cell_type": "code",
   "execution_count": 29,
   "metadata": {},
   "outputs": [
    {
     "name": "stdout",
     "output_type": "stream",
     "text": [
      " * postgresql://student@/project4\n",
      "Done.\n"
     ]
    },
    {
     "data": {
      "text/plain": [
       "[]"
      ]
     },
     "execution_count": 29,
     "metadata": {},
     "output_type": "execute_result"
    }
   ],
   "source": [
    "%%sql\n",
    "ALTER TABLE accidents\n",
    "ADD COLUMN REGION VARCHAR(100);"
   ]
  },
  {
   "cell_type": "code",
   "execution_count": 30,
   "metadata": {},
   "outputs": [
    {
     "name": "stdout",
     "output_type": "stream",
     "text": [
      " * postgresql://student@/project4\n",
      "5 rows affected.\n"
     ]
    },
    {
     "data": {
      "text/html": [
       "<table>\n",
       "    <tr>\n",
       "        <th>index</th>\n",
       "        <th>easting_osgr</th>\n",
       "        <th>northing_osgr</th>\n",
       "        <th>longitude</th>\n",
       "        <th>latitude</th>\n",
       "        <th>police_force</th>\n",
       "        <th>severity</th>\n",
       "        <th>number_vehicles</th>\n",
       "        <th>number_casualties</th>\n",
       "        <th>date</th>\n",
       "        <th>day_week</th>\n",
       "        <th>time</th>\n",
       "        <th>district</th>\n",
       "        <th>highway</th>\n",
       "        <th>first_road_class</th>\n",
       "        <th>first_road_number</th>\n",
       "        <th>road_type</th>\n",
       "        <th>speed_limit</th>\n",
       "        <th>junction_detail</th>\n",
       "        <th>junction_control</th>\n",
       "        <th>second_road_class</th>\n",
       "        <th>second_road_number</th>\n",
       "        <th>pedestrian_crossing_human_control</th>\n",
       "        <th>pedestrian_crossing_physical_facilities</th>\n",
       "        <th>light_conditions</th>\n",
       "        <th>weather_condition</th>\n",
       "        <th>road_surface_condition</th>\n",
       "        <th>special_condition</th>\n",
       "        <th>carriageway_hazards</th>\n",
       "        <th>urban_or_rural</th>\n",
       "        <th>did_police_attend</th>\n",
       "        <th>lsoa</th>\n",
       "        <th>year</th>\n",
       "        <th>region</th>\n",
       "    </tr>\n",
       "    <tr>\n",
       "        <td>201201BS70001</td>\n",
       "        <td>527200</td>\n",
       "        <td>178760</td>\n",
       "        <td>-0.169101</td>\n",
       "        <td>51.493429</td>\n",
       "        <td>1</td>\n",
       "        <td>3</td>\n",
       "        <td>2</td>\n",
       "        <td>1</td>\n",
       "        <td>2012-01-19 00:00:00</td>\n",
       "        <td>5</td>\n",
       "        <td>20:35:00</td>\n",
       "        <td>12</td>\n",
       "        <td>E09000020</td>\n",
       "        <td>3</td>\n",
       "        <td>308</td>\n",
       "        <td>Single carriageway</td>\n",
       "        <td>30</td>\n",
       "        <td>None</td>\n",
       "        <td>Automatic traffic signal</td>\n",
       "        <td>5</td>\n",
       "        <td>0</td>\n",
       "        <td>None within 50 metres</td>\n",
       "        <td>Pedestrian phase at traffic signal junction</td>\n",
       "        <td>Darkness: Street lights present and lit</td>\n",
       "        <td>Fine without high winds</td>\n",
       "        <td>Dry</td>\n",
       "        <td>None</td>\n",
       "        <td>None</td>\n",
       "        <td>1</td>\n",
       "        <td>True</td>\n",
       "        <td>E01002821</td>\n",
       "        <td>2012</td>\n",
       "        <td>None</td>\n",
       "    </tr>\n",
       "    <tr>\n",
       "        <td>201201BS70002</td>\n",
       "        <td>524930</td>\n",
       "        <td>181430</td>\n",
       "        <td>-0.20083800000000002</td>\n",
       "        <td>51.517931</td>\n",
       "        <td>1</td>\n",
       "        <td>3</td>\n",
       "        <td>2</td>\n",
       "        <td>1</td>\n",
       "        <td>2012-01-04 00:00:00</td>\n",
       "        <td>4</td>\n",
       "        <td>17:00:00</td>\n",
       "        <td>1</td>\n",
       "        <td>E09000033</td>\n",
       "        <td>4</td>\n",
       "        <td>412</td>\n",
       "        <td>Single carriageway</td>\n",
       "        <td>30</td>\n",
       "        <td>None</td>\n",
       "        <td>Giveway or uncontrolled</td>\n",
       "        <td>6</td>\n",
       "        <td>0</td>\n",
       "        <td>None within 50 metres</td>\n",
       "        <td>No physical crossing within 50 meters</td>\n",
       "        <td>Darkness: Street lights present and lit</td>\n",
       "        <td>Fine without high winds</td>\n",
       "        <td>Dry</td>\n",
       "        <td>None</td>\n",
       "        <td>None</td>\n",
       "        <td>1</td>\n",
       "        <td>True</td>\n",
       "        <td>E01004760</td>\n",
       "        <td>2012</td>\n",
       "        <td>None</td>\n",
       "    </tr>\n",
       "    <tr>\n",
       "        <td>201201BS70003</td>\n",
       "        <td>525860</td>\n",
       "        <td>178080</td>\n",
       "        <td>-0.188636</td>\n",
       "        <td>51.487618</td>\n",
       "        <td>1</td>\n",
       "        <td>3</td>\n",
       "        <td>2</td>\n",
       "        <td>1</td>\n",
       "        <td>2012-01-10 00:00:00</td>\n",
       "        <td>3</td>\n",
       "        <td>10:07:00</td>\n",
       "        <td>12</td>\n",
       "        <td>E09000020</td>\n",
       "        <td>3</td>\n",
       "        <td>3220</td>\n",
       "        <td>One way street</td>\n",
       "        <td>30</td>\n",
       "        <td>None</td>\n",
       "        <td>Giveway or uncontrolled</td>\n",
       "        <td>6</td>\n",
       "        <td>0</td>\n",
       "        <td>None within 50 metres</td>\n",
       "        <td>non-junction pedestrian crossing</td>\n",
       "        <td>Daylight: Street light present</td>\n",
       "        <td>Fine without high winds</td>\n",
       "        <td>Dry</td>\n",
       "        <td>None</td>\n",
       "        <td>None</td>\n",
       "        <td>1</td>\n",
       "        <td>True</td>\n",
       "        <td>E01002893</td>\n",
       "        <td>2012</td>\n",
       "        <td>None</td>\n",
       "    </tr>\n",
       "    <tr>\n",
       "        <td>201201BS70004</td>\n",
       "        <td>524980</td>\n",
       "        <td>181030</td>\n",
       "        <td>-0.200259</td>\n",
       "        <td>51.514325</td>\n",
       "        <td>1</td>\n",
       "        <td>3</td>\n",
       "        <td>1</td>\n",
       "        <td>1</td>\n",
       "        <td>2012-01-18 00:00:00</td>\n",
       "        <td>4</td>\n",
       "        <td>12:20:00</td>\n",
       "        <td>12</td>\n",
       "        <td>E09000020</td>\n",
       "        <td>5</td>\n",
       "        <td>0</td>\n",
       "        <td>Single carriageway</td>\n",
       "        <td>30</td>\n",
       "        <td>None</td>\n",
       "        <td>Giveway or uncontrolled</td>\n",
       "        <td>6</td>\n",
       "        <td>0</td>\n",
       "        <td>None within 50 metres</td>\n",
       "        <td>No physical crossing within 50 meters</td>\n",
       "        <td>Daylight: Street light present</td>\n",
       "        <td>Fine without high winds</td>\n",
       "        <td>Dry</td>\n",
       "        <td>None</td>\n",
       "        <td>None</td>\n",
       "        <td>1</td>\n",
       "        <td>True</td>\n",
       "        <td>E01002886</td>\n",
       "        <td>2012</td>\n",
       "        <td>None</td>\n",
       "    </tr>\n",
       "    <tr>\n",
       "        <td>201201BS70005</td>\n",
       "        <td>526170</td>\n",
       "        <td>179200</td>\n",
       "        <td>-0.183773</td>\n",
       "        <td>51.497614</td>\n",
       "        <td>1</td>\n",
       "        <td>3</td>\n",
       "        <td>1</td>\n",
       "        <td>1</td>\n",
       "        <td>2012-01-17 00:00:00</td>\n",
       "        <td>3</td>\n",
       "        <td>20:24:00</td>\n",
       "        <td>12</td>\n",
       "        <td>E09000020</td>\n",
       "        <td>4</td>\n",
       "        <td>325</td>\n",
       "        <td>Single carriageway</td>\n",
       "        <td>30</td>\n",
       "        <td>None</td>\n",
       "        <td>Giveway or uncontrolled</td>\n",
       "        <td>6</td>\n",
       "        <td>0</td>\n",
       "        <td>None within 50 metres</td>\n",
       "        <td>No physical crossing within 50 meters</td>\n",
       "        <td>Darkness: Street lights present and lit</td>\n",
       "        <td>Fine without high winds</td>\n",
       "        <td>Dry</td>\n",
       "        <td>None</td>\n",
       "        <td>None</td>\n",
       "        <td>1</td>\n",
       "        <td>True</td>\n",
       "        <td>E01002890</td>\n",
       "        <td>2012</td>\n",
       "        <td>None</td>\n",
       "    </tr>\n",
       "</table>"
      ],
      "text/plain": [
       "[('201201BS70001', Decimal('527200'), Decimal('178760'), Decimal('-0.169101'), Decimal('51.493429'), '1', Decimal('3'), Decimal('2'), Decimal('1'), datetime.datetime(2012, 1, 19, 0, 0), Decimal('5'), datetime.time(20, 35), Decimal('12'), 'E09000020', Decimal('3'), Decimal('308'), 'Single carriageway', Decimal('30'), None, 'Automatic traffic signal', Decimal('5'), Decimal('0'), 'None within 50 metres', 'Pedestrian phase at traffic signal junction', 'Darkness: Street lights present and lit', 'Fine without high winds', 'Dry', 'None', 'None', '1', True, 'E01002821', Decimal('2012'), None),\n",
       " ('201201BS70002', Decimal('524930'), Decimal('181430'), Decimal('-0.20083800000000002'), Decimal('51.517931'), '1', Decimal('3'), Decimal('2'), Decimal('1'), datetime.datetime(2012, 1, 4, 0, 0), Decimal('4'), datetime.time(17, 0), Decimal('1'), 'E09000033', Decimal('4'), Decimal('412'), 'Single carriageway', Decimal('30'), None, 'Giveway or uncontrolled', Decimal('6'), Decimal('0'), 'None within 50 metres', 'No physical crossing within 50 meters', 'Darkness: Street lights present and lit', 'Fine without high winds', 'Dry', 'None', 'None', '1', True, 'E01004760', Decimal('2012'), None),\n",
       " ('201201BS70003', Decimal('525860'), Decimal('178080'), Decimal('-0.188636'), Decimal('51.487618'), '1', Decimal('3'), Decimal('2'), Decimal('1'), datetime.datetime(2012, 1, 10, 0, 0), Decimal('3'), datetime.time(10, 7), Decimal('12'), 'E09000020', Decimal('3'), Decimal('3220'), 'One way street', Decimal('30'), None, 'Giveway or uncontrolled', Decimal('6'), Decimal('0'), 'None within 50 metres', 'non-junction pedestrian crossing', 'Daylight: Street light present', 'Fine without high winds', 'Dry', 'None', 'None', '1', True, 'E01002893', Decimal('2012'), None),\n",
       " ('201201BS70004', Decimal('524980'), Decimal('181030'), Decimal('-0.200259'), Decimal('51.514325'), '1', Decimal('3'), Decimal('1'), Decimal('1'), datetime.datetime(2012, 1, 18, 0, 0), Decimal('4'), datetime.time(12, 20), Decimal('12'), 'E09000020', Decimal('5'), Decimal('0'), 'Single carriageway', Decimal('30'), None, 'Giveway or uncontrolled', Decimal('6'), Decimal('0'), 'None within 50 metres', 'No physical crossing within 50 meters', 'Daylight: Street light present', 'Fine without high winds', 'Dry', 'None', 'None', '1', True, 'E01002886', Decimal('2012'), None),\n",
       " ('201201BS70005', Decimal('526170'), Decimal('179200'), Decimal('-0.183773'), Decimal('51.497614'), '1', Decimal('3'), Decimal('1'), Decimal('1'), datetime.datetime(2012, 1, 17, 0, 0), Decimal('3'), datetime.time(20, 24), Decimal('12'), 'E09000020', Decimal('4'), Decimal('325'), 'Single carriageway', Decimal('30'), None, 'Giveway or uncontrolled', Decimal('6'), Decimal('0'), 'None within 50 metres', 'No physical crossing within 50 meters', 'Darkness: Street lights present and lit', 'Fine without high winds', 'Dry', 'None', 'None', '1', True, 'E01002890', Decimal('2012'), None)]"
      ]
     },
     "execution_count": 30,
     "metadata": {},
     "output_type": "execute_result"
    }
   ],
   "source": [
    "%%sql\n",
    "SELECT * from accidents LIMIT 5;"
   ]
  },
  {
   "cell_type": "code",
   "execution_count": 31,
   "metadata": {},
   "outputs": [
    {
     "name": "stdout",
     "output_type": "stream",
     "text": [
      " * postgresql://student@/project4\n",
      "426754 rows affected.\n"
     ]
    },
    {
     "data": {
      "text/plain": [
       "[]"
      ]
     },
     "execution_count": 31,
     "metadata": {},
     "output_type": "execute_result"
    }
   ],
   "source": [
    "%%sql\n",
    "UPDATE accidents\n",
    "SET region = areaTransfer.LA\n",
    "FROM areaTransfer\n",
    "WHERE accidents.lsoa IS NOT NULL\n",
    "AND accidents.lsoa = areaTransfer.LSOACD;"
   ]
  },
  {
   "cell_type": "markdown",
   "metadata": {},
   "source": [
    "As we can see, the number of affected rows is 426754, the number that is 464697(the all rows) minus 37043(the number that LSOA code cannot match with lsoa\n",
    "in table 'accident')."
   ]
  },
  {
   "cell_type": "markdown",
   "metadata": {},
   "source": [
    "For example, there is lsoa 'E01000004' in accidents table but that lsoa cannot be found in LSOA code."
   ]
  },
  {
   "cell_type": "code",
   "execution_count": 32,
   "metadata": {},
   "outputs": [
    {
     "name": "stdout",
     "output_type": "stream",
     "text": [
      " * postgresql://student@/project4\n",
      "0 rows affected.\n"
     ]
    },
    {
     "data": {
      "text/html": [
       "<table>\n",
       "    <tr>\n",
       "        <th>lsoacd</th>\n",
       "        <th>la</th>\n",
       "    </tr>\n",
       "</table>"
      ],
      "text/plain": [
       "[]"
      ]
     },
     "execution_count": 32,
     "metadata": {},
     "output_type": "execute_result"
    }
   ],
   "source": [
    "%%sql\n",
    "SELECT * FROM areaTransfer\n",
    "WHERE LSOACD = 'E01000004'\n",
    "LIMIT 5;"
   ]
  },
  {
   "cell_type": "markdown",
   "metadata": {},
   "source": [
    "## After wrangling the data, next we base on our star schema to create dimensional database. "
   ]
  },
  {
   "cell_type": "markdown",
   "metadata": {},
   "source": [
    "## Our star schema"
   ]
  },
  {
   "cell_type": "code",
   "execution_count": 74,
   "metadata": {},
   "outputs": [
    {
     "data": {
      "text/html": [
       "<img src=\"https://i.ibb.co/s6RQJwN/Screen-Shot-2018-12-07-at-6-34-29-PM.png\"/>"
      ],
      "text/plain": [
       "<IPython.core.display.Image object>"
      ]
     },
     "execution_count": 74,
     "metadata": {},
     "output_type": "execute_result"
    }
   ],
   "source": [
    "from IPython.display import Image\n",
    "Image(url=\"https://i.ibb.co/s6RQJwN/Screen-Shot-2018-12-07-at-6-34-29-PM.png\")"
   ]
  },
  {
   "cell_type": "markdown",
   "metadata": {},
   "source": [
    "## we follow these steps to create our dimensional tables\n",
    "* Step1: create new dimension table\n",
    "* Step2: insert value into the dimension table from fact table\n",
    "* Step3: add new column 'key'(dimension key) into fact table\n",
    "* Step4: check whether there are null values in tables and assign value to null values\n",
    "* Step5: update value 'key' in fact table based on dimension table"
   ]
  },
  {
   "cell_type": "markdown",
   "metadata": {},
   "source": [
    "### Dimensional Table (date)"
   ]
  },
  {
   "cell_type": "markdown",
   "metadata": {},
   "source": [
    "#### Create table named 'date'"
   ]
  },
  {
   "cell_type": "code",
   "execution_count": 33,
   "metadata": {},
   "outputs": [
    {
     "name": "stdout",
     "output_type": "stream",
     "text": [
      " * postgresql://student@/project4\n",
      "Done.\n",
      "Done.\n"
     ]
    },
    {
     "data": {
      "text/plain": [
       "[]"
      ]
     },
     "execution_count": 33,
     "metadata": {},
     "output_type": "execute_result"
    }
   ],
   "source": [
    "%%sql\n",
    "DROP TABLE IF EXISTS date;\n",
    "\n",
    "CREATE TABLE date (\n",
    "    date_key SERIAL PRIMARY KEY,\n",
    "    date TIMESTAMP,\n",
    "    year NUMERIC,\n",
    "    month VARCHAR(10),\n",
    "    day VARCHAR(10),\n",
    "    day_of_week NUMERIC,\n",
    "    time TIME\n",
    ");"
   ]
  },
  {
   "cell_type": "markdown",
   "metadata": {},
   "source": [
    "#### Insert value into table 'date' from table 'accidents'"
   ]
  },
  {
   "cell_type": "code",
   "execution_count": 34,
   "metadata": {},
   "outputs": [
    {
     "name": "stdout",
     "output_type": "stream",
     "text": [
      " * postgresql://student@/project4\n",
      "283723 rows affected.\n"
     ]
    },
    {
     "data": {
      "text/plain": [
       "[]"
      ]
     },
     "execution_count": 34,
     "metadata": {},
     "output_type": "execute_result"
    }
   ],
   "source": [
    "%%sql\n",
    "INSERT INTO date (date, year, month, day, day_of_week, time)\n",
    "SELECT DISTINCT date, year, TO_CHAR(date,'MM'), TO_CHAR(date,'DD'), day_week, time\n",
    "FROM accidents;"
   ]
  },
  {
   "cell_type": "markdown",
   "metadata": {},
   "source": [
    "See some of the values."
   ]
  },
  {
   "cell_type": "code",
   "execution_count": 35,
   "metadata": {},
   "outputs": [
    {
     "name": "stdout",
     "output_type": "stream",
     "text": [
      " * postgresql://student@/project4\n",
      "5 rows affected.\n"
     ]
    },
    {
     "data": {
      "text/html": [
       "<table>\n",
       "    <tr>\n",
       "        <th>date_key</th>\n",
       "        <th>date</th>\n",
       "        <th>year</th>\n",
       "        <th>month</th>\n",
       "        <th>day</th>\n",
       "        <th>day_of_week</th>\n",
       "        <th>time</th>\n",
       "    </tr>\n",
       "    <tr>\n",
       "        <td>1</td>\n",
       "        <td>2012-01-01 00:00:00</td>\n",
       "        <td>2012</td>\n",
       "        <td>01</td>\n",
       "        <td>01</td>\n",
       "        <td>1</td>\n",
       "        <td>00:04:00</td>\n",
       "    </tr>\n",
       "    <tr>\n",
       "        <td>2</td>\n",
       "        <td>2012-01-01 00:00:00</td>\n",
       "        <td>2012</td>\n",
       "        <td>01</td>\n",
       "        <td>01</td>\n",
       "        <td>1</td>\n",
       "        <td>00:05:00</td>\n",
       "    </tr>\n",
       "    <tr>\n",
       "        <td>3</td>\n",
       "        <td>2012-01-01 00:00:00</td>\n",
       "        <td>2012</td>\n",
       "        <td>01</td>\n",
       "        <td>01</td>\n",
       "        <td>1</td>\n",
       "        <td>00:09:00</td>\n",
       "    </tr>\n",
       "    <tr>\n",
       "        <td>4</td>\n",
       "        <td>2012-01-01 00:00:00</td>\n",
       "        <td>2012</td>\n",
       "        <td>01</td>\n",
       "        <td>01</td>\n",
       "        <td>1</td>\n",
       "        <td>00:15:00</td>\n",
       "    </tr>\n",
       "    <tr>\n",
       "        <td>5</td>\n",
       "        <td>2012-01-01 00:00:00</td>\n",
       "        <td>2012</td>\n",
       "        <td>01</td>\n",
       "        <td>01</td>\n",
       "        <td>1</td>\n",
       "        <td>00:30:00</td>\n",
       "    </tr>\n",
       "</table>"
      ],
      "text/plain": [
       "[(1, datetime.datetime(2012, 1, 1, 0, 0), Decimal('2012'), '01', '01', Decimal('1'), datetime.time(0, 4)),\n",
       " (2, datetime.datetime(2012, 1, 1, 0, 0), Decimal('2012'), '01', '01', Decimal('1'), datetime.time(0, 5)),\n",
       " (3, datetime.datetime(2012, 1, 1, 0, 0), Decimal('2012'), '01', '01', Decimal('1'), datetime.time(0, 9)),\n",
       " (4, datetime.datetime(2012, 1, 1, 0, 0), Decimal('2012'), '01', '01', Decimal('1'), datetime.time(0, 15)),\n",
       " (5, datetime.datetime(2012, 1, 1, 0, 0), Decimal('2012'), '01', '01', Decimal('1'), datetime.time(0, 30))]"
      ]
     },
     "execution_count": 35,
     "metadata": {},
     "output_type": "execute_result"
    }
   ],
   "source": [
    "%%sql\n",
    "SELECT * FROM date\n",
    "LIMIT 5;"
   ]
  },
  {
   "cell_type": "markdown",
   "metadata": {},
   "source": [
    "#### Add new attribute date_key in accidents table"
   ]
  },
  {
   "cell_type": "code",
   "execution_count": 36,
   "metadata": {},
   "outputs": [
    {
     "name": "stdout",
     "output_type": "stream",
     "text": [
      " * postgresql://student@/project4\n",
      "Done.\n"
     ]
    },
    {
     "data": {
      "text/plain": [
       "[]"
      ]
     },
     "execution_count": 36,
     "metadata": {},
     "output_type": "execute_result"
    }
   ],
   "source": [
    "%%sql\n",
    "ALTER TABLE accidents\n",
    "ADD COLUMN date_key INTEGER,\n",
    "ADD CONSTRAINT fk_date_key\n",
    "    FOREIGN KEY (date_key)\n",
    "    REFERENCES date (date_key);"
   ]
  },
  {
   "cell_type": "markdown",
   "metadata": {},
   "source": [
    "#### Check whether there is null value in each attributes"
   ]
  },
  {
   "cell_type": "code",
   "execution_count": 37,
   "metadata": {},
   "outputs": [
    {
     "name": "stdout",
     "output_type": "stream",
     "text": [
      " * postgresql://student@/project4\n",
      "1 rows affected.\n"
     ]
    },
    {
     "data": {
      "text/html": [
       "<table>\n",
       "    <tr>\n",
       "        <th>count</th>\n",
       "    </tr>\n",
       "    <tr>\n",
       "        <td>0</td>\n",
       "    </tr>\n",
       "</table>"
      ],
      "text/plain": [
       "[(0,)]"
      ]
     },
     "execution_count": 37,
     "metadata": {},
     "output_type": "execute_result"
    }
   ],
   "source": [
    "%%sql\n",
    "SELECT COUNT(*)\n",
    "FROM date\n",
    "WHERE date IS NULL;"
   ]
  },
  {
   "cell_type": "code",
   "execution_count": 38,
   "metadata": {},
   "outputs": [
    {
     "name": "stdout",
     "output_type": "stream",
     "text": [
      " * postgresql://student@/project4\n",
      "1 rows affected.\n"
     ]
    },
    {
     "data": {
      "text/html": [
       "<table>\n",
       "    <tr>\n",
       "        <th>count</th>\n",
       "    </tr>\n",
       "    <tr>\n",
       "        <td>0</td>\n",
       "    </tr>\n",
       "</table>"
      ],
      "text/plain": [
       "[(0,)]"
      ]
     },
     "execution_count": 38,
     "metadata": {},
     "output_type": "execute_result"
    }
   ],
   "source": [
    "%%sql\n",
    "SELECT COUNT(*)\n",
    "FROM date\n",
    "WHERE year IS NULL;"
   ]
  },
  {
   "cell_type": "code",
   "execution_count": 39,
   "metadata": {},
   "outputs": [
    {
     "name": "stdout",
     "output_type": "stream",
     "text": [
      " * postgresql://student@/project4\n",
      "1 rows affected.\n"
     ]
    },
    {
     "data": {
      "text/html": [
       "<table>\n",
       "    <tr>\n",
       "        <th>count</th>\n",
       "    </tr>\n",
       "    <tr>\n",
       "        <td>0</td>\n",
       "    </tr>\n",
       "</table>"
      ],
      "text/plain": [
       "[(0,)]"
      ]
     },
     "execution_count": 39,
     "metadata": {},
     "output_type": "execute_result"
    }
   ],
   "source": [
    "%%sql\n",
    "SELECT COUNT(*)\n",
    "FROM date\n",
    "WHERE month IS NULL;"
   ]
  },
  {
   "cell_type": "code",
   "execution_count": 40,
   "metadata": {},
   "outputs": [
    {
     "name": "stdout",
     "output_type": "stream",
     "text": [
      " * postgresql://student@/project4\n",
      "1 rows affected.\n"
     ]
    },
    {
     "data": {
      "text/html": [
       "<table>\n",
       "    <tr>\n",
       "        <th>count</th>\n",
       "    </tr>\n",
       "    <tr>\n",
       "        <td>0</td>\n",
       "    </tr>\n",
       "</table>"
      ],
      "text/plain": [
       "[(0,)]"
      ]
     },
     "execution_count": 40,
     "metadata": {},
     "output_type": "execute_result"
    }
   ],
   "source": [
    "%%sql\n",
    "SELECT COUNT(*)\n",
    "FROM date\n",
    "WHERE day IS NULL;"
   ]
  },
  {
   "cell_type": "code",
   "execution_count": 41,
   "metadata": {},
   "outputs": [
    {
     "name": "stdout",
     "output_type": "stream",
     "text": [
      " * postgresql://student@/project4\n",
      "1 rows affected.\n"
     ]
    },
    {
     "data": {
      "text/html": [
       "<table>\n",
       "    <tr>\n",
       "        <th>count</th>\n",
       "    </tr>\n",
       "    <tr>\n",
       "        <td>0</td>\n",
       "    </tr>\n",
       "</table>"
      ],
      "text/plain": [
       "[(0,)]"
      ]
     },
     "execution_count": 41,
     "metadata": {},
     "output_type": "execute_result"
    }
   ],
   "source": [
    "%%sql\n",
    "SELECT COUNT(*)\n",
    "FROM date\n",
    "WHERE day_of_week IS NULL;"
   ]
  },
  {
   "cell_type": "code",
   "execution_count": 42,
   "metadata": {},
   "outputs": [
    {
     "name": "stdout",
     "output_type": "stream",
     "text": [
      " * postgresql://student@/project4\n",
      "1 rows affected.\n"
     ]
    },
    {
     "data": {
      "text/html": [
       "<table>\n",
       "    <tr>\n",
       "        <th>count</th>\n",
       "    </tr>\n",
       "    <tr>\n",
       "        <td>13</td>\n",
       "    </tr>\n",
       "</table>"
      ],
      "text/plain": [
       "[(13,)]"
      ]
     },
     "execution_count": 42,
     "metadata": {},
     "output_type": "execute_result"
    }
   ],
   "source": [
    "%%sql\n",
    "SELECT COUNT(*)\n",
    "FROM date\n",
    "WHERE time IS NULL;"
   ]
  },
  {
   "cell_type": "markdown",
   "metadata": {},
   "source": [
    "There is 13 null values in attirbute time, so we need to update the information to prevent error of connecting the relationship \n",
    "between fact table and dimension table."
   ]
  },
  {
   "cell_type": "code",
   "execution_count": 43,
   "metadata": {},
   "outputs": [
    {
     "name": "stdout",
     "output_type": "stream",
     "text": [
      " * postgresql://student@/project4\n",
      "13 rows affected.\n"
     ]
    },
    {
     "data": {
      "text/plain": [
       "[]"
      ]
     },
     "execution_count": 43,
     "metadata": {},
     "output_type": "execute_result"
    }
   ],
   "source": [
    "%%sql\n",
    "UPDATE date\n",
    "SET time = '00:00:59'\n",
    "WHERE time IS NULL;"
   ]
  },
  {
   "cell_type": "markdown",
   "metadata": {},
   "source": [
    "Since in our data, each values in attirbute time does not have 'second', we can assign second in time so that we know originally it is null value."
   ]
  },
  {
   "cell_type": "markdown",
   "metadata": {},
   "source": [
    "Next, we also update the information of accidents table."
   ]
  },
  {
   "cell_type": "code",
   "execution_count": 44,
   "metadata": {},
   "outputs": [
    {
     "name": "stdout",
     "output_type": "stream",
     "text": [
      " * postgresql://student@/project4\n",
      "13 rows affected.\n"
     ]
    },
    {
     "data": {
      "text/plain": [
       "[]"
      ]
     },
     "execution_count": 44,
     "metadata": {},
     "output_type": "execute_result"
    }
   ],
   "source": [
    "%%sql\n",
    "UPDATE accidents\n",
    "SET time = '00:00:59'\n",
    "WHERE time IS NULL;"
   ]
  },
  {
   "cell_type": "markdown",
   "metadata": {},
   "source": [
    "#### Finally, update information date_key in accidents table "
   ]
  },
  {
   "cell_type": "code",
   "execution_count": 45,
   "metadata": {},
   "outputs": [
    {
     "name": "stdout",
     "output_type": "stream",
     "text": [
      " * postgresql://student@/project4\n",
      "464697 rows affected.\n"
     ]
    },
    {
     "data": {
      "text/plain": [
       "[]"
      ]
     },
     "execution_count": 45,
     "metadata": {},
     "output_type": "execute_result"
    }
   ],
   "source": [
    "%%sql\n",
    "UPDATE accidents\n",
    "SET date_key = date.date_key\n",
    "FROM date\n",
    "WHERE accidents.date = date.date\n",
    "    AND accidents.day_week = date.day_of_week\n",
    "    AND accidents.time = date.time\n",
    "    AND accidents.year = date.year;"
   ]
  },
  {
   "cell_type": "code",
   "execution_count": 46,
   "metadata": {},
   "outputs": [
    {
     "name": "stdout",
     "output_type": "stream",
     "text": [
      " * postgresql://student@/project4\n",
      "5 rows affected.\n"
     ]
    },
    {
     "data": {
      "text/html": [
       "<table>\n",
       "    <tr>\n",
       "        <th>index</th>\n",
       "        <th>easting_osgr</th>\n",
       "        <th>northing_osgr</th>\n",
       "        <th>longitude</th>\n",
       "        <th>latitude</th>\n",
       "        <th>police_force</th>\n",
       "        <th>severity</th>\n",
       "        <th>number_vehicles</th>\n",
       "        <th>number_casualties</th>\n",
       "        <th>date</th>\n",
       "        <th>day_week</th>\n",
       "        <th>time</th>\n",
       "        <th>district</th>\n",
       "        <th>highway</th>\n",
       "        <th>first_road_class</th>\n",
       "        <th>first_road_number</th>\n",
       "        <th>road_type</th>\n",
       "        <th>speed_limit</th>\n",
       "        <th>junction_detail</th>\n",
       "        <th>junction_control</th>\n",
       "        <th>second_road_class</th>\n",
       "        <th>second_road_number</th>\n",
       "        <th>pedestrian_crossing_human_control</th>\n",
       "        <th>pedestrian_crossing_physical_facilities</th>\n",
       "        <th>light_conditions</th>\n",
       "        <th>weather_condition</th>\n",
       "        <th>road_surface_condition</th>\n",
       "        <th>special_condition</th>\n",
       "        <th>carriageway_hazards</th>\n",
       "        <th>urban_or_rural</th>\n",
       "        <th>did_police_attend</th>\n",
       "        <th>lsoa</th>\n",
       "        <th>year</th>\n",
       "        <th>region</th>\n",
       "        <th>date_key</th>\n",
       "    </tr>\n",
       "    <tr>\n",
       "        <td>2.01E+12</td>\n",
       "        <td>352720</td>\n",
       "        <td>702580</td>\n",
       "        <td>-2.7638689999999997</td>\n",
       "        <td>56.213488</td>\n",
       "        <td>94</td>\n",
       "        <td>2</td>\n",
       "        <td>2</td>\n",
       "        <td>3</td>\n",
       "        <td>2012-09-02 00:00:00</td>\n",
       "        <td>1</td>\n",
       "        <td>12:36:00</td>\n",
       "        <td>925</td>\n",
       "        <td>S12000015</td>\n",
       "        <td>4</td>\n",
       "        <td>942</td>\n",
       "        <td>Single carriageway</td>\n",
       "        <td>60</td>\n",
       "        <td>None</td>\n",
       "        <td>None</td>\n",
       "        <td>-1</td>\n",
       "        <td>0</td>\n",
       "        <td>None within 50 metres</td>\n",
       "        <td>No physical crossing within 50 meters</td>\n",
       "        <td>Daylight: Street light present</td>\n",
       "        <td>Fine without high winds</td>\n",
       "        <td>Dry</td>\n",
       "        <td>None</td>\n",
       "        <td>None</td>\n",
       "        <td>2</td>\n",
       "        <td>True</td>\n",
       "        <td>None</td>\n",
       "        <td>2012</td>\n",
       "        <td>None</td>\n",
       "        <td>62103</td>\n",
       "    </tr>\n",
       "    <tr>\n",
       "        <td>201391NM12610</td>\n",
       "        <td>281048</td>\n",
       "        <td>803636</td>\n",
       "        <td>-3.96559</td>\n",
       "        <td>57.10831700000001</td>\n",
       "        <td>91</td>\n",
       "        <td>3</td>\n",
       "        <td>1</td>\n",
       "        <td>1</td>\n",
       "        <td>2013-12-19 00:00:00</td>\n",
       "        <td>5</td>\n",
       "        <td>12:36:00</td>\n",
       "        <td>927</td>\n",
       "        <td>S12000017</td>\n",
       "        <td>3</td>\n",
       "        <td>9</td>\n",
       "        <td>Single carriageway</td>\n",
       "        <td>60</td>\n",
       "        <td>None</td>\n",
       "        <td>None</td>\n",
       "        <td>-1</td>\n",
       "        <td>0</td>\n",
       "        <td>None within 50 metres</td>\n",
       "        <td>No physical crossing within 50 meters</td>\n",
       "        <td>Daylight: Street light present</td>\n",
       "        <td>Snowing with high winds</td>\n",
       "        <td>Snow</td>\n",
       "        <td>None</td>\n",
       "        <td>None</td>\n",
       "        <td>2</td>\n",
       "        <td>True</td>\n",
       "        <td>None</td>\n",
       "        <td>2013</td>\n",
       "        <td>None</td>\n",
       "        <td>184245</td>\n",
       "    </tr>\n",
       "    <tr>\n",
       "        <td>2.01E+12</td>\n",
       "        <td>326810</td>\n",
       "        <td>675600</td>\n",
       "        <td>-3.1741349999999997</td>\n",
       "        <td>55.967847</td>\n",
       "        <td>95</td>\n",
       "        <td>3</td>\n",
       "        <td>1</td>\n",
       "        <td>1</td>\n",
       "        <td>2012-02-16 00:00:00</td>\n",
       "        <td>5</td>\n",
       "        <td>12:37:00</td>\n",
       "        <td>923</td>\n",
       "        <td>S12000036</td>\n",
       "        <td>3</td>\n",
       "        <td>900</td>\n",
       "        <td>Single carriageway</td>\n",
       "        <td>30</td>\n",
       "        <td>None</td>\n",
       "        <td>Giveway or uncontrolled</td>\n",
       "        <td>6</td>\n",
       "        <td>0</td>\n",
       "        <td>None within 50 metres</td>\n",
       "        <td>No physical crossing within 50 meters</td>\n",
       "        <td>Daylight: Street light present</td>\n",
       "        <td>Fine without high winds</td>\n",
       "        <td>Dry</td>\n",
       "        <td>None</td>\n",
       "        <td>None</td>\n",
       "        <td>1</td>\n",
       "        <td>True</td>\n",
       "        <td>None</td>\n",
       "        <td>2012</td>\n",
       "        <td>None</td>\n",
       "        <td>11462</td>\n",
       "    </tr>\n",
       "    <tr>\n",
       "        <td>201391NM12132</td>\n",
       "        <td>295826</td>\n",
       "        <td>820760</td>\n",
       "        <td>-3.7288989999999997</td>\n",
       "        <td>57.26566</td>\n",
       "        <td>91</td>\n",
       "        <td>3</td>\n",
       "        <td>2</td>\n",
       "        <td>2</td>\n",
       "        <td>2013-12-05 00:00:00</td>\n",
       "        <td>5</td>\n",
       "        <td>12:37:00</td>\n",
       "        <td>927</td>\n",
       "        <td>S12000017</td>\n",
       "        <td>3</td>\n",
       "        <td>95</td>\n",
       "        <td>Single carriageway</td>\n",
       "        <td>60</td>\n",
       "        <td>None</td>\n",
       "        <td>None</td>\n",
       "        <td>-1</td>\n",
       "        <td>0</td>\n",
       "        <td>None within 50 metres</td>\n",
       "        <td>No physical crossing within 50 meters</td>\n",
       "        <td>Daylight: Street light present</td>\n",
       "        <td>Snowing with high winds</td>\n",
       "        <td>Snow</td>\n",
       "        <td>None</td>\n",
       "        <td>None</td>\n",
       "        <td>2</td>\n",
       "        <td>True</td>\n",
       "        <td>None</td>\n",
       "        <td>2013</td>\n",
       "        <td>None</td>\n",
       "        <td>180286</td>\n",
       "    </tr>\n",
       "    <tr>\n",
       "        <td>2.01E+12</td>\n",
       "        <td>371678</td>\n",
       "        <td>635307</td>\n",
       "        <td>-2.451152</td>\n",
       "        <td>55.610569999999996</td>\n",
       "        <td>95</td>\n",
       "        <td>3</td>\n",
       "        <td>2</td>\n",
       "        <td>1</td>\n",
       "        <td>2014-04-05 00:00:00</td>\n",
       "        <td>7</td>\n",
       "        <td>12:37:00</td>\n",
       "        <td>914</td>\n",
       "        <td>S12000026</td>\n",
       "        <td>4</td>\n",
       "        <td>6364</td>\n",
       "        <td>Dual carriageway</td>\n",
       "        <td>60</td>\n",
       "        <td>None</td>\n",
       "        <td>Giveway or uncontrolled</td>\n",
       "        <td>3</td>\n",
       "        <td>6089</td>\n",
       "        <td>None within 50 metres</td>\n",
       "        <td>No physical crossing within 50 meters</td>\n",
       "        <td>Daylight: Street light present</td>\n",
       "        <td>Fine without high winds</td>\n",
       "        <td>Dry</td>\n",
       "        <td>None</td>\n",
       "        <td>None</td>\n",
       "        <td>2</td>\n",
       "        <td>True</td>\n",
       "        <td>None</td>\n",
       "        <td>2014</td>\n",
       "        <td>None</td>\n",
       "        <td>211333</td>\n",
       "    </tr>\n",
       "</table>"
      ],
      "text/plain": [
       "[('2.01E+12', Decimal('352720'), Decimal('702580'), Decimal('-2.7638689999999997'), Decimal('56.213488'), '94', Decimal('2'), Decimal('2'), Decimal('3'), datetime.datetime(2012, 9, 2, 0, 0), Decimal('1'), datetime.time(12, 36), Decimal('925'), 'S12000015', Decimal('4'), Decimal('942'), 'Single carriageway', Decimal('60'), None, None, Decimal('-1'), Decimal('0'), 'None within 50 metres', 'No physical crossing within 50 meters', 'Daylight: Street light present', 'Fine without high winds', 'Dry', 'None', 'None', '2', True, None, Decimal('2012'), None, 62103),\n",
       " ('201391NM12610', Decimal('281048'), Decimal('803636'), Decimal('-3.96559'), Decimal('57.10831700000001'), '91', Decimal('3'), Decimal('1'), Decimal('1'), datetime.datetime(2013, 12, 19, 0, 0), Decimal('5'), datetime.time(12, 36), Decimal('927'), 'S12000017', Decimal('3'), Decimal('9'), 'Single carriageway', Decimal('60'), None, None, Decimal('-1'), Decimal('0'), 'None within 50 metres', 'No physical crossing within 50 meters', 'Daylight: Street light present', 'Snowing with high winds', 'Snow', 'None', 'None', '2', True, None, Decimal('2013'), None, 184245),\n",
       " ('2.01E+12', Decimal('326810'), Decimal('675600'), Decimal('-3.1741349999999997'), Decimal('55.967847'), '95', Decimal('3'), Decimal('1'), Decimal('1'), datetime.datetime(2012, 2, 16, 0, 0), Decimal('5'), datetime.time(12, 37), Decimal('923'), 'S12000036', Decimal('3'), Decimal('900'), 'Single carriageway', Decimal('30'), None, 'Giveway or uncontrolled', Decimal('6'), Decimal('0'), 'None within 50 metres', 'No physical crossing within 50 meters', 'Daylight: Street light present', 'Fine without high winds', 'Dry', 'None', 'None', '1', True, None, Decimal('2012'), None, 11462),\n",
       " ('201391NM12132', Decimal('295826'), Decimal('820760'), Decimal('-3.7288989999999997'), Decimal('57.26566'), '91', Decimal('3'), Decimal('2'), Decimal('2'), datetime.datetime(2013, 12, 5, 0, 0), Decimal('5'), datetime.time(12, 37), Decimal('927'), 'S12000017', Decimal('3'), Decimal('95'), 'Single carriageway', Decimal('60'), None, None, Decimal('-1'), Decimal('0'), 'None within 50 metres', 'No physical crossing within 50 meters', 'Daylight: Street light present', 'Snowing with high winds', 'Snow', 'None', 'None', '2', True, None, Decimal('2013'), None, 180286),\n",
       " ('2.01E+12', Decimal('371678'), Decimal('635307'), Decimal('-2.451152'), Decimal('55.610569999999996'), '95', Decimal('3'), Decimal('2'), Decimal('1'), datetime.datetime(2014, 4, 5, 0, 0), Decimal('7'), datetime.time(12, 37), Decimal('914'), 'S12000026', Decimal('4'), Decimal('6364'), 'Dual carriageway', Decimal('60'), None, 'Giveway or uncontrolled', Decimal('3'), Decimal('6089'), 'None within 50 metres', 'No physical crossing within 50 meters', 'Daylight: Street light present', 'Fine without high winds', 'Dry', 'None', 'None', '2', True, None, Decimal('2014'), None, 211333)]"
      ]
     },
     "execution_count": 46,
     "metadata": {},
     "output_type": "execute_result"
    }
   ],
   "source": [
    "%%sql\n",
    "SELECT * from accidents\n",
    "WHERE region IS NULL\n",
    "LIMIT 5;"
   ]
  },
  {
   "cell_type": "markdown",
   "metadata": {},
   "source": [
    "### Dimensional Table (condition)"
   ]
  },
  {
   "cell_type": "markdown",
   "metadata": {},
   "source": [
    "We didn't put markdowns for dimensional table(condition) because the steps are same as what we did for dimensional table(data)."
   ]
  },
  {
   "cell_type": "code",
   "execution_count": 47,
   "metadata": {},
   "outputs": [
    {
     "name": "stdout",
     "output_type": "stream",
     "text": [
      " * postgresql://student@/project4\n",
      "Done.\n",
      "Done.\n"
     ]
    },
    {
     "data": {
      "text/plain": [
       "[]"
      ]
     },
     "execution_count": 47,
     "metadata": {},
     "output_type": "execute_result"
    }
   ],
   "source": [
    "%%sql\n",
    "DROP TABLE IF EXISTS condition;\n",
    "\n",
    "CREATE TABLE condition (\n",
    "    condition_key SERIAL PRIMARY KEY,\n",
    "    light_conditions VARCHAR(250),\n",
    "    weather_condition VARCHAR(250),\n",
    "    road_surface_condition VARCHAR(50),\n",
    "    special_condition VARCHAR(250),\n",
    "    carriageway_hazards VARCHAR(250)\n",
    ");"
   ]
  },
  {
   "cell_type": "code",
   "execution_count": 48,
   "metadata": {},
   "outputs": [
    {
     "name": "stdout",
     "output_type": "stream",
     "text": [
      " * postgresql://student@/project4\n",
      "1038 rows affected.\n"
     ]
    },
    {
     "data": {
      "text/plain": [
       "[]"
      ]
     },
     "execution_count": 48,
     "metadata": {},
     "output_type": "execute_result"
    }
   ],
   "source": [
    "%%sql\n",
    "INSERT INTO condition (light_conditions, weather_condition, road_surface_condition, special_condition, carriageway_hazards )\n",
    "SELECT DISTINCT light_conditions, weather_condition, road_surface_condition, special_condition, carriageway_hazards\n",
    "FROM accidents;"
   ]
  },
  {
   "cell_type": "code",
   "execution_count": 49,
   "metadata": {},
   "outputs": [
    {
     "name": "stdout",
     "output_type": "stream",
     "text": [
      " * postgresql://student@/project4\n",
      "Done.\n"
     ]
    },
    {
     "data": {
      "text/plain": [
       "[]"
      ]
     },
     "execution_count": 49,
     "metadata": {},
     "output_type": "execute_result"
    }
   ],
   "source": [
    "%%sql\n",
    "ALTER TABLE accidents\n",
    "ADD COLUMN condition_key INTEGER,\n",
    "ADD CONSTRAINT fk_condition_key\n",
    "    FOREIGN KEY (condition_key)\n",
    "    REFERENCES condition (condition_key);"
   ]
  },
  {
   "cell_type": "code",
   "execution_count": 50,
   "metadata": {},
   "outputs": [
    {
     "name": "stdout",
     "output_type": "stream",
     "text": [
      " * postgresql://student@/project4\n",
      "1 rows affected.\n"
     ]
    },
    {
     "data": {
      "text/html": [
       "<table>\n",
       "    <tr>\n",
       "        <th>count</th>\n",
       "    </tr>\n",
       "    <tr>\n",
       "        <td>755</td>\n",
       "    </tr>\n",
       "</table>"
      ],
      "text/plain": [
       "[(755,)]"
      ]
     },
     "execution_count": 50,
     "metadata": {},
     "output_type": "execute_result"
    }
   ],
   "source": [
    "%%sql\n",
    "SELECT COUNT(*)\n",
    "FROM accidents\n",
    "WHERE road_surface_condition IS NULL;"
   ]
  },
  {
   "cell_type": "code",
   "execution_count": 51,
   "metadata": {},
   "outputs": [
    {
     "name": "stdout",
     "output_type": "stream",
     "text": [
      " * postgresql://student@/project4\n",
      "1 rows affected.\n"
     ]
    },
    {
     "data": {
      "text/html": [
       "<table>\n",
       "    <tr>\n",
       "        <th>count</th>\n",
       "    </tr>\n",
       "    <tr>\n",
       "        <td>2</td>\n",
       "    </tr>\n",
       "</table>"
      ],
      "text/plain": [
       "[(2,)]"
      ]
     },
     "execution_count": 51,
     "metadata": {},
     "output_type": "execute_result"
    }
   ],
   "source": [
    "%%sql\n",
    "SELECT COUNT(*)\n",
    "FROM accidents\n",
    "WHERE special_condition IS NULL;"
   ]
  },
  {
   "cell_type": "code",
   "execution_count": 52,
   "metadata": {},
   "outputs": [
    {
     "name": "stdout",
     "output_type": "stream",
     "text": [
      " * postgresql://student@/project4\n",
      "1 rows affected.\n"
     ]
    },
    {
     "data": {
      "text/html": [
       "<table>\n",
       "    <tr>\n",
       "        <th>count</th>\n",
       "    </tr>\n",
       "    <tr>\n",
       "        <td>3</td>\n",
       "    </tr>\n",
       "</table>"
      ],
      "text/plain": [
       "[(3,)]"
      ]
     },
     "execution_count": 52,
     "metadata": {},
     "output_type": "execute_result"
    }
   ],
   "source": [
    "%%sql\n",
    "SELECT COUNT(*)\n",
    "FROM accidents\n",
    "WHERE carriageway_hazards IS NULL;"
   ]
  },
  {
   "cell_type": "code",
   "execution_count": 53,
   "metadata": {},
   "outputs": [
    {
     "name": "stdout",
     "output_type": "stream",
     "text": [
      " * postgresql://student@/project4\n",
      "755 rows affected.\n",
      "2 rows affected.\n",
      "3 rows affected.\n"
     ]
    },
    {
     "data": {
      "text/plain": [
       "[]"
      ]
     },
     "execution_count": 53,
     "metadata": {},
     "output_type": "execute_result"
    }
   ],
   "source": [
    "%%sql\n",
    "UPDATE accidents\n",
    "SET road_surface_condition = 'unknown'\n",
    "WHERE road_surface_condition IS NULL;\n",
    "\n",
    "UPDATE accidents\n",
    "SET special_condition = 'unknown'\n",
    "WHERE special_condition IS NULL;\n",
    "\n",
    "UPDATE accidents\n",
    "SET carriageway_hazards = 'unknown'\n",
    "WHERE carriageway_hazards IS NULL;"
   ]
  },
  {
   "cell_type": "code",
   "execution_count": 54,
   "metadata": {},
   "outputs": [
    {
     "name": "stdout",
     "output_type": "stream",
     "text": [
      " * postgresql://student@/project4\n",
      "1 rows affected.\n",
      "1 rows affected.\n",
      "1 rows affected.\n"
     ]
    },
    {
     "data": {
      "text/html": [
       "<table>\n",
       "    <tr>\n",
       "        <th>count</th>\n",
       "    </tr>\n",
       "    <tr>\n",
       "        <td>3</td>\n",
       "    </tr>\n",
       "</table>"
      ],
      "text/plain": [
       "[(3,)]"
      ]
     },
     "execution_count": 54,
     "metadata": {},
     "output_type": "execute_result"
    }
   ],
   "source": [
    "%%sql\n",
    "SELECT COUNT(*)\n",
    "FROM condition\n",
    "WHERE road_surface_condition IS NULL;\n",
    "\n",
    "SELECT COUNT(*)\n",
    "FROM condition\n",
    "WHERE special_condition IS NULL;\n",
    "\n",
    "SELECT COUNT(*)\n",
    "FROM condition\n",
    "WHERE carriageway_hazards IS NULL;"
   ]
  },
  {
   "cell_type": "code",
   "execution_count": 55,
   "metadata": {},
   "outputs": [
    {
     "name": "stdout",
     "output_type": "stream",
     "text": [
      " * postgresql://student@/project4\n",
      "39 rows affected.\n",
      "2 rows affected.\n",
      "3 rows affected.\n"
     ]
    },
    {
     "data": {
      "text/plain": [
       "[]"
      ]
     },
     "execution_count": 55,
     "metadata": {},
     "output_type": "execute_result"
    }
   ],
   "source": [
    "%%sql\n",
    "UPDATE condition\n",
    "SET road_surface_condition = 'unknown'\n",
    "WHERE road_surface_condition IS NULL;\n",
    "\n",
    "UPDATE condition\n",
    "SET special_condition = 'unknown'\n",
    "WHERE special_condition IS NULL;\n",
    "\n",
    "UPDATE condition\n",
    "SET carriageway_hazards = 'unknown'\n",
    "WHERE carriageway_hazards IS NULL;"
   ]
  },
  {
   "cell_type": "code",
   "execution_count": 56,
   "metadata": {},
   "outputs": [
    {
     "name": "stdout",
     "output_type": "stream",
     "text": [
      " * postgresql://student@/project4\n",
      "464697 rows affected.\n"
     ]
    },
    {
     "data": {
      "text/plain": [
       "[]"
      ]
     },
     "execution_count": 56,
     "metadata": {},
     "output_type": "execute_result"
    }
   ],
   "source": [
    "%%sql\n",
    "UPDATE accidents\n",
    "SET condition_key = condition.condition_key\n",
    "FROM condition\n",
    "WHERE accidents.weather_condition = condition.weather_condition\n",
    "    AND accidents.light_conditions = condition.light_conditions\n",
    "    AND accidents.road_surface_condition = condition.road_surface_condition\n",
    "    AND accidents.special_condition = condition.special_condition\n",
    "    AND accidents.carriageway_hazards = condition.carriageway_hazards;"
   ]
  },
  {
   "cell_type": "markdown",
   "metadata": {},
   "source": [
    "### Dimensional Table (road)\n",
    "We didn't put markdowns for dimensional table(road) because the steps are same as what we did for dimensional table(data)."
   ]
  },
  {
   "cell_type": "code",
   "execution_count": 57,
   "metadata": {},
   "outputs": [
    {
     "name": "stdout",
     "output_type": "stream",
     "text": [
      " * postgresql://student@/project4\n",
      "Done.\n",
      "Done.\n"
     ]
    },
    {
     "data": {
      "text/plain": [
       "[]"
      ]
     },
     "execution_count": 57,
     "metadata": {},
     "output_type": "execute_result"
    }
   ],
   "source": [
    "%%sql\n",
    "DROP TABLE IF EXISTS road;\n",
    "\n",
    "CREATE TABLE road (\n",
    "    road_key SERIAL PRIMARY KEY,\n",
    "    road_type VARCHAR(100),\n",
    "    speed_limit NUMERIC\n",
    ");"
   ]
  },
  {
   "cell_type": "code",
   "execution_count": 58,
   "metadata": {},
   "outputs": [
    {
     "name": "stdout",
     "output_type": "stream",
     "text": [
      " * postgresql://student@/project4\n",
      "35 rows affected.\n"
     ]
    },
    {
     "data": {
      "text/plain": [
       "[]"
      ]
     },
     "execution_count": 58,
     "metadata": {},
     "output_type": "execute_result"
    }
   ],
   "source": [
    "%%sql\n",
    "INSERT INTO road (road_type,speed_limit)\n",
    "SELECT DISTINCT road_type,speed_limit\n",
    "FROM accidents;"
   ]
  },
  {
   "cell_type": "code",
   "execution_count": 59,
   "metadata": {},
   "outputs": [
    {
     "name": "stdout",
     "output_type": "stream",
     "text": [
      " * postgresql://student@/project4\n",
      "Done.\n"
     ]
    },
    {
     "data": {
      "text/plain": [
       "[]"
      ]
     },
     "execution_count": 59,
     "metadata": {},
     "output_type": "execute_result"
    }
   ],
   "source": [
    "%%sql\n",
    "ALTER TABLE accidents\n",
    "ADD COLUMN road_key INTEGER,\n",
    "ADD CONSTRAINT fk_road_key\n",
    "    FOREIGN KEY (road_key)\n",
    "    REFERENCES road (road_key);"
   ]
  },
  {
   "cell_type": "code",
   "execution_count": 60,
   "metadata": {},
   "outputs": [
    {
     "data": {
      "text/plain": [
       "Accident_Index                                      0\n",
       "Location_Easting_OSGR                               0\n",
       "Location_Northing_OSGR                              0\n",
       "Longitude                                           0\n",
       "Latitude                                            0\n",
       "Police_Force                                        0\n",
       "Accident_Severity                                   0\n",
       "Number_of_Vehicles                                  0\n",
       "Number_of_Casualties                                0\n",
       "Date                                                0\n",
       "Day_of_Week                                         0\n",
       "Time                                               13\n",
       "Local_Authority_(District)                          0\n",
       "Local_Authority_(Highway)                           0\n",
       "1st_Road_Class                                      0\n",
       "1st_Road_Number                                     0\n",
       "Road_Type                                           0\n",
       "Speed_limit                                         0\n",
       "Junction_Detail                                464697\n",
       "Junction_Control                               178610\n",
       "2nd_Road_Class                                      0\n",
       "2nd_Road_Number                                     0\n",
       "Pedestrian_Crossing-Human_Control                   0\n",
       "Pedestrian_Crossing-Physical_Facilities             0\n",
       "Light_Conditions                                    0\n",
       "Weather_Conditions                                  0\n",
       "Road_Surface_Conditions                           755\n",
       "Special_Conditions_at_Site                          2\n",
       "Carriageway_Hazards                                 3\n",
       "Urban_or_Rural_Area                                 0\n",
       "Did_Police_Officer_Attend_Scene_of_Accident         2\n",
       "LSOA_of_Accident_Location                       28718\n",
       "Year                                                0\n",
       "dtype: int64"
      ]
     },
     "execution_count": 60,
     "metadata": {},
     "output_type": "execute_result"
    }
   ],
   "source": [
    "data.isna().sum()"
   ]
  },
  {
   "cell_type": "markdown",
   "metadata": {},
   "source": [
    "According to the result shown above, we can see there is no null values in road_type and speed_limit."
   ]
  },
  {
   "cell_type": "code",
   "execution_count": 61,
   "metadata": {},
   "outputs": [
    {
     "name": "stdout",
     "output_type": "stream",
     "text": [
      " * postgresql://student@/project4\n",
      "464697 rows affected.\n"
     ]
    },
    {
     "data": {
      "text/plain": [
       "[]"
      ]
     },
     "execution_count": 61,
     "metadata": {},
     "output_type": "execute_result"
    }
   ],
   "source": [
    "%%sql\n",
    "UPDATE accidents\n",
    "SET road_key = road.road_key\n",
    "FROM road\n",
    "WHERE accidents.road_type = road.road_type\n",
    "    AND accidents.speed_limit = road.speed_limit;"
   ]
  },
  {
   "cell_type": "markdown",
   "metadata": {},
   "source": [
    "### Dimensional Table (location)\n",
    "We didn't put markdowns for dimensional table(location) because the steps are same as what we did for dimensional table(data)."
   ]
  },
  {
   "cell_type": "code",
   "execution_count": 62,
   "metadata": {},
   "outputs": [
    {
     "name": "stdout",
     "output_type": "stream",
     "text": [
      " * postgresql://student@/project4\n",
      "Done.\n",
      "Done.\n"
     ]
    },
    {
     "data": {
      "text/plain": [
       "[]"
      ]
     },
     "execution_count": 62,
     "metadata": {},
     "output_type": "execute_result"
    }
   ],
   "source": [
    "%%sql\n",
    "DROP TABLE IF EXISTS location;\n",
    "\n",
    "CREATE TABLE location(\n",
    "    location_key SERIAL PRIMARY KEY,\n",
    "    district NUMERIC,\n",
    "    highway VARCHAR(50),\n",
    "    urban_or_rural VARCHAR(50),\n",
    "    latitude NUMERIC,\n",
    "    longitude NUMERIC,\n",
    "    lsoa VARCHAR(50),\n",
    "    region VARCHAR(100)\n",
    ")"
   ]
  },
  {
   "cell_type": "code",
   "execution_count": 63,
   "metadata": {},
   "outputs": [
    {
     "name": "stdout",
     "output_type": "stream",
     "text": [
      " * postgresql://student@/project4\n",
      "408927 rows affected.\n"
     ]
    },
    {
     "data": {
      "text/plain": [
       "[]"
      ]
     },
     "execution_count": 63,
     "metadata": {},
     "output_type": "execute_result"
    }
   ],
   "source": [
    "%%sql\n",
    "INSERT INTO location (district, highway, urban_or_rural, latitude, longitude, lsoa, region)\n",
    "SELECT DISTINCT district, highway, urban_or_rural, latitude, longitude, lsoa, region\n",
    "FROM accidents;"
   ]
  },
  {
   "cell_type": "code",
   "execution_count": 64,
   "metadata": {},
   "outputs": [
    {
     "name": "stdout",
     "output_type": "stream",
     "text": [
      " * postgresql://student@/project4\n",
      "Done.\n"
     ]
    },
    {
     "data": {
      "text/plain": [
       "[]"
      ]
     },
     "execution_count": 64,
     "metadata": {},
     "output_type": "execute_result"
    }
   ],
   "source": [
    "%%sql\n",
    "ALTER TABLE accidents\n",
    "ADD COLUMN location_key INTEGER,\n",
    "ADD CONSTRAINT fk_location_key\n",
    "    FOREIGN KEY (location_key)\n",
    "    REFERENCES location (location_key);"
   ]
  },
  {
   "cell_type": "code",
   "execution_count": 65,
   "metadata": {},
   "outputs": [
    {
     "data": {
      "text/plain": [
       "Accident_Index                                      0\n",
       "Location_Easting_OSGR                               0\n",
       "Location_Northing_OSGR                              0\n",
       "Longitude                                           0\n",
       "Latitude                                            0\n",
       "Police_Force                                        0\n",
       "Accident_Severity                                   0\n",
       "Number_of_Vehicles                                  0\n",
       "Number_of_Casualties                                0\n",
       "Date                                                0\n",
       "Day_of_Week                                         0\n",
       "Time                                               13\n",
       "Local_Authority_(District)                          0\n",
       "Local_Authority_(Highway)                           0\n",
       "1st_Road_Class                                      0\n",
       "1st_Road_Number                                     0\n",
       "Road_Type                                           0\n",
       "Speed_limit                                         0\n",
       "Junction_Detail                                464697\n",
       "Junction_Control                               178610\n",
       "2nd_Road_Class                                      0\n",
       "2nd_Road_Number                                     0\n",
       "Pedestrian_Crossing-Human_Control                   0\n",
       "Pedestrian_Crossing-Physical_Facilities             0\n",
       "Light_Conditions                                    0\n",
       "Weather_Conditions                                  0\n",
       "Road_Surface_Conditions                           755\n",
       "Special_Conditions_at_Site                          2\n",
       "Carriageway_Hazards                                 3\n",
       "Urban_or_Rural_Area                                 0\n",
       "Did_Police_Officer_Attend_Scene_of_Accident         2\n",
       "LSOA_of_Accident_Location                       28718\n",
       "Year                                                0\n",
       "dtype: int64"
      ]
     },
     "execution_count": 65,
     "metadata": {},
     "output_type": "execute_result"
    }
   ],
   "source": [
    "data.isna().sum()"
   ]
  },
  {
   "cell_type": "code",
   "execution_count": 66,
   "metadata": {},
   "outputs": [
    {
     "name": "stdout",
     "output_type": "stream",
     "text": [
      " * postgresql://student@/project4\n",
      "1 rows affected.\n"
     ]
    },
    {
     "data": {
      "text/html": [
       "<table>\n",
       "    <tr>\n",
       "        <th>count</th>\n",
       "    </tr>\n",
       "    <tr>\n",
       "        <td>37943</td>\n",
       "    </tr>\n",
       "</table>"
      ],
      "text/plain": [
       "[(37943,)]"
      ]
     },
     "execution_count": 66,
     "metadata": {},
     "output_type": "execute_result"
    }
   ],
   "source": [
    "%%sql\n",
    "SELECT COUNT(*) FROM accidents\n",
    "WHERE region IS NULL;"
   ]
  },
  {
   "cell_type": "code",
   "execution_count": 67,
   "metadata": {},
   "outputs": [
    {
     "name": "stdout",
     "output_type": "stream",
     "text": [
      " * postgresql://student@/project4\n",
      "1 rows affected.\n"
     ]
    },
    {
     "data": {
      "text/html": [
       "<table>\n",
       "    <tr>\n",
       "        <th>count</th>\n",
       "    </tr>\n",
       "    <tr>\n",
       "        <td>28718</td>\n",
       "    </tr>\n",
       "</table>"
      ],
      "text/plain": [
       "[(28718,)]"
      ]
     },
     "execution_count": 67,
     "metadata": {},
     "output_type": "execute_result"
    }
   ],
   "source": [
    "%%sql\n",
    "SELECT COUNT(*) FROM accidents\n",
    "WHERE lsoa IS NULL;"
   ]
  },
  {
   "cell_type": "code",
   "execution_count": 68,
   "metadata": {},
   "outputs": [
    {
     "name": "stdout",
     "output_type": "stream",
     "text": [
      " * postgresql://student@/project4\n",
      "35148 rows affected.\n",
      "28113 rows affected.\n"
     ]
    },
    {
     "data": {
      "text/plain": [
       "[]"
      ]
     },
     "execution_count": 68,
     "metadata": {},
     "output_type": "execute_result"
    }
   ],
   "source": [
    "%%sql\n",
    "UPDATE location\n",
    "SET region = 'unknown'\n",
    "WHERE region IS NULL;\n",
    "\n",
    "UPDATE location\n",
    "SET lsoa = 'unknown'\n",
    "WHERE lsoa IS NULL;"
   ]
  },
  {
   "cell_type": "code",
   "execution_count": 69,
   "metadata": {},
   "outputs": [
    {
     "name": "stdout",
     "output_type": "stream",
     "text": [
      " * postgresql://student@/project4\n",
      "37943 rows affected.\n",
      "28718 rows affected.\n"
     ]
    },
    {
     "data": {
      "text/plain": [
       "[]"
      ]
     },
     "execution_count": 69,
     "metadata": {},
     "output_type": "execute_result"
    }
   ],
   "source": [
    "%%sql\n",
    "UPDATE accidents\n",
    "SET region = 'unknown'\n",
    "WHERE region IS NULL;\n",
    "\n",
    "UPDATE accidents\n",
    "SET lsoa = 'unknown'\n",
    "WHERE lsoa IS NULL;"
   ]
  },
  {
   "cell_type": "code",
   "execution_count": 70,
   "metadata": {},
   "outputs": [
    {
     "name": "stdout",
     "output_type": "stream",
     "text": [
      " * postgresql://student@/project4\n",
      "464697 rows affected.\n"
     ]
    },
    {
     "data": {
      "text/plain": [
       "[]"
      ]
     },
     "execution_count": 70,
     "metadata": {},
     "output_type": "execute_result"
    }
   ],
   "source": [
    "%%sql\n",
    "UPDATE accidents\n",
    "SET location_key = location.location_key\n",
    "FROM location\n",
    "WHERE accidents.district = location.district\n",
    "    AND accidents.highway = location.highway\n",
    "    AND accidents.urban_or_rural = location.urban_or_rural\n",
    "    AND accidents.latitude = location.latitude\n",
    "    AND accidents.longitude = location.longitude\n",
    "    AND accidents.lsoa = location.lsoa\n",
    "    AND accidents.region = location.region;"
   ]
  },
  {
   "cell_type": "markdown",
   "metadata": {},
   "source": [
    "### Fact Table (accidents)"
   ]
  },
  {
   "cell_type": "markdown",
   "metadata": {},
   "source": [
    "#### After adding dimensional attributes into other dimension tables, we can drop those attributes out of fact table and keep their key.\n",
    "#### In addition, we also dop attributes we do not want during this part."
   ]
  },
  {
   "cell_type": "markdown",
   "metadata": {},
   "source": [
    "#### we mentioned the reasons we drop specific attributes at the beginning of part 2"
   ]
  },
  {
   "cell_type": "code",
   "execution_count": 71,
   "metadata": {},
   "outputs": [
    {
     "name": "stdout",
     "output_type": "stream",
     "text": [
      " * postgresql://student@/project4\n",
      "Done.\n"
     ]
    },
    {
     "data": {
      "text/plain": [
       "[]"
      ]
     },
     "execution_count": 71,
     "metadata": {},
     "output_type": "execute_result"
    }
   ],
   "source": [
    "%%sql\n",
    "ALTER TABLE accidents\n",
    "DROP COLUMN index,\n",
    "DROP COLUMN easting_osgr,\n",
    "DROP COLUMN northing_osgr,\n",
    "DROP COLUMN longitude,\n",
    "DROP COLUMN latitude,\n",
    "DROP COLUMN district,\n",
    "DROP COLUMN highway,\n",
    "DROP COLUMN special_condition,\n",
    "DROP COLUMN carriageway_hazards,\n",
    "DROP COLUMN region,\n",
    "DROP COLUMN police_force,\n",
    "DROP COLUMN first_road_class,\n",
    "DROP COLUMN first_road_number,\n",
    "DROP COLUMN second_road_class,\n",
    "DROP COLUMN second_road_number,\n",
    "DROP COLUMN junction_detail,\n",
    "DROP COLUMN junction_control,\n",
    "DROP COLUMN pedestrian_crossing_human_control,\n",
    "DROP COLUMN pedestrian_crossing_physical_facilities,\n",
    "DROP COLUMN road_surface_condition,\n",
    "DROP COLUMN did_police_attend,\n",
    "DROP COLUMN lsoa,\n",
    "DROP COLUMN date,\n",
    "DROP COLUMN day_week,\n",
    "DROP COLUMN time,\n",
    "DROP COLUMN road_type,\n",
    "DROP COLUMN speed_limit,\n",
    "DROP COLUMN light_conditions,\n",
    "DROP COLUMN weather_condition,\n",
    "DROP COLUMN urban_or_rural,\n",
    "DROP COLUMN year;"
   ]
  },
  {
   "cell_type": "code",
   "execution_count": 78,
   "metadata": {},
   "outputs": [
    {
     "name": "stdout",
     "output_type": "stream",
     "text": [
      " * postgresql://student@/project4\n",
      "5 rows affected.\n"
     ]
    },
    {
     "data": {
      "text/html": [
       "<table>\n",
       "    <tr>\n",
       "        <th>severity</th>\n",
       "        <th>number_vehicles</th>\n",
       "        <th>number_casualties</th>\n",
       "        <th>date_key</th>\n",
       "        <th>condition_key</th>\n",
       "        <th>road_key</th>\n",
       "        <th>location_key</th>\n",
       "    </tr>\n",
       "    <tr>\n",
       "        <td>3</td>\n",
       "        <td>4</td>\n",
       "        <td>2</td>\n",
       "        <td>209346</td>\n",
       "        <td>407</td>\n",
       "        <td>20</td>\n",
       "        <td>330138</td>\n",
       "    </tr>\n",
       "    <tr>\n",
       "        <td>2</td>\n",
       "        <td>1</td>\n",
       "        <td>1</td>\n",
       "        <td>345</td>\n",
       "        <td>779</td>\n",
       "        <td>20</td>\n",
       "        <td>330099</td>\n",
       "    </tr>\n",
       "    <tr>\n",
       "        <td>3</td>\n",
       "        <td>1</td>\n",
       "        <td>1</td>\n",
       "        <td>171655</td>\n",
       "        <td>558</td>\n",
       "        <td>20</td>\n",
       "        <td>330445</td>\n",
       "    </tr>\n",
       "    <tr>\n",
       "        <td>3</td>\n",
       "        <td>2</td>\n",
       "        <td>1</td>\n",
       "        <td>165983</td>\n",
       "        <td>366</td>\n",
       "        <td>20</td>\n",
       "        <td>330380</td>\n",
       "    </tr>\n",
       "    <tr>\n",
       "        <td>2</td>\n",
       "        <td>1</td>\n",
       "        <td>1</td>\n",
       "        <td>165931</td>\n",
       "        <td>368</td>\n",
       "        <td>20</td>\n",
       "        <td>330136</td>\n",
       "    </tr>\n",
       "</table>"
      ],
      "text/plain": [
       "[(Decimal('3'), Decimal('4'), Decimal('2'), 209346, 407, 20, 330138),\n",
       " (Decimal('2'), Decimal('1'), Decimal('1'), 345, 779, 20, 330099),\n",
       " (Decimal('3'), Decimal('1'), Decimal('1'), 171655, 558, 20, 330445),\n",
       " (Decimal('3'), Decimal('2'), Decimal('1'), 165983, 366, 20, 330380),\n",
       " (Decimal('2'), Decimal('1'), Decimal('1'), 165931, 368, 20, 330136)]"
      ]
     },
     "execution_count": 78,
     "metadata": {},
     "output_type": "execute_result"
    }
   ],
   "source": [
    "%%sql\n",
    "SELECT * FROM accidents\n",
    "LIMIT 5;"
   ]
  },
  {
   "cell_type": "markdown",
   "metadata": {},
   "source": [
    "# Part 3 Analysis"
   ]
  },
  {
   "cell_type": "markdown",
   "metadata": {},
   "source": [
    "Explore and analyze your data in its wrangled form. Follow through on the themes you identified in Part 1 with queries or scripts that answer the questions you had in mind. Be clear about the answers you discover, discussing them and whether the results match your expectations. Include charts or other visuals that support your analysis. You may use Tableau, matplotlib, ggplot, or other tools we have not covered in class for visualization (and only for visualization), but be sure to export images from those tools and to include any images properly in your notebook writeup and slides."
   ]
  },
  {
   "cell_type": "markdown",
   "metadata": {},
   "source": [
    "## Analysis 1\n",
    "## Average number of vehicles and number of casualties in different accident severity"
   ]
  },
  {
   "cell_type": "markdown",
   "metadata": {},
   "source": [
    "#### Expectation: we expect the more serious the accident is, the more vehicles and casualties are involoved."
   ]
  },
  {
   "cell_type": "markdown",
   "metadata": {},
   "source": [
    "According to the description in original website, 1 = Fatal, 2 = Serious, 3 = Slight."
   ]
  },
  {
   "cell_type": "code",
   "execution_count": 72,
   "metadata": {},
   "outputs": [
    {
     "name": "stdout",
     "output_type": "stream",
     "text": [
      " * postgresql://student@/project4\n",
      "3 rows affected.\n"
     ]
    },
    {
     "data": {
      "text/html": [
       "<table>\n",
       "    <tr>\n",
       "        <th>severity</th>\n",
       "        <th>frequency</th>\n",
       "        <th>avergae_vehicles</th>\n",
       "        <th>avergae_casualties</th>\n",
       "    </tr>\n",
       "    <tr>\n",
       "        <td>1</td>\n",
       "        <td>5303</td>\n",
       "        <td>1.75</td>\n",
       "        <td>1.77</td>\n",
       "    </tr>\n",
       "    <tr>\n",
       "        <td>2</td>\n",
       "        <td>66784</td>\n",
       "        <td>1.68</td>\n",
       "        <td>1.40</td>\n",
       "    </tr>\n",
       "    <tr>\n",
       "        <td>3</td>\n",
       "        <td>392610</td>\n",
       "        <td>1.85</td>\n",
       "        <td>1.32</td>\n",
       "    </tr>\n",
       "</table>"
      ],
      "text/plain": [
       "[(Decimal('1'), 5303, Decimal('1.75'), Decimal('1.77')),\n",
       " (Decimal('2'), 66784, Decimal('1.68'), Decimal('1.40')),\n",
       " (Decimal('3'), 392610, Decimal('1.85'), Decimal('1.32'))]"
      ]
     },
     "execution_count": 72,
     "metadata": {},
     "output_type": "execute_result"
    }
   ],
   "source": [
    "%%sql\n",
    "SELECT severity, COUNT(severity) AS frequency, ROUND(AVG(number_vehicles),2) AS avergae_vehicles, ROUND(AVG(number_casualties),2) AS avergae_casualties\n",
    "FROM accidents\n",
    "GROUP BY severity\n",
    "ORDER BY severity;"
   ]
  },
  {
   "cell_type": "code",
   "execution_count": 75,
   "metadata": {},
   "outputs": [
    {
     "data": {
      "image/jpeg": "[encoded data removed]",
      "text/plain": [
       "<IPython.core.display.Image object>"
      ]
     },
     "execution_count": 75,
     "metadata": {},
     "output_type": "execute_result"
    }
   ],
   "source": [
    "Image(\"https://i.ibb.co/q1Y9Zdd/Sheet-14.jpg\")"
   ]
  },
  {
   "cell_type": "code",
   "execution_count": 76,
   "metadata": {},
   "outputs": [
    {
     "data": {
      "text/html": [
       "<img src=\"https://i.ibb.co/whMj6hj/avg-no.png\"/>"
      ],
      "text/plain": [
       "<IPython.core.display.Image object>"
      ]
     },
     "execution_count": 76,
     "metadata": {},
     "output_type": "execute_result"
    }
   ],
   "source": [
    "Image(url=\"https://i.ibb.co/whMj6hj/avg-no.png\")"
   ]
  },
  {
   "cell_type": "markdown",
   "metadata": {},
   "source": [
    "As the severity is more serious, the average casualties increases but average vehicles does not."
   ]
  },
  {
   "cell_type": "markdown",
   "metadata": {},
   "source": [
    "## Analysis 2\n",
    "## See the distribution of accident frequency to find the peak time (by hour, by weekday, by month, by year)."
   ]
  },
  {
   "cell_type": "markdown",
   "metadata": {},
   "source": [
    "* Year"
   ]
  },
  {
   "cell_type": "code",
   "execution_count": 77,
   "metadata": {},
   "outputs": [],
   "source": [
    "%matplotlib inline"
   ]
  },
  {
   "cell_type": "code",
   "execution_count": 78,
   "metadata": {},
   "outputs": [
    {
     "name": "stdout",
     "output_type": "stream",
     "text": [
      " * postgresql://student@/project4\n",
      "3 rows affected.\n"
     ]
    },
    {
     "data": {
      "text/html": [
       "<table>\n",
       "    <tr>\n",
       "        <th>year</th>\n",
       "        <th>accident_count</th>\n",
       "    </tr>\n",
       "    <tr>\n",
       "        <td>2012</td>\n",
       "        <td>179715</td>\n",
       "    </tr>\n",
       "    <tr>\n",
       "        <td>2014</td>\n",
       "        <td>146322</td>\n",
       "    </tr>\n",
       "    <tr>\n",
       "        <td>2013</td>\n",
       "        <td>138660</td>\n",
       "    </tr>\n",
       "</table>"
      ],
      "text/plain": [
       "[(Decimal('2012'), 179715),\n",
       " (Decimal('2014'), 146322),\n",
       " (Decimal('2013'), 138660)]"
      ]
     },
     "execution_count": 78,
     "metadata": {},
     "output_type": "execute_result"
    }
   ],
   "source": [
    "%%sql\n",
    "SELECT date.year, COUNT(*) as accident_count\n",
    "FROM accidents\n",
    "LEFT JOIN date\n",
    "ON date.date_key=accidents.date_key\n",
    "GROUP BY date.year\n",
    "ORDER BY accident_count DESC\n",
    "LIMIT 10"
   ]
  },
  {
   "cell_type": "code",
   "execution_count": 79,
   "metadata": {},
   "outputs": [
    {
     "data": {
      "text/plain": [
       "<BarContainer object of 3 artists>"
      ]
     },
     "execution_count": 79,
     "metadata": {},
     "output_type": "execute_result"
    },
    {
     "data": {
      "image/png": "[encoded data removed]",
      "text/plain": [
       "<Figure size 432x288 with 1 Axes>"
      ]
     },
     "metadata": {
      "needs_background": "light"
     },
     "output_type": "display_data"
    }
   ],
   "source": [
    "_.bar()"
   ]
  },
  {
   "cell_type": "markdown",
   "metadata": {},
   "source": [
    "AS we can see from the bar graph, in 2012, there has the most accidents. This may due to the insufficiencies of traffic regulation in earlier time."
   ]
  },
  {
   "cell_type": "markdown",
   "metadata": {},
   "source": [
    "* Month"
   ]
  },
  {
   "cell_type": "code",
   "execution_count": 80,
   "metadata": {},
   "outputs": [
    {
     "name": "stdout",
     "output_type": "stream",
     "text": [
      " * postgresql://student@/project4\n",
      "10 rows affected.\n"
     ]
    },
    {
     "data": {
      "text/html": [
       "<table>\n",
       "    <tr>\n",
       "        <th>month</th>\n",
       "        <th>accident_count</th>\n",
       "    </tr>\n",
       "    <tr>\n",
       "        <td>01</td>\n",
       "        <td>37299</td>\n",
       "    </tr>\n",
       "    <tr>\n",
       "        <td>02</td>\n",
       "        <td>34247</td>\n",
       "    </tr>\n",
       "    <tr>\n",
       "        <td>03</td>\n",
       "        <td>37589</td>\n",
       "    </tr>\n",
       "    <tr>\n",
       "        <td>04</td>\n",
       "        <td>34600</td>\n",
       "    </tr>\n",
       "    <tr>\n",
       "        <td>05</td>\n",
       "        <td>39016</td>\n",
       "    </tr>\n",
       "    <tr>\n",
       "        <td>06</td>\n",
       "        <td>38387</td>\n",
       "    </tr>\n",
       "    <tr>\n",
       "        <td>07</td>\n",
       "        <td>41682</td>\n",
       "    </tr>\n",
       "    <tr>\n",
       "        <td>08</td>\n",
       "        <td>38292</td>\n",
       "    </tr>\n",
       "    <tr>\n",
       "        <td>09</td>\n",
       "        <td>39780</td>\n",
       "    </tr>\n",
       "    <tr>\n",
       "        <td>10</td>\n",
       "        <td>42810</td>\n",
       "    </tr>\n",
       "</table>"
      ],
      "text/plain": [
       "[('01', 37299),\n",
       " ('02', 34247),\n",
       " ('03', 37589),\n",
       " ('04', 34600),\n",
       " ('05', 39016),\n",
       " ('06', 38387),\n",
       " ('07', 41682),\n",
       " ('08', 38292),\n",
       " ('09', 39780),\n",
       " ('10', 42810)]"
      ]
     },
     "execution_count": 80,
     "metadata": {},
     "output_type": "execute_result"
    }
   ],
   "source": [
    "%%sql\n",
    "SELECT date.month, COUNT(*) as accident_count\n",
    "FROM accidents\n",
    "LEFT JOIN date\n",
    "ON date.date_key=accidents.date_key\n",
    "GROUP BY date.month\n",
    "ORDER BY date.month\n",
    "LIMIT 10"
   ]
  },
  {
   "cell_type": "code",
   "execution_count": 81,
   "metadata": {},
   "outputs": [
    {
     "data": {
      "text/plain": [
       "<BarContainer object of 10 artists>"
      ]
     },
     "execution_count": 81,
     "metadata": {},
     "output_type": "execute_result"
    },
    {
     "data": {
      "image/png": "[encoded data removed]",
      "text/plain": [
       "<Figure size 432x288 with 1 Axes>"
      ]
     },
     "metadata": {
      "needs_background": "light"
     },
     "output_type": "display_data"
    }
   ],
   "source": [
    "_.bar()"
   ]
  },
  {
   "cell_type": "markdown",
   "metadata": {},
   "source": [
    "Generally, there is no much difference of accidents count between different months."
   ]
  },
  {
   "cell_type": "markdown",
   "metadata": {},
   "source": [
    "* Day of week"
   ]
  },
  {
   "cell_type": "code",
   "execution_count": 82,
   "metadata": {},
   "outputs": [
    {
     "name": "stdout",
     "output_type": "stream",
     "text": [
      " * postgresql://student@/project4\n",
      "7 rows affected.\n"
     ]
    },
    {
     "data": {
      "text/html": [
       "<table>\n",
       "    <tr>\n",
       "        <th>day_of_week</th>\n",
       "        <th>accident_count</th>\n",
       "    </tr>\n",
       "    <tr>\n",
       "        <td>1</td>\n",
       "        <td>50304</td>\n",
       "    </tr>\n",
       "    <tr>\n",
       "        <td>2</td>\n",
       "        <td>66725</td>\n",
       "    </tr>\n",
       "    <tr>\n",
       "        <td>3</td>\n",
       "        <td>70316</td>\n",
       "    </tr>\n",
       "    <tr>\n",
       "        <td>4</td>\n",
       "        <td>69835</td>\n",
       "    </tr>\n",
       "    <tr>\n",
       "        <td>5</td>\n",
       "        <td>70644</td>\n",
       "    </tr>\n",
       "    <tr>\n",
       "        <td>6</td>\n",
       "        <td>76054</td>\n",
       "    </tr>\n",
       "    <tr>\n",
       "        <td>7</td>\n",
       "        <td>60819</td>\n",
       "    </tr>\n",
       "</table>"
      ],
      "text/plain": [
       "[(Decimal('1'), 50304),\n",
       " (Decimal('2'), 66725),\n",
       " (Decimal('3'), 70316),\n",
       " (Decimal('4'), 69835),\n",
       " (Decimal('5'), 70644),\n",
       " (Decimal('6'), 76054),\n",
       " (Decimal('7'), 60819)]"
      ]
     },
     "execution_count": 82,
     "metadata": {},
     "output_type": "execute_result"
    }
   ],
   "source": [
    "%%sql\n",
    "SELECT date.day_of_week, COUNT(*) as accident_count\n",
    "FROM accidents\n",
    "LEFT JOIN date\n",
    "ON date.date_key=accidents.date_key\n",
    "GROUP BY date.day_of_week\n",
    "ORDER BY date.day_of_week\n",
    "LIMIT 10"
   ]
  },
  {
   "cell_type": "code",
   "execution_count": 86,
   "metadata": {},
   "outputs": [
    {
     "data": {
      "text/plain": [
       "<BarContainer object of 7 artists>"
      ]
     },
     "execution_count": 86,
     "metadata": {},
     "output_type": "execute_result"
    },
    {
     "data": {
      "image/png": "[encoded data removed]",
      "text/plain": [
       "<Figure size 432x288 with 1 Axes>"
      ]
     },
     "metadata": {
      "needs_background": "light"
     },
     "output_type": "display_data"
    }
   ],
   "source": [
    "_.bar()"
   ]
  },
  {
   "cell_type": "markdown",
   "metadata": {},
   "source": [
    "On Friday, there are the most number of accidents while on Sunday, there are the least. We presume that on Sunday, people are more energetic and concentrated during driving after a whole weekend of rest. In addition, people may prefer to stay at one place to have a rest because they don't have to work. However, on Friday, people would be tired after five weekdays of work, and they may go to party night, happy hour to drink. Both tiredness and alcohol will lead to accidents."
   ]
  },
  {
   "cell_type": "markdown",
   "metadata": {},
   "source": [
    "* Hour"
   ]
  },
  {
   "cell_type": "markdown",
   "metadata": {},
   "source": [
    "Note: because we set the null value of time to '00:00:59' we must exclude them so as not to affect the calculation of aggregate function which\n",
    "will ignore null values."
   ]
  },
  {
   "cell_type": "code",
   "execution_count": 83,
   "metadata": {},
   "outputs": [
    {
     "name": "stdout",
     "output_type": "stream",
     "text": [
      " * postgresql://student@/project4\n",
      "10 rows affected.\n"
     ]
    },
    {
     "data": {
      "text/html": [
       "<table>\n",
       "    <tr>\n",
       "        <th>hour</th>\n",
       "        <th>frequency</th>\n",
       "    </tr>\n",
       "    <tr>\n",
       "        <td>17</td>\n",
       "        <td>42286</td>\n",
       "    </tr>\n",
       "    <tr>\n",
       "        <td>16</td>\n",
       "        <td>37895</td>\n",
       "    </tr>\n",
       "    <tr>\n",
       "        <td>15</td>\n",
       "        <td>36118</td>\n",
       "    </tr>\n",
       "    <tr>\n",
       "        <td>08</td>\n",
       "        <td>34305</td>\n",
       "    </tr>\n",
       "    <tr>\n",
       "        <td>18</td>\n",
       "        <td>33032</td>\n",
       "    </tr>\n",
       "    <tr>\n",
       "        <td>14</td>\n",
       "        <td>28192</td>\n",
       "    </tr>\n",
       "    <tr>\n",
       "        <td>13</td>\n",
       "        <td>27851</td>\n",
       "    </tr>\n",
       "    <tr>\n",
       "        <td>12</td>\n",
       "        <td>27693</td>\n",
       "    </tr>\n",
       "    <tr>\n",
       "        <td>11</td>\n",
       "        <td>24706</td>\n",
       "    </tr>\n",
       "    <tr>\n",
       "        <td>19</td>\n",
       "        <td>23600</td>\n",
       "    </tr>\n",
       "</table>"
      ],
      "text/plain": [
       "[('17', 42286),\n",
       " ('16', 37895),\n",
       " ('15', 36118),\n",
       " ('08', 34305),\n",
       " ('18', 33032),\n",
       " ('14', 28192),\n",
       " ('13', 27851),\n",
       " ('12', 27693),\n",
       " ('11', 24706),\n",
       " ('19', 23600)]"
      ]
     },
     "execution_count": 83,
     "metadata": {},
     "output_type": "execute_result"
    }
   ],
   "source": [
    "%%sql\n",
    "SELECT DISTINCT TO_CHAR(date.time,'HH24') AS hour, COUNT(*) as frequency\n",
    "FROM accidents\n",
    "LEFT JOIN date\n",
    "ON date.date_key=accidents.date_key\n",
    "WHERE date.time != '00:00:59'\n",
    "GROUP BY hour\n",
    "ORDER BY frequency DESC\n",
    "LIMIT 10"
   ]
  },
  {
   "cell_type": "code",
   "execution_count": 84,
   "metadata": {},
   "outputs": [
    {
     "data": {
      "text/plain": [
       "<BarContainer object of 10 artists>"
      ]
     },
     "execution_count": 84,
     "metadata": {},
     "output_type": "execute_result"
    },
    {
     "data": {
      "image/png": "[encoded data removed]",
      "text/plain": [
       "<Figure size 432x288 with 1 Axes>"
      ]
     },
     "metadata": {
      "needs_background": "light"
     },
     "output_type": "display_data"
    }
   ],
   "source": [
    "_.bar()"
   ]
  },
  {
   "cell_type": "code",
   "execution_count": 85,
   "metadata": {},
   "outputs": [
    {
     "data": {
      "image/jpeg": "[encoded data removed]",
      "text/plain": [
       "<IPython.core.display.Image object>"
      ]
     },
     "execution_count": 85,
     "metadata": {},
     "output_type": "execute_result"
    }
   ],
   "source": [
    "from IPython.display import Image\n",
    "Image(\"https://i.ibb.co/S7vg1Gs/Sheet-3.jpg\")"
   ]
  },
  {
   "cell_type": "markdown",
   "metadata": {},
   "source": [
    "It seems that there are two accident peak time, 7 a.m to 9 a.m and 4 p.m to 7 p.m. Those two time periods are rush hours for people who work and study. So there would be more traffic, and this may lead to more accidents."
   ]
  },
  {
   "cell_type": "markdown",
   "metadata": {},
   "source": [
    "* General analysis"
   ]
  },
  {
   "cell_type": "code",
   "execution_count": 89,
   "metadata": {},
   "outputs": [
    {
     "name": "stdout",
     "output_type": "stream",
     "text": [
      " * postgresql://student@/project4\n",
      "72 rows affected.\n"
     ]
    },
    {
     "data": {
      "text/html": [
       "<table>\n",
       "    <tr>\n",
       "        <th>year</th>\n",
       "        <th>hour</th>\n",
       "        <th>frequency</th>\n",
       "    </tr>\n",
       "    <tr>\n",
       "        <td>2012</td>\n",
       "        <td>00</td>\n",
       "        <td>2567</td>\n",
       "    </tr>\n",
       "    <tr>\n",
       "        <td>2012</td>\n",
       "        <td>01</td>\n",
       "        <td>1881</td>\n",
       "    </tr>\n",
       "    <tr>\n",
       "        <td>2012</td>\n",
       "        <td>02</td>\n",
       "        <td>1579</td>\n",
       "    </tr>\n",
       "    <tr>\n",
       "        <td>2012</td>\n",
       "        <td>03</td>\n",
       "        <td>1277</td>\n",
       "    </tr>\n",
       "    <tr>\n",
       "        <td>2012</td>\n",
       "        <td>04</td>\n",
       "        <td>1050</td>\n",
       "    </tr>\n",
       "    <tr>\n",
       "        <td>2012</td>\n",
       "        <td>05</td>\n",
       "        <td>1488</td>\n",
       "    </tr>\n",
       "    <tr>\n",
       "        <td>2012</td>\n",
       "        <td>06</td>\n",
       "        <td>3225</td>\n",
       "    </tr>\n",
       "    <tr>\n",
       "        <td>2012</td>\n",
       "        <td>07</td>\n",
       "        <td>7600</td>\n",
       "    </tr>\n",
       "    <tr>\n",
       "        <td>2012</td>\n",
       "        <td>08</td>\n",
       "        <td>13380</td>\n",
       "    </tr>\n",
       "    <tr>\n",
       "        <td>2012</td>\n",
       "        <td>09</td>\n",
       "        <td>9089</td>\n",
       "    </tr>\n",
       "    <tr>\n",
       "        <td>2012</td>\n",
       "        <td>10</td>\n",
       "        <td>8149</td>\n",
       "    </tr>\n",
       "    <tr>\n",
       "        <td>2012</td>\n",
       "        <td>11</td>\n",
       "        <td>9575</td>\n",
       "    </tr>\n",
       "    <tr>\n",
       "        <td>2012</td>\n",
       "        <td>12</td>\n",
       "        <td>10584</td>\n",
       "    </tr>\n",
       "    <tr>\n",
       "        <td>2012</td>\n",
       "        <td>13</td>\n",
       "        <td>10869</td>\n",
       "    </tr>\n",
       "    <tr>\n",
       "        <td>2012</td>\n",
       "        <td>14</td>\n",
       "        <td>11000</td>\n",
       "    </tr>\n",
       "    <tr>\n",
       "        <td>2012</td>\n",
       "        <td>15</td>\n",
       "        <td>14290</td>\n",
       "    </tr>\n",
       "    <tr>\n",
       "        <td>2012</td>\n",
       "        <td>16</td>\n",
       "        <td>14528</td>\n",
       "    </tr>\n",
       "    <tr>\n",
       "        <td>2012</td>\n",
       "        <td>17</td>\n",
       "        <td>16460</td>\n",
       "    </tr>\n",
       "    <tr>\n",
       "        <td>2012</td>\n",
       "        <td>18</td>\n",
       "        <td>12620</td>\n",
       "    </tr>\n",
       "    <tr>\n",
       "        <td>2012</td>\n",
       "        <td>19</td>\n",
       "        <td>9070</td>\n",
       "    </tr>\n",
       "    <tr>\n",
       "        <td>2012</td>\n",
       "        <td>20</td>\n",
       "        <td>6533</td>\n",
       "    </tr>\n",
       "    <tr>\n",
       "        <td>2012</td>\n",
       "        <td>21</td>\n",
       "        <td>5088</td>\n",
       "    </tr>\n",
       "    <tr>\n",
       "        <td>2012</td>\n",
       "        <td>22</td>\n",
       "        <td>4423</td>\n",
       "    </tr>\n",
       "    <tr>\n",
       "        <td>2012</td>\n",
       "        <td>23</td>\n",
       "        <td>3385</td>\n",
       "    </tr>\n",
       "    <tr>\n",
       "        <td>2013</td>\n",
       "        <td>00</td>\n",
       "        <td>1906</td>\n",
       "    </tr>\n",
       "    <tr>\n",
       "        <td>2013</td>\n",
       "        <td>01</td>\n",
       "        <td>1394</td>\n",
       "    </tr>\n",
       "    <tr>\n",
       "        <td>2013</td>\n",
       "        <td>02</td>\n",
       "        <td>1113</td>\n",
       "    </tr>\n",
       "    <tr>\n",
       "        <td>2013</td>\n",
       "        <td>03</td>\n",
       "        <td>936</td>\n",
       "    </tr>\n",
       "    <tr>\n",
       "        <td>2013</td>\n",
       "        <td>04</td>\n",
       "        <td>774</td>\n",
       "    </tr>\n",
       "    <tr>\n",
       "        <td>2013</td>\n",
       "        <td>05</td>\n",
       "        <td>1215</td>\n",
       "    </tr>\n",
       "    <tr>\n",
       "        <td>2013</td>\n",
       "        <td>06</td>\n",
       "        <td>2620</td>\n",
       "    </tr>\n",
       "    <tr>\n",
       "        <td>2013</td>\n",
       "        <td>07</td>\n",
       "        <td>6063</td>\n",
       "    </tr>\n",
       "    <tr>\n",
       "        <td>2013</td>\n",
       "        <td>08</td>\n",
       "        <td>10202</td>\n",
       "    </tr>\n",
       "    <tr>\n",
       "        <td>2013</td>\n",
       "        <td>09</td>\n",
       "        <td>7134</td>\n",
       "    </tr>\n",
       "    <tr>\n",
       "        <td>2013</td>\n",
       "        <td>10</td>\n",
       "        <td>6470</td>\n",
       "    </tr>\n",
       "    <tr>\n",
       "        <td>2013</td>\n",
       "        <td>11</td>\n",
       "        <td>7281</td>\n",
       "    </tr>\n",
       "    <tr>\n",
       "        <td>2013</td>\n",
       "        <td>12</td>\n",
       "        <td>8298</td>\n",
       "    </tr>\n",
       "    <tr>\n",
       "        <td>2013</td>\n",
       "        <td>13</td>\n",
       "        <td>8266</td>\n",
       "    </tr>\n",
       "    <tr>\n",
       "        <td>2013</td>\n",
       "        <td>14</td>\n",
       "        <td>8359</td>\n",
       "    </tr>\n",
       "    <tr>\n",
       "        <td>2013</td>\n",
       "        <td>15</td>\n",
       "        <td>10557</td>\n",
       "    </tr>\n",
       "    <tr>\n",
       "        <td>2013</td>\n",
       "        <td>16</td>\n",
       "        <td>11443</td>\n",
       "    </tr>\n",
       "    <tr>\n",
       "        <td>2013</td>\n",
       "        <td>17</td>\n",
       "        <td>12502</td>\n",
       "    </tr>\n",
       "    <tr>\n",
       "        <td>2013</td>\n",
       "        <td>18</td>\n",
       "        <td>9883</td>\n",
       "    </tr>\n",
       "    <tr>\n",
       "        <td>2013</td>\n",
       "        <td>19</td>\n",
       "        <td>7017</td>\n",
       "    </tr>\n",
       "    <tr>\n",
       "        <td>2013</td>\n",
       "        <td>20</td>\n",
       "        <td>5284</td>\n",
       "    </tr>\n",
       "    <tr>\n",
       "        <td>2013</td>\n",
       "        <td>21</td>\n",
       "        <td>3919</td>\n",
       "    </tr>\n",
       "    <tr>\n",
       "        <td>2013</td>\n",
       "        <td>22</td>\n",
       "        <td>3439</td>\n",
       "    </tr>\n",
       "    <tr>\n",
       "        <td>2013</td>\n",
       "        <td>23</td>\n",
       "        <td>2577</td>\n",
       "    </tr>\n",
       "    <tr>\n",
       "        <td>2014</td>\n",
       "        <td>00</td>\n",
       "        <td>2015</td>\n",
       "    </tr>\n",
       "    <tr>\n",
       "        <td>2014</td>\n",
       "        <td>01</td>\n",
       "        <td>1439</td>\n",
       "    </tr>\n",
       "    <tr>\n",
       "        <td>2014</td>\n",
       "        <td>02</td>\n",
       "        <td>1086</td>\n",
       "    </tr>\n",
       "    <tr>\n",
       "        <td>2014</td>\n",
       "        <td>03</td>\n",
       "        <td>922</td>\n",
       "    </tr>\n",
       "    <tr>\n",
       "        <td>2014</td>\n",
       "        <td>04</td>\n",
       "        <td>810</td>\n",
       "    </tr>\n",
       "    <tr>\n",
       "        <td>2014</td>\n",
       "        <td>05</td>\n",
       "        <td>1292</td>\n",
       "    </tr>\n",
       "    <tr>\n",
       "        <td>2014</td>\n",
       "        <td>06</td>\n",
       "        <td>2821</td>\n",
       "    </tr>\n",
       "    <tr>\n",
       "        <td>2014</td>\n",
       "        <td>07</td>\n",
       "        <td>6736</td>\n",
       "    </tr>\n",
       "    <tr>\n",
       "        <td>2014</td>\n",
       "        <td>08</td>\n",
       "        <td>10723</td>\n",
       "    </tr>\n",
       "    <tr>\n",
       "        <td>2014</td>\n",
       "        <td>09</td>\n",
       "        <td>7373</td>\n",
       "    </tr>\n",
       "    <tr>\n",
       "        <td>2014</td>\n",
       "        <td>10</td>\n",
       "        <td>6802</td>\n",
       "    </tr>\n",
       "    <tr>\n",
       "        <td>2014</td>\n",
       "        <td>11</td>\n",
       "        <td>7850</td>\n",
       "    </tr>\n",
       "    <tr>\n",
       "        <td>2014</td>\n",
       "        <td>12</td>\n",
       "        <td>8811</td>\n",
       "    </tr>\n",
       "    <tr>\n",
       "        <td>2014</td>\n",
       "        <td>13</td>\n",
       "        <td>8716</td>\n",
       "    </tr>\n",
       "    <tr>\n",
       "        <td>2014</td>\n",
       "        <td>14</td>\n",
       "        <td>8833</td>\n",
       "    </tr>\n",
       "    <tr>\n",
       "        <td>2014</td>\n",
       "        <td>15</td>\n",
       "        <td>11271</td>\n",
       "    </tr>\n",
       "    <tr>\n",
       "        <td>2014</td>\n",
       "        <td>16</td>\n",
       "        <td>11924</td>\n",
       "    </tr>\n",
       "    <tr>\n",
       "        <td>2014</td>\n",
       "        <td>17</td>\n",
       "        <td>13324</td>\n",
       "    </tr>\n",
       "    <tr>\n",
       "        <td>2014</td>\n",
       "        <td>18</td>\n",
       "        <td>10529</td>\n",
       "    </tr>\n",
       "    <tr>\n",
       "        <td>2014</td>\n",
       "        <td>19</td>\n",
       "        <td>7513</td>\n",
       "    </tr>\n",
       "    <tr>\n",
       "        <td>2014</td>\n",
       "        <td>20</td>\n",
       "        <td>5348</td>\n",
       "    </tr>\n",
       "    <tr>\n",
       "        <td>2014</td>\n",
       "        <td>21</td>\n",
       "        <td>4080</td>\n",
       "    </tr>\n",
       "    <tr>\n",
       "        <td>2014</td>\n",
       "        <td>22</td>\n",
       "        <td>3460</td>\n",
       "    </tr>\n",
       "    <tr>\n",
       "        <td>2014</td>\n",
       "        <td>23</td>\n",
       "        <td>2644</td>\n",
       "    </tr>\n",
       "</table>"
      ],
      "text/plain": [
       "[(Decimal('2012'), '00', 2567),\n",
       " (Decimal('2012'), '01', 1881),\n",
       " (Decimal('2012'), '02', 1579),\n",
       " (Decimal('2012'), '03', 1277),\n",
       " (Decimal('2012'), '04', 1050),\n",
       " (Decimal('2012'), '05', 1488),\n",
       " (Decimal('2012'), '06', 3225),\n",
       " (Decimal('2012'), '07', 7600),\n",
       " (Decimal('2012'), '08', 13380),\n",
       " (Decimal('2012'), '09', 9089),\n",
       " (Decimal('2012'), '10', 8149),\n",
       " (Decimal('2012'), '11', 9575),\n",
       " (Decimal('2012'), '12', 10584),\n",
       " (Decimal('2012'), '13', 10869),\n",
       " (Decimal('2012'), '14', 11000),\n",
       " (Decimal('2012'), '15', 14290),\n",
       " (Decimal('2012'), '16', 14528),\n",
       " (Decimal('2012'), '17', 16460),\n",
       " (Decimal('2012'), '18', 12620),\n",
       " (Decimal('2012'), '19', 9070),\n",
       " (Decimal('2012'), '20', 6533),\n",
       " (Decimal('2012'), '21', 5088),\n",
       " (Decimal('2012'), '22', 4423),\n",
       " (Decimal('2012'), '23', 3385),\n",
       " (Decimal('2013'), '00', 1906),\n",
       " (Decimal('2013'), '01', 1394),\n",
       " (Decimal('2013'), '02', 1113),\n",
       " (Decimal('2013'), '03', 936),\n",
       " (Decimal('2013'), '04', 774),\n",
       " (Decimal('2013'), '05', 1215),\n",
       " (Decimal('2013'), '06', 2620),\n",
       " (Decimal('2013'), '07', 6063),\n",
       " (Decimal('2013'), '08', 10202),\n",
       " (Decimal('2013'), '09', 7134),\n",
       " (Decimal('2013'), '10', 6470),\n",
       " (Decimal('2013'), '11', 7281),\n",
       " (Decimal('2013'), '12', 8298),\n",
       " (Decimal('2013'), '13', 8266),\n",
       " (Decimal('2013'), '14', 8359),\n",
       " (Decimal('2013'), '15', 10557),\n",
       " (Decimal('2013'), '16', 11443),\n",
       " (Decimal('2013'), '17', 12502),\n",
       " (Decimal('2013'), '18', 9883),\n",
       " (Decimal('2013'), '19', 7017),\n",
       " (Decimal('2013'), '20', 5284),\n",
       " (Decimal('2013'), '21', 3919),\n",
       " (Decimal('2013'), '22', 3439),\n",
       " (Decimal('2013'), '23', 2577),\n",
       " (Decimal('2014'), '00', 2015),\n",
       " (Decimal('2014'), '01', 1439),\n",
       " (Decimal('2014'), '02', 1086),\n",
       " (Decimal('2014'), '03', 922),\n",
       " (Decimal('2014'), '04', 810),\n",
       " (Decimal('2014'), '05', 1292),\n",
       " (Decimal('2014'), '06', 2821),\n",
       " (Decimal('2014'), '07', 6736),\n",
       " (Decimal('2014'), '08', 10723),\n",
       " (Decimal('2014'), '09', 7373),\n",
       " (Decimal('2014'), '10', 6802),\n",
       " (Decimal('2014'), '11', 7850),\n",
       " (Decimal('2014'), '12', 8811),\n",
       " (Decimal('2014'), '13', 8716),\n",
       " (Decimal('2014'), '14', 8833),\n",
       " (Decimal('2014'), '15', 11271),\n",
       " (Decimal('2014'), '16', 11924),\n",
       " (Decimal('2014'), '17', 13324),\n",
       " (Decimal('2014'), '18', 10529),\n",
       " (Decimal('2014'), '19', 7513),\n",
       " (Decimal('2014'), '20', 5348),\n",
       " (Decimal('2014'), '21', 4080),\n",
       " (Decimal('2014'), '22', 3460),\n",
       " (Decimal('2014'), '23', 2644)]"
      ]
     },
     "execution_count": 89,
     "metadata": {},
     "output_type": "execute_result"
    }
   ],
   "source": [
    "%%sql\n",
    "SELECT date.year, TO_CHAR(date.time,'HH24') AS hour, COUNT(*) AS frequency FROM accidents\n",
    "JOIN date\n",
    "ON accidents.date_key = date.date_key\n",
    "WHERE date.time != '00:00:59'\n",
    "GROUP BY date.year, TO_CHAR(date.time,'HH24')\n",
    "ORDER BY date.year, TO_CHAR(date.time,'HH24');"
   ]
  },
  {
   "cell_type": "code",
   "execution_count": 90,
   "metadata": {},
   "outputs": [
    {
     "data": {
      "text/plain": [
       "<BarContainer object of 72 artists>"
      ]
     },
     "execution_count": 90,
     "metadata": {},
     "output_type": "execute_result"
    },
    {
     "data": {
      "image/png": "[encoded data removed]",
      "text/plain": [
       "<Figure size 432x288 with 1 Axes>"
      ]
     },
     "metadata": {
      "needs_background": "light"
     },
     "output_type": "display_data"
    }
   ],
   "source": [
    "_.bar()"
   ]
  },
  {
   "cell_type": "markdown",
   "metadata": {},
   "source": [
    "## Analysis 3\n",
    "## Average number of vehicles and number of casualties in different road surface conditions."
   ]
  },
  {
   "cell_type": "markdown",
   "metadata": {},
   "source": [
    "#### Expectation: we consider the Frost/Ice or Wet/Damp will have highest average number of vehicles or number of casualties."
   ]
  },
  {
   "cell_type": "markdown",
   "metadata": {},
   "source": [
    "See the table of condition."
   ]
  },
  {
   "cell_type": "code",
   "execution_count": 91,
   "metadata": {},
   "outputs": [
    {
     "name": "stdout",
     "output_type": "stream",
     "text": [
      " * postgresql://student@/project4\n",
      "5 rows affected.\n"
     ]
    },
    {
     "data": {
      "text/html": [
       "<table>\n",
       "    <tr>\n",
       "        <th>condition_key</th>\n",
       "        <th>light_conditions</th>\n",
       "        <th>weather_condition</th>\n",
       "        <th>road_surface_condition</th>\n",
       "        <th>special_condition</th>\n",
       "        <th>carriageway_hazards</th>\n",
       "    </tr>\n",
       "    <tr>\n",
       "        <td>1</td>\n",
       "        <td>Daylight: Street light present</td>\n",
       "        <td>Snowing without high winds</td>\n",
       "        <td>Snow</td>\n",
       "        <td>None</td>\n",
       "        <td>Other object in carriageway</td>\n",
       "    </tr>\n",
       "    <tr>\n",
       "        <td>2</td>\n",
       "        <td>Darkness: Street lights present but unlit</td>\n",
       "        <td>Fine without high winds</td>\n",
       "        <td>Dry</td>\n",
       "        <td>None</td>\n",
       "        <td>Any animal (except a ridden horse)</td>\n",
       "    </tr>\n",
       "    <tr>\n",
       "        <td>3</td>\n",
       "        <td>Darkness: Street lights present and lit</td>\n",
       "        <td>Raining without high winds</td>\n",
       "        <td>Wet/Damp</td>\n",
       "        <td>Permanent sign or marking defective or obscured</td>\n",
       "        <td>None</td>\n",
       "    </tr>\n",
       "    <tr>\n",
       "        <td>4</td>\n",
       "        <td>Darkeness: No street lighting</td>\n",
       "        <td>Snowing without high winds</td>\n",
       "        <td>Snow</td>\n",
       "        <td>None</td>\n",
       "        <td>Involvement with previous accident</td>\n",
       "    </tr>\n",
       "    <tr>\n",
       "        <td>5</td>\n",
       "        <td>Daylight: Street light present</td>\n",
       "        <td>Snowing without high winds</td>\n",
       "        <td>Wet/Damp</td>\n",
       "        <td>Mud</td>\n",
       "        <td>None</td>\n",
       "    </tr>\n",
       "</table>"
      ],
      "text/plain": [
       "[(1, 'Daylight: Street light present', 'Snowing without high winds', 'Snow', 'None', 'Other object in carriageway'),\n",
       " (2, 'Darkness: Street lights present but unlit', 'Fine without high winds', 'Dry', 'None', 'Any animal (except a ridden horse)'),\n",
       " (3, 'Darkness: Street lights present and lit', 'Raining without high winds', 'Wet/Damp', 'Permanent sign or marking defective or obscured', 'None'),\n",
       " (4, 'Darkeness: No street lighting', 'Snowing without high winds', 'Snow', 'None', 'Involvement with previous accident'),\n",
       " (5, 'Daylight: Street light present', 'Snowing without high winds', 'Wet/Damp', 'Mud', 'None')]"
      ]
     },
     "execution_count": 91,
     "metadata": {},
     "output_type": "execute_result"
    }
   ],
   "source": [
    "%%sql\n",
    "SELECT * FROM condition\n",
    "LIMIT 5;"
   ]
  },
  {
   "cell_type": "markdown",
   "metadata": {},
   "source": [
    "See the type of road surface condition as well as the frequency."
   ]
  },
  {
   "cell_type": "code",
   "execution_count": 92,
   "metadata": {},
   "outputs": [
    {
     "name": "stdout",
     "output_type": "stream",
     "text": [
      " * postgresql://student@/project4\n",
      "6 rows affected.\n"
     ]
    },
    {
     "data": {
      "text/html": [
       "<table>\n",
       "    <tr>\n",
       "        <th>road_surface_condition</th>\n",
       "        <th>count</th>\n",
       "    </tr>\n",
       "    <tr>\n",
       "        <td>Dry</td>\n",
       "        <td>319370</td>\n",
       "    </tr>\n",
       "    <tr>\n",
       "        <td>Wet/Damp</td>\n",
       "        <td>132745</td>\n",
       "    </tr>\n",
       "    <tr>\n",
       "        <td>Frost/Ice</td>\n",
       "        <td>8140</td>\n",
       "    </tr>\n",
       "    <tr>\n",
       "        <td>Snow</td>\n",
       "        <td>2824</td>\n",
       "    </tr>\n",
       "    <tr>\n",
       "        <td>Flood (Over 3cm of water)</td>\n",
       "        <td>863</td>\n",
       "    </tr>\n",
       "    <tr>\n",
       "        <td>unknown</td>\n",
       "        <td>755</td>\n",
       "    </tr>\n",
       "</table>"
      ],
      "text/plain": [
       "[('Dry', 319370),\n",
       " ('Wet/Damp', 132745),\n",
       " ('Frost/Ice', 8140),\n",
       " ('Snow', 2824),\n",
       " ('Flood (Over 3cm of water)', 863),\n",
       " ('unknown', 755)]"
      ]
     },
     "execution_count": 92,
     "metadata": {},
     "output_type": "execute_result"
    }
   ],
   "source": [
    "%%sql\n",
    "SELECT condition.road_surface_condition, COUNT(*) FROM accidents\n",
    "JOIN condition\n",
    "ON accidents.condition_key = condition.condition_key\n",
    "GROUP BY condition.road_surface_condition\n",
    "ORDER BY COUNT(*) DESC;"
   ]
  },
  {
   "cell_type": "code",
   "execution_count": 93,
   "metadata": {},
   "outputs": [
    {
     "data": {
      "text/html": [
       "<img src=\"https://i.ibb.co/mbbjtBt/road1.png\"/>"
      ],
      "text/plain": [
       "<IPython.core.display.Image object>"
      ]
     },
     "execution_count": 93,
     "metadata": {},
     "output_type": "execute_result"
    }
   ],
   "source": [
    "Image(url=\"https://i.ibb.co/mbbjtBt/road1.png\")"
   ]
  },
  {
   "cell_type": "markdown",
   "metadata": {},
   "source": [
    "Wee can see most accidents happened when the road surface is Wet/Damp."
   ]
  },
  {
   "cell_type": "code",
   "execution_count": 94,
   "metadata": {},
   "outputs": [
    {
     "name": "stdout",
     "output_type": "stream",
     "text": [
      " * postgresql://student@/project4\n",
      "5 rows affected.\n"
     ]
    },
    {
     "data": {
      "text/html": [
       "<table>\n",
       "    <tr>\n",
       "        <th>road_surface_condition</th>\n",
       "        <th>avg_casualties</th>\n",
       "        <th>avg_vehicles</th>\n",
       "    </tr>\n",
       "    <tr>\n",
       "        <td>Flood (Over 3cm of water)</td>\n",
       "        <td>1.41</td>\n",
       "        <td>1.53</td>\n",
       "    </tr>\n",
       "    <tr>\n",
       "        <td>Wet/Damp</td>\n",
       "        <td>1.37</td>\n",
       "        <td>1.81</td>\n",
       "    </tr>\n",
       "    <tr>\n",
       "        <td>Snow</td>\n",
       "        <td>1.36</td>\n",
       "        <td>1.72</td>\n",
       "    </tr>\n",
       "    <tr>\n",
       "        <td>Frost/Ice</td>\n",
       "        <td>1.34</td>\n",
       "        <td>1.60</td>\n",
       "    </tr>\n",
       "    <tr>\n",
       "        <td>Dry</td>\n",
       "        <td>1.32</td>\n",
       "        <td>1.84</td>\n",
       "    </tr>\n",
       "</table>"
      ],
      "text/plain": [
       "[('Flood (Over 3cm of water)', Decimal('1.41'), Decimal('1.53')),\n",
       " ('Wet/Damp', Decimal('1.37'), Decimal('1.81')),\n",
       " ('Snow', Decimal('1.36'), Decimal('1.72')),\n",
       " ('Frost/Ice', Decimal('1.34'), Decimal('1.60')),\n",
       " ('Dry', Decimal('1.32'), Decimal('1.84'))]"
      ]
     },
     "execution_count": 94,
     "metadata": {},
     "output_type": "execute_result"
    }
   ],
   "source": [
    "%%sql\n",
    "SELECT condition.road_surface_condition, ROUND(AVG(accidents.number_casualties),2) AS avg_casualties , ROUND(AVG(accidents.number_vehicles),2) AS avg_vehicles \n",
    "FROM accidents\n",
    "JOIN condition\n",
    "ON accidents.condition_key = condition.condition_key\n",
    "WHERE condition.road_surface_condition != 'unknown'\n",
    "GROUP BY condition.road_surface_condition\n",
    "ORDER BY AVG(accidents.number_casualties)DESC, AVG(accidents.number_vehicles) DESC;"
   ]
  },
  {
   "cell_type": "code",
   "execution_count": 95,
   "metadata": {},
   "outputs": [
    {
     "data": {
      "text/html": [
       "<img src=\"https://i.ibb.co/DLqkjZH/road2.png\"/>"
      ],
      "text/plain": [
       "<IPython.core.display.Image object>"
      ]
     },
     "execution_count": 95,
     "metadata": {},
     "output_type": "execute_result"
    }
   ],
   "source": [
    "Image(url=\"https://i.ibb.co/DLqkjZH/road2.png\")"
   ]
  },
  {
   "cell_type": "markdown",
   "metadata": {},
   "source": [
    "Note: because we set the null value of road_surface_condition to 'unknown' we must exclude them so as not to affect the calculation of aggregate function which will ignore null values."
   ]
  },
  {
   "cell_type": "code",
   "execution_count": 96,
   "metadata": {},
   "outputs": [
    {
     "name": "stdout",
     "output_type": "stream",
     "text": [
      " * postgresql://student@/project4\n",
      "5 rows affected.\n"
     ]
    },
    {
     "data": {
      "text/html": [
       "<table>\n",
       "    <tr>\n",
       "        <th>road_surface_condition</th>\n",
       "        <th>avg_vehicles</th>\n",
       "    </tr>\n",
       "    <tr>\n",
       "        <td>Dry</td>\n",
       "        <td>1.84</td>\n",
       "    </tr>\n",
       "    <tr>\n",
       "        <td>Wet/Damp</td>\n",
       "        <td>1.81</td>\n",
       "    </tr>\n",
       "    <tr>\n",
       "        <td>Snow</td>\n",
       "        <td>1.72</td>\n",
       "    </tr>\n",
       "    <tr>\n",
       "        <td>Frost/Ice</td>\n",
       "        <td>1.60</td>\n",
       "    </tr>\n",
       "    <tr>\n",
       "        <td>Flood (Over 3cm of water)</td>\n",
       "        <td>1.53</td>\n",
       "    </tr>\n",
       "</table>"
      ],
      "text/plain": [
       "[('Dry', Decimal('1.84')),\n",
       " ('Wet/Damp', Decimal('1.81')),\n",
       " ('Snow', Decimal('1.72')),\n",
       " ('Frost/Ice', Decimal('1.60')),\n",
       " ('Flood (Over 3cm of water)', Decimal('1.53'))]"
      ]
     },
     "execution_count": 96,
     "metadata": {},
     "output_type": "execute_result"
    }
   ],
   "source": [
    "%%sql\n",
    "SELECT condition.road_surface_condition, ROUND(AVG(accidents.number_vehicles),2) AS avg_vehicles \n",
    "FROM accidents\n",
    "JOIN condition\n",
    "ON accidents.condition_key = condition.condition_key\n",
    "WHERE condition.road_surface_condition != 'unknown'\n",
    "GROUP BY condition.road_surface_condition\n",
    "ORDER BY AVG(accidents.number_vehicles) DESC;"
   ]
  },
  {
   "cell_type": "markdown",
   "metadata": {},
   "source": [
    "It is very interesting that the all results do not match with our expectations. "
   ]
  },
  {
   "cell_type": "markdown",
   "metadata": {},
   "source": [
    "Flood has most average casualties but lowest vehicles."
   ]
  },
  {
   "cell_type": "markdown",
   "metadata": {},
   "source": [
    "Wet/Damp both are in second place."
   ]
  },
  {
   "cell_type": "markdown",
   "metadata": {},
   "source": [
    "Dry is also interesting. It has highest vehicles but lowest casaulties."
   ]
  },
  {
   "cell_type": "markdown",
   "metadata": {},
   "source": [
    "## Analysis 4\n",
    "## Average number of vehicles and number of casualties in different special conditions"
   ]
  },
  {
   "cell_type": "markdown",
   "metadata": {},
   "source": [
    "#### Expectation: we consider the Road surface defective or Permanent sign or marking defective or obscured will have highest average number of vehicles or number of casualties"
   ]
  },
  {
   "cell_type": "markdown",
   "metadata": {},
   "source": [
    "See the table of condition."
   ]
  },
  {
   "cell_type": "code",
   "execution_count": 97,
   "metadata": {},
   "outputs": [
    {
     "name": "stdout",
     "output_type": "stream",
     "text": [
      " * postgresql://student@/project4\n",
      "5 rows affected.\n"
     ]
    },
    {
     "data": {
      "text/html": [
       "<table>\n",
       "    <tr>\n",
       "        <th>condition_key</th>\n",
       "        <th>light_conditions</th>\n",
       "        <th>weather_condition</th>\n",
       "        <th>road_surface_condition</th>\n",
       "        <th>special_condition</th>\n",
       "        <th>carriageway_hazards</th>\n",
       "    </tr>\n",
       "    <tr>\n",
       "        <td>1</td>\n",
       "        <td>Daylight: Street light present</td>\n",
       "        <td>Snowing without high winds</td>\n",
       "        <td>Snow</td>\n",
       "        <td>None</td>\n",
       "        <td>Other object in carriageway</td>\n",
       "    </tr>\n",
       "    <tr>\n",
       "        <td>2</td>\n",
       "        <td>Darkness: Street lights present but unlit</td>\n",
       "        <td>Fine without high winds</td>\n",
       "        <td>Dry</td>\n",
       "        <td>None</td>\n",
       "        <td>Any animal (except a ridden horse)</td>\n",
       "    </tr>\n",
       "    <tr>\n",
       "        <td>3</td>\n",
       "        <td>Darkness: Street lights present and lit</td>\n",
       "        <td>Raining without high winds</td>\n",
       "        <td>Wet/Damp</td>\n",
       "        <td>Permanent sign or marking defective or obscured</td>\n",
       "        <td>None</td>\n",
       "    </tr>\n",
       "    <tr>\n",
       "        <td>4</td>\n",
       "        <td>Darkeness: No street lighting</td>\n",
       "        <td>Snowing without high winds</td>\n",
       "        <td>Snow</td>\n",
       "        <td>None</td>\n",
       "        <td>Involvement with previous accident</td>\n",
       "    </tr>\n",
       "    <tr>\n",
       "        <td>5</td>\n",
       "        <td>Daylight: Street light present</td>\n",
       "        <td>Snowing without high winds</td>\n",
       "        <td>Wet/Damp</td>\n",
       "        <td>Mud</td>\n",
       "        <td>None</td>\n",
       "    </tr>\n",
       "</table>"
      ],
      "text/plain": [
       "[(1, 'Daylight: Street light present', 'Snowing without high winds', 'Snow', 'None', 'Other object in carriageway'),\n",
       " (2, 'Darkness: Street lights present but unlit', 'Fine without high winds', 'Dry', 'None', 'Any animal (except a ridden horse)'),\n",
       " (3, 'Darkness: Street lights present and lit', 'Raining without high winds', 'Wet/Damp', 'Permanent sign or marking defective or obscured', 'None'),\n",
       " (4, 'Darkeness: No street lighting', 'Snowing without high winds', 'Snow', 'None', 'Involvement with previous accident'),\n",
       " (5, 'Daylight: Street light present', 'Snowing without high winds', 'Wet/Damp', 'Mud', 'None')]"
      ]
     },
     "execution_count": 97,
     "metadata": {},
     "output_type": "execute_result"
    }
   ],
   "source": [
    "%%sql\n",
    "SELECT * FROM condition\n",
    "LIMIT 5;"
   ]
  },
  {
   "cell_type": "markdown",
   "metadata": {},
   "source": [
    "See the type of special condition as well as the frequency."
   ]
  },
  {
   "cell_type": "code",
   "execution_count": 98,
   "metadata": {},
   "outputs": [
    {
     "name": "stdout",
     "output_type": "stream",
     "text": [
      " * postgresql://student@/project4\n",
      "9 rows affected.\n"
     ]
    },
    {
     "data": {
      "text/html": [
       "<table>\n",
       "    <tr>\n",
       "        <th>special_condition</th>\n",
       "        <th>count</th>\n",
       "    </tr>\n",
       "    <tr>\n",
       "        <td>None</td>\n",
       "        <td>454385</td>\n",
       "    </tr>\n",
       "    <tr>\n",
       "        <td>Roadworks</td>\n",
       "        <td>4742</td>\n",
       "    </tr>\n",
       "    <tr>\n",
       "        <td>Mud</td>\n",
       "        <td>1413</td>\n",
       "    </tr>\n",
       "    <tr>\n",
       "        <td>Ol or diesel</td>\n",
       "        <td>1406</td>\n",
       "    </tr>\n",
       "    <tr>\n",
       "        <td>Road surface defective</td>\n",
       "        <td>1144</td>\n",
       "    </tr>\n",
       "    <tr>\n",
       "        <td>Auto traffic singal out</td>\n",
       "        <td>758</td>\n",
       "    </tr>\n",
       "    <tr>\n",
       "        <td>Permanent sign or marking defective or obscured</td>\n",
       "        <td>625</td>\n",
       "    </tr>\n",
       "    <tr>\n",
       "        <td>Auto traffic signal partly defective</td>\n",
       "        <td>222</td>\n",
       "    </tr>\n",
       "    <tr>\n",
       "        <td>unknown</td>\n",
       "        <td>2</td>\n",
       "    </tr>\n",
       "</table>"
      ],
      "text/plain": [
       "[('None', 454385),\n",
       " ('Roadworks', 4742),\n",
       " ('Mud', 1413),\n",
       " ('Ol or diesel', 1406),\n",
       " ('Road surface defective', 1144),\n",
       " ('Auto traffic singal out', 758),\n",
       " ('Permanent sign or marking defective or obscured', 625),\n",
       " ('Auto traffic signal partly defective', 222),\n",
       " ('unknown', 2)]"
      ]
     },
     "execution_count": 98,
     "metadata": {},
     "output_type": "execute_result"
    }
   ],
   "source": [
    "%%sql\n",
    "SELECT condition.special_condition, COUNT(*) FROM accidents\n",
    "JOIN condition\n",
    "ON accidents.condition_key = condition.condition_key\n",
    "GROUP BY special_condition\n",
    "ORDER BY COUNT(*) DESC;"
   ]
  },
  {
   "cell_type": "code",
   "execution_count": 99,
   "metadata": {},
   "outputs": [
    {
     "data": {
      "text/html": [
       "<img src=\"https://i.ibb.co/K5NHh5P/special1.png\"/>"
      ],
      "text/plain": [
       "<IPython.core.display.Image object>"
      ]
     },
     "execution_count": 99,
     "metadata": {},
     "output_type": "execute_result"
    }
   ],
   "source": [
    "Image(url=\"https://i.ibb.co/K5NHh5P/special1.png\")"
   ]
  },
  {
   "cell_type": "markdown",
   "metadata": {},
   "source": [
    "The result above shows us that if there is special condition, accidents happened most when the special condition is Roadworks."
   ]
  },
  {
   "cell_type": "markdown",
   "metadata": {},
   "source": [
    "Note: In here, 'None' is not null value, whereas 'unknown' is. None means there is no special condition."
   ]
  },
  {
   "cell_type": "code",
   "execution_count": 100,
   "metadata": {},
   "outputs": [
    {
     "name": "stdout",
     "output_type": "stream",
     "text": [
      " * postgresql://student@/project4\n",
      "8 rows affected.\n"
     ]
    },
    {
     "data": {
      "text/html": [
       "<table>\n",
       "    <tr>\n",
       "        <th>special_condition</th>\n",
       "        <th>avg_casualties</th>\n",
       "        <th>avg_vehicles</th>\n",
       "    </tr>\n",
       "    <tr>\n",
       "        <td>Permanent sign or marking defective or obscured</td>\n",
       "        <td>1.55</td>\n",
       "        <td>1.88</td>\n",
       "    </tr>\n",
       "    <tr>\n",
       "        <td>Auto traffic signal partly defective</td>\n",
       "        <td>1.52</td>\n",
       "        <td>1.89</td>\n",
       "    </tr>\n",
       "    <tr>\n",
       "        <td>Auto traffic singal out</td>\n",
       "        <td>1.44</td>\n",
       "        <td>1.91</td>\n",
       "    </tr>\n",
       "    <tr>\n",
       "        <td>Roadworks</td>\n",
       "        <td>1.40</td>\n",
       "        <td>2.04</td>\n",
       "    </tr>\n",
       "    <tr>\n",
       "        <td>Ol or diesel</td>\n",
       "        <td>1.38</td>\n",
       "        <td>1.56</td>\n",
       "    </tr>\n",
       "    <tr>\n",
       "        <td>Mud</td>\n",
       "        <td>1.35</td>\n",
       "        <td>1.46</td>\n",
       "    </tr>\n",
       "    <tr>\n",
       "        <td>None</td>\n",
       "        <td>1.33</td>\n",
       "        <td>1.83</td>\n",
       "    </tr>\n",
       "    <tr>\n",
       "        <td>Road surface defective</td>\n",
       "        <td>1.22</td>\n",
       "        <td>1.43</td>\n",
       "    </tr>\n",
       "</table>"
      ],
      "text/plain": [
       "[('Permanent sign or marking defective or obscured', Decimal('1.55'), Decimal('1.88')),\n",
       " ('Auto traffic signal partly defective', Decimal('1.52'), Decimal('1.89')),\n",
       " ('Auto traffic singal out', Decimal('1.44'), Decimal('1.91')),\n",
       " ('Roadworks', Decimal('1.40'), Decimal('2.04')),\n",
       " ('Ol or diesel', Decimal('1.38'), Decimal('1.56')),\n",
       " ('Mud', Decimal('1.35'), Decimal('1.46')),\n",
       " ('None', Decimal('1.33'), Decimal('1.83')),\n",
       " ('Road surface defective', Decimal('1.22'), Decimal('1.43'))]"
      ]
     },
     "execution_count": 100,
     "metadata": {},
     "output_type": "execute_result"
    }
   ],
   "source": [
    "%%sql\n",
    "SELECT condition.special_condition, ROUND(AVG(accidents.number_casualties),2) AS avg_casualties , ROUND(AVG(accidents.number_vehicles),2) AS avg_vehicles \n",
    "FROM accidents\n",
    "JOIN condition\n",
    "ON accidents.condition_key = condition.condition_key\n",
    "WHERE condition.special_condition != 'unknown'\n",
    "GROUP BY condition.special_condition\n",
    "ORDER BY AVG(accidents.number_casualties)DESC, AVG(accidents.number_vehicles) DESC;"
   ]
  },
  {
   "cell_type": "code",
   "execution_count": 101,
   "metadata": {},
   "outputs": [
    {
     "data": {
      "text/html": [
       "<img src=\"https://i.ibb.co/rpqkWw8/special2.png\"/>"
      ],
      "text/plain": [
       "<IPython.core.display.Image object>"
      ]
     },
     "execution_count": 101,
     "metadata": {},
     "output_type": "execute_result"
    }
   ],
   "source": [
    "Image(url=\"https://i.ibb.co/rpqkWw8/special2.png\")"
   ]
  },
  {
   "cell_type": "code",
   "execution_count": 102,
   "metadata": {},
   "outputs": [
    {
     "name": "stdout",
     "output_type": "stream",
     "text": [
      " * postgresql://student@/project4\n",
      "8 rows affected.\n"
     ]
    },
    {
     "data": {
      "text/html": [
       "<table>\n",
       "    <tr>\n",
       "        <th>special_condition</th>\n",
       "        <th>avg_vehicles</th>\n",
       "    </tr>\n",
       "    <tr>\n",
       "        <td>Roadworks</td>\n",
       "        <td>2.04</td>\n",
       "    </tr>\n",
       "    <tr>\n",
       "        <td>Auto traffic singal out</td>\n",
       "        <td>1.91</td>\n",
       "    </tr>\n",
       "    <tr>\n",
       "        <td>Auto traffic signal partly defective</td>\n",
       "        <td>1.89</td>\n",
       "    </tr>\n",
       "    <tr>\n",
       "        <td>Permanent sign or marking defective or obscured</td>\n",
       "        <td>1.88</td>\n",
       "    </tr>\n",
       "    <tr>\n",
       "        <td>None</td>\n",
       "        <td>1.83</td>\n",
       "    </tr>\n",
       "    <tr>\n",
       "        <td>Ol or diesel</td>\n",
       "        <td>1.56</td>\n",
       "    </tr>\n",
       "    <tr>\n",
       "        <td>Mud</td>\n",
       "        <td>1.46</td>\n",
       "    </tr>\n",
       "    <tr>\n",
       "        <td>Road surface defective</td>\n",
       "        <td>1.43</td>\n",
       "    </tr>\n",
       "</table>"
      ],
      "text/plain": [
       "[('Roadworks', Decimal('2.04')),\n",
       " ('Auto traffic singal out', Decimal('1.91')),\n",
       " ('Auto traffic signal partly defective', Decimal('1.89')),\n",
       " ('Permanent sign or marking defective or obscured', Decimal('1.88')),\n",
       " ('None', Decimal('1.83')),\n",
       " ('Ol or diesel', Decimal('1.56')),\n",
       " ('Mud', Decimal('1.46')),\n",
       " ('Road surface defective', Decimal('1.43'))]"
      ]
     },
     "execution_count": 102,
     "metadata": {},
     "output_type": "execute_result"
    }
   ],
   "source": [
    "%%sql\n",
    "SELECT condition.special_condition, ROUND(AVG(accidents.number_vehicles),2) AS avg_vehicles \n",
    "FROM accidents\n",
    "JOIN condition\n",
    "ON accidents.condition_key = condition.condition_key\n",
    "WHERE condition.special_condition != 'unknown'\n",
    "GROUP BY condition.special_condition\n",
    "ORDER BY AVG(accidents.number_vehicles) DESC;"
   ]
  },
  {
   "cell_type": "markdown",
   "metadata": {},
   "source": [
    "'Road surface defective', contrary to our expectation, has both the lowest figure."
   ]
  },
  {
   "cell_type": "markdown",
   "metadata": {},
   "source": [
    "'Permanent sign or marking defective or obscured' has most average casualties and also its average vehicles is in forth place. Therefore, we consider the government should take the issue of 'Permanent sign or marking defective or obscured' into consideration in lowering the average casualties because of traffic accident. As for lowering the accident frequency, the government should contemplate the time starting the 'Roadworks' or other issues."
   ]
  },
  {
   "cell_type": "markdown",
   "metadata": {},
   "source": [
    "severity\tnumber_vehicles\tnumber_casualties\tdate_key\tcondition_key\troad_key\tlocation_key"
   ]
  },
  {
   "cell_type": "markdown",
   "metadata": {},
   "source": [
    "## Analysis 5\n",
    "## Average number of vehicles and number of casualties in different carriageway hazards"
   ]
  },
  {
   "cell_type": "markdown",
   "metadata": {},
   "source": [
    "#### Expectation: we consider Involvement with previous accident or Dislodged vehicle load in carriageway will have highest average number of vehicles or number of casualties"
   ]
  },
  {
   "cell_type": "markdown",
   "metadata": {},
   "source": [
    "See the type of carriageway hazards as well as the frequency."
   ]
  },
  {
   "cell_type": "code",
   "execution_count": 103,
   "metadata": {},
   "outputs": [
    {
     "name": "stdout",
     "output_type": "stream",
     "text": [
      " * postgresql://student@/project4\n",
      "7 rows affected.\n"
     ]
    },
    {
     "data": {
      "text/html": [
       "<table>\n",
       "    <tr>\n",
       "        <th>carriageway_hazards</th>\n",
       "        <th>count</th>\n",
       "    </tr>\n",
       "    <tr>\n",
       "        <td>None</td>\n",
       "        <td>456847</td>\n",
       "    </tr>\n",
       "    <tr>\n",
       "        <td>Other object in carriageway</td>\n",
       "        <td>3148</td>\n",
       "    </tr>\n",
       "    <tr>\n",
       "        <td>Any animal (except a ridden horse)</td>\n",
       "        <td>2340</td>\n",
       "    </tr>\n",
       "    <tr>\n",
       "        <td>Pedestrian in carriageway (not injured)</td>\n",
       "        <td>1274</td>\n",
       "    </tr>\n",
       "    <tr>\n",
       "        <td>Involvement with previous accident</td>\n",
       "        <td>617</td>\n",
       "    </tr>\n",
       "    <tr>\n",
       "        <td>Dislodged vehicle load in carriageway</td>\n",
       "        <td>468</td>\n",
       "    </tr>\n",
       "    <tr>\n",
       "        <td>unknown</td>\n",
       "        <td>3</td>\n",
       "    </tr>\n",
       "</table>"
      ],
      "text/plain": [
       "[('None', 456847),\n",
       " ('Other object in carriageway', 3148),\n",
       " ('Any animal (except a ridden horse)', 2340),\n",
       " ('Pedestrian in carriageway (not injured)', 1274),\n",
       " ('Involvement with previous accident', 617),\n",
       " ('Dislodged vehicle load in carriageway', 468),\n",
       " ('unknown', 3)]"
      ]
     },
     "execution_count": 103,
     "metadata": {},
     "output_type": "execute_result"
    }
   ],
   "source": [
    "%%sql\n",
    "SELECT condition.carriageway_hazards, COUNT(*) FROM accidents\n",
    "JOIN condition\n",
    "ON accidents.condition_key = condition.condition_key\n",
    "GROUP BY carriageway_hazards\n",
    "ORDER BY COUNT(*) DESC;"
   ]
  },
  {
   "cell_type": "code",
   "execution_count": 104,
   "metadata": {},
   "outputs": [
    {
     "data": {
      "text/html": [
       "<img src=\"https://i.ibb.co/dKs5fgp/carriage1.png\"/>"
      ],
      "text/plain": [
       "<IPython.core.display.Image object>"
      ]
     },
     "execution_count": 104,
     "metadata": {},
     "output_type": "execute_result"
    }
   ],
   "source": [
    "Image(url=\"https://i.ibb.co/dKs5fgp/carriage1.png\")"
   ]
  },
  {
   "cell_type": "markdown",
   "metadata": {},
   "source": [
    "The result above shows us that if there is carriageway hazards, accidents happened most when the carriageway hazards is other object in carriageway."
   ]
  },
  {
   "cell_type": "markdown",
   "metadata": {},
   "source": [
    "Note: In here, 'None' is not null value, whereas 'unknown' is. None means there is no carriageway hazards."
   ]
  },
  {
   "cell_type": "code",
   "execution_count": 105,
   "metadata": {},
   "outputs": [
    {
     "name": "stdout",
     "output_type": "stream",
     "text": [
      " * postgresql://student@/project4\n",
      "6 rows affected.\n"
     ]
    },
    {
     "data": {
      "text/html": [
       "<table>\n",
       "    <tr>\n",
       "        <th>carriageway_hazards</th>\n",
       "        <th>avg_casualties</th>\n",
       "        <th>avg_vehicles</th>\n",
       "    </tr>\n",
       "    <tr>\n",
       "        <td>Involvement with previous accident</td>\n",
       "        <td>1.77</td>\n",
       "        <td>2.62</td>\n",
       "    </tr>\n",
       "    <tr>\n",
       "        <td>Dislodged vehicle load in carriageway</td>\n",
       "        <td>1.39</td>\n",
       "        <td>2.21</td>\n",
       "    </tr>\n",
       "    <tr>\n",
       "        <td>Any animal (except a ridden horse)</td>\n",
       "        <td>1.35</td>\n",
       "        <td>1.35</td>\n",
       "    </tr>\n",
       "    <tr>\n",
       "        <td>None</td>\n",
       "        <td>1.33</td>\n",
       "        <td>1.83</td>\n",
       "    </tr>\n",
       "    <tr>\n",
       "        <td>Other object in carriageway</td>\n",
       "        <td>1.33</td>\n",
       "        <td>1.71</td>\n",
       "    </tr>\n",
       "    <tr>\n",
       "        <td>Pedestrian in carriageway (not injured)</td>\n",
       "        <td>1.24</td>\n",
       "        <td>1.41</td>\n",
       "    </tr>\n",
       "</table>"
      ],
      "text/plain": [
       "[('Involvement with previous accident', Decimal('1.77'), Decimal('2.62')),\n",
       " ('Dislodged vehicle load in carriageway', Decimal('1.39'), Decimal('2.21')),\n",
       " ('Any animal (except a ridden horse)', Decimal('1.35'), Decimal('1.35')),\n",
       " ('None', Decimal('1.33'), Decimal('1.83')),\n",
       " ('Other object in carriageway', Decimal('1.33'), Decimal('1.71')),\n",
       " ('Pedestrian in carriageway (not injured)', Decimal('1.24'), Decimal('1.41'))]"
      ]
     },
     "execution_count": 105,
     "metadata": {},
     "output_type": "execute_result"
    }
   ],
   "source": [
    "%%sql\n",
    "SELECT condition.carriageway_hazards, ROUND(AVG(accidents.number_casualties),2) AS avg_casualties , ROUND(AVG(accidents.number_vehicles),2) AS avg_vehicles \n",
    "FROM accidents\n",
    "JOIN condition\n",
    "ON accidents.condition_key = condition.condition_key\n",
    "WHERE condition.carriageway_hazards != 'unknown'\n",
    "GROUP BY condition.carriageway_hazards\n",
    "ORDER BY AVG(accidents.number_casualties)DESC, AVG(accidents.number_vehicles) DESC;"
   ]
  },
  {
   "cell_type": "code",
   "execution_count": 106,
   "metadata": {},
   "outputs": [
    {
     "data": {
      "text/html": [
       "<img src=\"https://i.ibb.co/xs11JJT/carriage2.png\"/>"
      ],
      "text/plain": [
       "<IPython.core.display.Image object>"
      ]
     },
     "execution_count": 106,
     "metadata": {},
     "output_type": "execute_result"
    }
   ],
   "source": [
    "Image(url=\"https://i.ibb.co/xs11JJT/carriage2.png\")"
   ]
  },
  {
   "cell_type": "code",
   "execution_count": 107,
   "metadata": {},
   "outputs": [
    {
     "name": "stdout",
     "output_type": "stream",
     "text": [
      " * postgresql://student@/project4\n",
      "6 rows affected.\n"
     ]
    },
    {
     "data": {
      "text/html": [
       "<table>\n",
       "    <tr>\n",
       "        <th>carriageway_hazards</th>\n",
       "        <th>avg_vehicles</th>\n",
       "    </tr>\n",
       "    <tr>\n",
       "        <td>Involvement with previous accident</td>\n",
       "        <td>2.62</td>\n",
       "    </tr>\n",
       "    <tr>\n",
       "        <td>Dislodged vehicle load in carriageway</td>\n",
       "        <td>2.21</td>\n",
       "    </tr>\n",
       "    <tr>\n",
       "        <td>None</td>\n",
       "        <td>1.83</td>\n",
       "    </tr>\n",
       "    <tr>\n",
       "        <td>Other object in carriageway</td>\n",
       "        <td>1.71</td>\n",
       "    </tr>\n",
       "    <tr>\n",
       "        <td>Pedestrian in carriageway (not injured)</td>\n",
       "        <td>1.41</td>\n",
       "    </tr>\n",
       "    <tr>\n",
       "        <td>Any animal (except a ridden horse)</td>\n",
       "        <td>1.35</td>\n",
       "    </tr>\n",
       "</table>"
      ],
      "text/plain": [
       "[('Involvement with previous accident', Decimal('2.62')),\n",
       " ('Dislodged vehicle load in carriageway', Decimal('2.21')),\n",
       " ('None', Decimal('1.83')),\n",
       " ('Other object in carriageway', Decimal('1.71')),\n",
       " ('Pedestrian in carriageway (not injured)', Decimal('1.41')),\n",
       " ('Any animal (except a ridden horse)', Decimal('1.35'))]"
      ]
     },
     "execution_count": 107,
     "metadata": {},
     "output_type": "execute_result"
    }
   ],
   "source": [
    "%%sql\n",
    "SELECT condition.carriageway_hazards, ROUND(AVG(accidents.number_vehicles),2) AS avg_vehicles \n",
    "FROM accidents\n",
    "JOIN condition\n",
    "ON accidents.condition_key = condition.condition_key\n",
    "WHERE condition.carriageway_hazards != 'unknown'\n",
    "GROUP BY condition.carriageway_hazards\n",
    "ORDER BY AVG(accidents.number_vehicles) DESC;"
   ]
  },
  {
   "cell_type": "markdown",
   "metadata": {},
   "source": [
    "Same as our expectation, Involvement with previous accident and Dislodged vehicle load in carriageway have the most and second highest average number of vehicles and number of casualties respectively. We consider that since Involvement with previous accident just like putting at least two accidents into one count, it will have more average number and vehicles or number of casualties than normal traffic accident. As for Dislodged vehicle load in carriageway, generally when load fall out of vehicle, the load has speed and happens so instantly that people cannot react timely. Therefore, dislodged vehicle load is extremely dagerous and the government should impose severe punishment on those do not obey the regulation of vehicle load or SOP of loading up vehicle. "
   ]
  },
  {
   "cell_type": "markdown",
   "metadata": {},
   "source": [
    "## Analysis 6\n",
    "## Average number of vehicles and number of casualties in different light condition or weather condition"
   ]
  },
  {
   "cell_type": "markdown",
   "metadata": {},
   "source": [
    "#### Expectation: we consider when light condition is not ideal, the average number of vehicles and number of casualties will be high. Same expectation as weather condition is not ideal."
   ]
  },
  {
   "cell_type": "markdown",
   "metadata": {},
   "source": [
    "See the table of condition."
   ]
  },
  {
   "cell_type": "code",
   "execution_count": 108,
   "metadata": {},
   "outputs": [
    {
     "name": "stdout",
     "output_type": "stream",
     "text": [
      " * postgresql://student@/project4\n",
      "5 rows affected.\n"
     ]
    },
    {
     "data": {
      "text/html": [
       "<table>\n",
       "    <tr>\n",
       "        <th>condition_key</th>\n",
       "        <th>light_conditions</th>\n",
       "        <th>weather_condition</th>\n",
       "        <th>road_surface_condition</th>\n",
       "        <th>special_condition</th>\n",
       "        <th>carriageway_hazards</th>\n",
       "    </tr>\n",
       "    <tr>\n",
       "        <td>1</td>\n",
       "        <td>Daylight: Street light present</td>\n",
       "        <td>Snowing without high winds</td>\n",
       "        <td>Snow</td>\n",
       "        <td>None</td>\n",
       "        <td>Other object in carriageway</td>\n",
       "    </tr>\n",
       "    <tr>\n",
       "        <td>2</td>\n",
       "        <td>Darkness: Street lights present but unlit</td>\n",
       "        <td>Fine without high winds</td>\n",
       "        <td>Dry</td>\n",
       "        <td>None</td>\n",
       "        <td>Any animal (except a ridden horse)</td>\n",
       "    </tr>\n",
       "    <tr>\n",
       "        <td>3</td>\n",
       "        <td>Darkness: Street lights present and lit</td>\n",
       "        <td>Raining without high winds</td>\n",
       "        <td>Wet/Damp</td>\n",
       "        <td>Permanent sign or marking defective or obscured</td>\n",
       "        <td>None</td>\n",
       "    </tr>\n",
       "    <tr>\n",
       "        <td>4</td>\n",
       "        <td>Darkeness: No street lighting</td>\n",
       "        <td>Snowing without high winds</td>\n",
       "        <td>Snow</td>\n",
       "        <td>None</td>\n",
       "        <td>Involvement with previous accident</td>\n",
       "    </tr>\n",
       "    <tr>\n",
       "        <td>5</td>\n",
       "        <td>Daylight: Street light present</td>\n",
       "        <td>Snowing without high winds</td>\n",
       "        <td>Wet/Damp</td>\n",
       "        <td>Mud</td>\n",
       "        <td>None</td>\n",
       "    </tr>\n",
       "</table>"
      ],
      "text/plain": [
       "[(1, 'Daylight: Street light present', 'Snowing without high winds', 'Snow', 'None', 'Other object in carriageway'),\n",
       " (2, 'Darkness: Street lights present but unlit', 'Fine without high winds', 'Dry', 'None', 'Any animal (except a ridden horse)'),\n",
       " (3, 'Darkness: Street lights present and lit', 'Raining without high winds', 'Wet/Damp', 'Permanent sign or marking defective or obscured', 'None'),\n",
       " (4, 'Darkeness: No street lighting', 'Snowing without high winds', 'Snow', 'None', 'Involvement with previous accident'),\n",
       " (5, 'Daylight: Street light present', 'Snowing without high winds', 'Wet/Damp', 'Mud', 'None')]"
      ]
     },
     "execution_count": 108,
     "metadata": {},
     "output_type": "execute_result"
    }
   ],
   "source": [
    "%%sql\n",
    "SELECT * FROM condition\n",
    "LIMIT 5;"
   ]
  },
  {
   "cell_type": "markdown",
   "metadata": {},
   "source": [
    "See the type of light condition and weather condition as well as the frequency."
   ]
  },
  {
   "cell_type": "code",
   "execution_count": 109,
   "metadata": {},
   "outputs": [
    {
     "name": "stdout",
     "output_type": "stream",
     "text": [
      " * postgresql://student@/project4\n",
      "5 rows affected.\n"
     ]
    },
    {
     "data": {
      "text/html": [
       "<table>\n",
       "    <tr>\n",
       "        <th>light_conditions</th>\n",
       "        <th>count</th>\n",
       "    </tr>\n",
       "    <tr>\n",
       "        <td>Daylight: Street light present</td>\n",
       "        <td>341124</td>\n",
       "    </tr>\n",
       "    <tr>\n",
       "        <td>Darkness: Street lights present and lit</td>\n",
       "        <td>91158</td>\n",
       "    </tr>\n",
       "    <tr>\n",
       "        <td>Darkeness: No street lighting</td>\n",
       "        <td>22999</td>\n",
       "    </tr>\n",
       "    <tr>\n",
       "        <td>Darkness: Street lighting unknown</td>\n",
       "        <td>6853</td>\n",
       "    </tr>\n",
       "    <tr>\n",
       "        <td>Darkness: Street lights present but unlit</td>\n",
       "        <td>2563</td>\n",
       "    </tr>\n",
       "</table>"
      ],
      "text/plain": [
       "[('Daylight: Street light present', 341124),\n",
       " ('Darkness: Street lights present and lit', 91158),\n",
       " ('Darkeness: No street lighting', 22999),\n",
       " ('Darkness: Street lighting unknown', 6853),\n",
       " ('Darkness: Street lights present but unlit', 2563)]"
      ]
     },
     "execution_count": 109,
     "metadata": {},
     "output_type": "execute_result"
    }
   ],
   "source": [
    "%%sql\n",
    "SELECT condition.light_conditions, COUNT(*) FROM accidents\n",
    "JOIN condition\n",
    "ON accidents.condition_key = condition.condition_key\n",
    "GROUP BY condition.light_conditions\n",
    "ORDER BY COUNT(*) DESC;"
   ]
  },
  {
   "cell_type": "code",
   "execution_count": 110,
   "metadata": {},
   "outputs": [
    {
     "data": {
      "text/html": [
       "<img src=\"https://i.ibb.co/PYNppyD/light.png\"/>"
      ],
      "text/plain": [
       "<IPython.core.display.Image object>"
      ]
     },
     "execution_count": 110,
     "metadata": {},
     "output_type": "execute_result"
    }
   ],
   "source": [
    "Image(url=\"https://i.ibb.co/PYNppyD/light.png\")"
   ]
  },
  {
   "cell_type": "code",
   "execution_count": 111,
   "metadata": {},
   "outputs": [
    {
     "name": "stdout",
     "output_type": "stream",
     "text": [
      " * postgresql://student@/project4\n",
      "9 rows affected.\n"
     ]
    },
    {
     "data": {
      "text/html": [
       "<table>\n",
       "    <tr>\n",
       "        <th>weather_condition</th>\n",
       "        <th>count</th>\n",
       "    </tr>\n",
       "    <tr>\n",
       "        <td>Fine without high winds</td>\n",
       "        <td>373167</td>\n",
       "    </tr>\n",
       "    <tr>\n",
       "        <td>Raining without high winds</td>\n",
       "        <td>57060</td>\n",
       "    </tr>\n",
       "    <tr>\n",
       "        <td>Other</td>\n",
       "        <td>8272</td>\n",
       "    </tr>\n",
       "    <tr>\n",
       "        <td>Unknown</td>\n",
       "        <td>8215</td>\n",
       "    </tr>\n",
       "    <tr>\n",
       "        <td>Raining with high winds</td>\n",
       "        <td>7120</td>\n",
       "    </tr>\n",
       "    <tr>\n",
       "        <td>Fine with high winds</td>\n",
       "        <td>5011</td>\n",
       "    </tr>\n",
       "    <tr>\n",
       "        <td>Snowing without high winds</td>\n",
       "        <td>2708</td>\n",
       "    </tr>\n",
       "    <tr>\n",
       "        <td>Fog or mist</td>\n",
       "        <td>2411</td>\n",
       "    </tr>\n",
       "    <tr>\n",
       "        <td>Snowing with high winds</td>\n",
       "        <td>733</td>\n",
       "    </tr>\n",
       "</table>"
      ],
      "text/plain": [
       "[('Fine without high winds', 373167),\n",
       " ('Raining without high winds', 57060),\n",
       " ('Other', 8272),\n",
       " ('Unknown', 8215),\n",
       " ('Raining with high winds', 7120),\n",
       " ('Fine with high winds', 5011),\n",
       " ('Snowing without high winds', 2708),\n",
       " ('Fog or mist', 2411),\n",
       " ('Snowing with high winds', 733)]"
      ]
     },
     "execution_count": 111,
     "metadata": {},
     "output_type": "execute_result"
    }
   ],
   "source": [
    "%%sql\n",
    "SELECT condition.weather_condition, COUNT(*) FROM accidents\n",
    "JOIN condition\n",
    "ON accidents.condition_key = condition.condition_key\n",
    "GROUP BY condition.weather_condition\n",
    "ORDER BY COUNT(*) DESC;"
   ]
  },
  {
   "cell_type": "code",
   "execution_count": 112,
   "metadata": {},
   "outputs": [
    {
     "data": {
      "text/html": [
       "<img src=\"https://i.ibb.co/JdB6tDs/weather.png\"/>"
      ],
      "text/plain": [
       "<IPython.core.display.Image object>"
      ]
     },
     "execution_count": 112,
     "metadata": {},
     "output_type": "execute_result"
    }
   ],
   "source": [
    "Image(url=\"https://i.ibb.co/JdB6tDs/weather.png\")"
   ]
  },
  {
   "cell_type": "code",
   "execution_count": 113,
   "metadata": {},
   "outputs": [
    {
     "name": "stdout",
     "output_type": "stream",
     "text": [
      " * postgresql://student@/project4\n",
      "5 rows affected.\n"
     ]
    },
    {
     "data": {
      "text/html": [
       "<table>\n",
       "    <tr>\n",
       "        <th>weather_condition</th>\n",
       "        <th>light_conditions</th>\n",
       "        <th>count</th>\n",
       "    </tr>\n",
       "    <tr>\n",
       "        <td>Fine without high winds</td>\n",
       "        <td>Daylight: Street light present</td>\n",
       "        <td>285679</td>\n",
       "    </tr>\n",
       "    <tr>\n",
       "        <td>Fine without high winds</td>\n",
       "        <td>Darkness: Street lights present and lit</td>\n",
       "        <td>65443</td>\n",
       "    </tr>\n",
       "    <tr>\n",
       "        <td>Raining without high winds</td>\n",
       "        <td>Daylight: Street light present</td>\n",
       "        <td>34943</td>\n",
       "    </tr>\n",
       "    <tr>\n",
       "        <td>Raining without high winds</td>\n",
       "        <td>Darkness: Street lights present and lit</td>\n",
       "        <td>16912</td>\n",
       "    </tr>\n",
       "    <tr>\n",
       "        <td>Fine without high winds</td>\n",
       "        <td>Darkeness: No street lighting</td>\n",
       "        <td>15364</td>\n",
       "    </tr>\n",
       "</table>"
      ],
      "text/plain": [
       "[('Fine without high winds', 'Daylight: Street light present', 285679),\n",
       " ('Fine without high winds', 'Darkness: Street lights present and lit', 65443),\n",
       " ('Raining without high winds', 'Daylight: Street light present', 34943),\n",
       " ('Raining without high winds', 'Darkness: Street lights present and lit', 16912),\n",
       " ('Fine without high winds', 'Darkeness: No street lighting', 15364)]"
      ]
     },
     "execution_count": 113,
     "metadata": {},
     "output_type": "execute_result"
    }
   ],
   "source": [
    "%%sql\n",
    "SELECT condition.weather_condition, condition.light_conditions,COUNT(*) FROM accidents\n",
    "JOIN condition\n",
    "ON accidents.condition_key = condition.condition_key\n",
    "GROUP BY condition.weather_condition, condition.light_conditions\n",
    "ORDER BY COUNT(*) DESC\n",
    "LIMIT 5;"
   ]
  },
  {
   "cell_type": "markdown",
   "metadata": {},
   "source": [
    "#### NOTE: the 'Unknown' above is not the tactic that we assign null value previously. It means we do not know the weather condition."
   ]
  },
  {
   "cell_type": "markdown",
   "metadata": {},
   "source": [
    "As the result shown above, it is interesting that accidents happened the most when the weather and light condition are both ideal. We assume that other factors could explain more about the occurence of accidents or other factors should be combined with weather and light condition to explain the occurence of accidents."
   ]
  },
  {
   "cell_type": "code",
   "execution_count": 114,
   "metadata": {},
   "outputs": [
    {
     "name": "stdout",
     "output_type": "stream",
     "text": [
      " * postgresql://student@/project4\n",
      "9 rows affected.\n"
     ]
    },
    {
     "data": {
      "text/html": [
       "<table>\n",
       "    <tr>\n",
       "        <th>weather_condition</th>\n",
       "        <th>avg_casualties</th>\n",
       "        <th>avg_vehicles</th>\n",
       "    </tr>\n",
       "    <tr>\n",
       "        <td>Fog or mist</td>\n",
       "        <td>1.47</td>\n",
       "        <td>1.83</td>\n",
       "    </tr>\n",
       "    <tr>\n",
       "        <td>Snowing with high winds</td>\n",
       "        <td>1.39</td>\n",
       "        <td>1.71</td>\n",
       "    </tr>\n",
       "    <tr>\n",
       "        <td>Snowing without high winds</td>\n",
       "        <td>1.38</td>\n",
       "        <td>1.76</td>\n",
       "    </tr>\n",
       "    <tr>\n",
       "        <td>Raining with high winds</td>\n",
       "        <td>1.37</td>\n",
       "        <td>1.70</td>\n",
       "    </tr>\n",
       "    <tr>\n",
       "        <td>Raining without high winds</td>\n",
       "        <td>1.36</td>\n",
       "        <td>1.80</td>\n",
       "    </tr>\n",
       "    <tr>\n",
       "        <td>Fine with high winds</td>\n",
       "        <td>1.36</td>\n",
       "        <td>1.80</td>\n",
       "    </tr>\n",
       "    <tr>\n",
       "        <td>Other</td>\n",
       "        <td>1.34</td>\n",
       "        <td>1.77</td>\n",
       "    </tr>\n",
       "    <tr>\n",
       "        <td>Fine without high winds</td>\n",
       "        <td>1.33</td>\n",
       "        <td>1.84</td>\n",
       "    </tr>\n",
       "    <tr>\n",
       "        <td>Unknown</td>\n",
       "        <td>1.22</td>\n",
       "        <td>1.76</td>\n",
       "    </tr>\n",
       "</table>"
      ],
      "text/plain": [
       "[('Fog or mist', Decimal('1.47'), Decimal('1.83')),\n",
       " ('Snowing with high winds', Decimal('1.39'), Decimal('1.71')),\n",
       " ('Snowing without high winds', Decimal('1.38'), Decimal('1.76')),\n",
       " ('Raining with high winds', Decimal('1.37'), Decimal('1.70')),\n",
       " ('Raining without high winds', Decimal('1.36'), Decimal('1.80')),\n",
       " ('Fine with high winds', Decimal('1.36'), Decimal('1.80')),\n",
       " ('Other', Decimal('1.34'), Decimal('1.77')),\n",
       " ('Fine without high winds', Decimal('1.33'), Decimal('1.84')),\n",
       " ('Unknown', Decimal('1.22'), Decimal('1.76'))]"
      ]
     },
     "execution_count": 114,
     "metadata": {},
     "output_type": "execute_result"
    }
   ],
   "source": [
    "%%sql\n",
    "SELECT condition.weather_condition, ROUND(AVG(accidents.number_casualties),2) AS avg_casualties , ROUND(AVG(accidents.number_vehicles),2) AS avg_vehicles \n",
    "FROM accidents\n",
    "JOIN condition\n",
    "ON accidents.condition_key = condition.condition_key\n",
    "GROUP BY condition.weather_condition\n",
    "ORDER BY AVG(accidents.number_casualties)DESC, AVG(accidents.number_vehicles) DESC;"
   ]
  },
  {
   "cell_type": "code",
   "execution_count": 115,
   "metadata": {},
   "outputs": [
    {
     "data": {
      "text/html": [
       "<img src=\"https://i.ibb.co/cYzSMK6/weather2.png\"/>"
      ],
      "text/plain": [
       "<IPython.core.display.Image object>"
      ]
     },
     "execution_count": 115,
     "metadata": {},
     "output_type": "execute_result"
    }
   ],
   "source": [
    "Image(url=\"https://i.ibb.co/cYzSMK6/weather2.png\")"
   ]
  },
  {
   "cell_type": "code",
   "execution_count": 116,
   "metadata": {},
   "outputs": [
    {
     "name": "stdout",
     "output_type": "stream",
     "text": [
      " * postgresql://student@/project4\n",
      "5 rows affected.\n"
     ]
    },
    {
     "data": {
      "text/html": [
       "<table>\n",
       "    <tr>\n",
       "        <th>light_conditions</th>\n",
       "        <th>avg_casualties</th>\n",
       "        <th>avg_vehicles</th>\n",
       "    </tr>\n",
       "    <tr>\n",
       "        <td>Darkeness: No street lighting</td>\n",
       "        <td>1.51</td>\n",
       "        <td>1.61</td>\n",
       "    </tr>\n",
       "    <tr>\n",
       "        <td>Darkness: Street lights present but unlit</td>\n",
       "        <td>1.35</td>\n",
       "        <td>1.79</td>\n",
       "    </tr>\n",
       "    <tr>\n",
       "        <td>Daylight: Street light present</td>\n",
       "        <td>1.33</td>\n",
       "        <td>1.86</td>\n",
       "    </tr>\n",
       "    <tr>\n",
       "        <td>Darkness: Street lights present and lit</td>\n",
       "        <td>1.32</td>\n",
       "        <td>1.78</td>\n",
       "    </tr>\n",
       "    <tr>\n",
       "        <td>Darkness: Street lighting unknown</td>\n",
       "        <td>1.31</td>\n",
       "        <td>1.77</td>\n",
       "    </tr>\n",
       "</table>"
      ],
      "text/plain": [
       "[('Darkeness: No street lighting', Decimal('1.51'), Decimal('1.61')),\n",
       " ('Darkness: Street lights present but unlit', Decimal('1.35'), Decimal('1.79')),\n",
       " ('Daylight: Street light present', Decimal('1.33'), Decimal('1.86')),\n",
       " ('Darkness: Street lights present and lit', Decimal('1.32'), Decimal('1.78')),\n",
       " ('Darkness: Street lighting unknown', Decimal('1.31'), Decimal('1.77'))]"
      ]
     },
     "execution_count": 116,
     "metadata": {},
     "output_type": "execute_result"
    }
   ],
   "source": [
    "%%sql\n",
    "SELECT condition.light_conditions, ROUND(AVG(accidents.number_casualties),2) AS avg_casualties , ROUND(AVG(accidents.number_vehicles),2) AS avg_vehicles \n",
    "FROM accidents\n",
    "JOIN condition\n",
    "ON accidents.condition_key = condition.condition_key\n",
    "GROUP BY condition.light_conditions\n",
    "ORDER BY AVG(accidents.number_casualties)DESC, AVG(accidents.number_vehicles) DESC;"
   ]
  },
  {
   "cell_type": "code",
   "execution_count": 117,
   "metadata": {},
   "outputs": [
    {
     "data": {
      "text/html": [
       "<img src=\"https://i.ibb.co/L5j25vb/light2.png\"/>"
      ],
      "text/plain": [
       "<IPython.core.display.Image object>"
      ]
     },
     "execution_count": 117,
     "metadata": {},
     "output_type": "execute_result"
    }
   ],
   "source": [
    "Image(url=\"https://i.ibb.co/L5j25vb/light2.png\")"
   ]
  },
  {
   "cell_type": "code",
   "execution_count": 118,
   "metadata": {},
   "outputs": [
    {
     "name": "stdout",
     "output_type": "stream",
     "text": [
      " * postgresql://student@/project4\n",
      "5 rows affected.\n"
     ]
    },
    {
     "data": {
      "text/html": [
       "<table>\n",
       "    <tr>\n",
       "        <th>light_conditions</th>\n",
       "        <th>weather_condition</th>\n",
       "        <th>avg_casualties</th>\n",
       "        <th>avg_vehicles</th>\n",
       "    </tr>\n",
       "    <tr>\n",
       "        <td>Darkeness: No street lighting</td>\n",
       "        <td>Fine without high winds</td>\n",
       "        <td>1.53</td>\n",
       "        <td>1.63</td>\n",
       "    </tr>\n",
       "    <tr>\n",
       "        <td>Daylight: Street light present</td>\n",
       "        <td>Fog or mist</td>\n",
       "        <td>1.52</td>\n",
       "        <td>2.02</td>\n",
       "    </tr>\n",
       "    <tr>\n",
       "        <td>Darkeness: No street lighting</td>\n",
       "        <td>Snowing with high winds</td>\n",
       "        <td>1.50</td>\n",
       "        <td>1.66</td>\n",
       "    </tr>\n",
       "    <tr>\n",
       "        <td>Darkeness: No street lighting</td>\n",
       "        <td>Fine with high winds</td>\n",
       "        <td>1.50</td>\n",
       "        <td>1.65</td>\n",
       "    </tr>\n",
       "    <tr>\n",
       "        <td>Darkeness: No street lighting</td>\n",
       "        <td>Raining with high winds</td>\n",
       "        <td>1.50</td>\n",
       "        <td>1.53</td>\n",
       "    </tr>\n",
       "</table>"
      ],
      "text/plain": [
       "[('Darkeness: No street lighting', 'Fine without high winds', Decimal('1.53'), Decimal('1.63')),\n",
       " ('Daylight: Street light present', 'Fog or mist', Decimal('1.52'), Decimal('2.02')),\n",
       " ('Darkeness: No street lighting', 'Snowing with high winds', Decimal('1.50'), Decimal('1.66')),\n",
       " ('Darkeness: No street lighting', 'Fine with high winds', Decimal('1.50'), Decimal('1.65')),\n",
       " ('Darkeness: No street lighting', 'Raining with high winds', Decimal('1.50'), Decimal('1.53'))]"
      ]
     },
     "execution_count": 118,
     "metadata": {},
     "output_type": "execute_result"
    }
   ],
   "source": [
    "%%sql\n",
    "SELECT condition.light_conditions, condition.weather_condition,ROUND(AVG(accidents.number_casualties),2) AS avg_casualties , ROUND(AVG(accidents.number_vehicles),2) AS avg_vehicles \n",
    "FROM accidents\n",
    "JOIN condition\n",
    "ON accidents.condition_key = condition.condition_key\n",
    "GROUP BY condition.light_conditions, condition.weather_condition\n",
    "ORDER BY AVG(accidents.number_casualties)DESC, AVG(accidents.number_vehicles) DESC\n",
    "LIMIT 5;"
   ]
  },
  {
   "cell_type": "markdown",
   "metadata": {},
   "source": [
    "As we can see, both darkness without street light and fog or mist have most number of casualties. More importantly, they share same property: poor visibility. Although the most accidents happened with fine weather and light condition, its avgerage number casualties and vehicles are not the most. In conclusion, we think that weather and light condition are more related to severity of accidents than frequency of accidents."
   ]
  },
  {
   "cell_type": "markdown",
   "metadata": {},
   "source": [
    "## Analysis 7\n",
    "## Severity (1 = Fatal, 2 = Serious, 3 = Slight) proportion and frequency in Urban and Rural (1 = Urban, 2 = Rural)"
   ]
  },
  {
   "cell_type": "markdown",
   "metadata": {},
   "source": [
    "#### Expectation: we consider in urban area the frequency and proportion are higher than in rural area because there are more traffic in urban area than in rural area. The more the traffic, the greater chance that accident will happen."
   ]
  },
  {
   "cell_type": "code",
   "execution_count": 119,
   "metadata": {},
   "outputs": [
    {
     "name": "stdout",
     "output_type": "stream",
     "text": [
      " * postgresql://student@/project4\n",
      "5 rows affected.\n"
     ]
    },
    {
     "data": {
      "text/html": [
       "<table>\n",
       "    <tr>\n",
       "        <th>location_key</th>\n",
       "        <th>district</th>\n",
       "        <th>highway</th>\n",
       "        <th>urban_or_rural</th>\n",
       "        <th>latitude</th>\n",
       "        <th>longitude</th>\n",
       "        <th>lsoa</th>\n",
       "        <th>region</th>\n",
       "    </tr>\n",
       "    <tr>\n",
       "        <td>1</td>\n",
       "        <td>1</td>\n",
       "        <td>E09000033</td>\n",
       "        <td>1</td>\n",
       "        <td>51.485105</td>\n",
       "        <td>-0.13731600000000002</td>\n",
       "        <td>E01004738</td>\n",
       "        <td>Westminster</td>\n",
       "    </tr>\n",
       "    <tr>\n",
       "        <td>2</td>\n",
       "        <td>1</td>\n",
       "        <td>E09000033</td>\n",
       "        <td>1</td>\n",
       "        <td>51.485108000000004</td>\n",
       "        <td>-0.13746</td>\n",
       "        <td>E01004738</td>\n",
       "        <td>Westminster</td>\n",
       "    </tr>\n",
       "    <tr>\n",
       "        <td>3</td>\n",
       "        <td>1</td>\n",
       "        <td>E09000033</td>\n",
       "        <td>1</td>\n",
       "        <td>51.48511</td>\n",
       "        <td>-0.137604</td>\n",
       "        <td>E01004738</td>\n",
       "        <td>Westminster</td>\n",
       "    </tr>\n",
       "    <tr>\n",
       "        <td>4</td>\n",
       "        <td>1</td>\n",
       "        <td>E09000033</td>\n",
       "        <td>1</td>\n",
       "        <td>51.485186</td>\n",
       "        <td>-0.136736</td>\n",
       "        <td>E01004738</td>\n",
       "        <td>Westminster</td>\n",
       "    </tr>\n",
       "    <tr>\n",
       "        <td>5</td>\n",
       "        <td>1</td>\n",
       "        <td>E09000033</td>\n",
       "        <td>1</td>\n",
       "        <td>51.485188</td>\n",
       "        <td>-0.13688</td>\n",
       "        <td>E01004738</td>\n",
       "        <td>Westminster</td>\n",
       "    </tr>\n",
       "</table>"
      ],
      "text/plain": [
       "[(1, Decimal('1'), 'E09000033', '1', Decimal('51.485105'), Decimal('-0.13731600000000002'), 'E01004738', 'Westminster'),\n",
       " (2, Decimal('1'), 'E09000033', '1', Decimal('51.485108000000004'), Decimal('-0.13746'), 'E01004738', 'Westminster'),\n",
       " (3, Decimal('1'), 'E09000033', '1', Decimal('51.48511'), Decimal('-0.137604'), 'E01004738', 'Westminster'),\n",
       " (4, Decimal('1'), 'E09000033', '1', Decimal('51.485186'), Decimal('-0.136736'), 'E01004738', 'Westminster'),\n",
       " (5, Decimal('1'), 'E09000033', '1', Decimal('51.485188'), Decimal('-0.13688'), 'E01004738', 'Westminster')]"
      ]
     },
     "execution_count": 119,
     "metadata": {},
     "output_type": "execute_result"
    }
   ],
   "source": [
    "%%sql\n",
    "SELECT * FROM location\n",
    "LIMIT 5;"
   ]
  },
  {
   "cell_type": "code",
   "execution_count": 120,
   "metadata": {},
   "outputs": [
    {
     "name": "stdout",
     "output_type": "stream",
     "text": [
      " * postgresql://student@/project4\n",
      "2 rows affected.\n"
     ]
    },
    {
     "data": {
      "text/html": [
       "<table>\n",
       "    <tr>\n",
       "        <th>urban_or_rural</th>\n",
       "        <th>frequency</th>\n",
       "        <th>proportion</th>\n",
       "    </tr>\n",
       "    <tr>\n",
       "        <td>1</td>\n",
       "        <td>307896</td>\n",
       "        <td>0.662573677041169</td>\n",
       "    </tr>\n",
       "    <tr>\n",
       "        <td>2</td>\n",
       "        <td>156801</td>\n",
       "        <td>0.337426322958831</td>\n",
       "    </tr>\n",
       "</table>"
      ],
      "text/plain": [
       "[('1', 307896, 0.662573677041169), ('2', 156801, 0.337426322958831)]"
      ]
     },
     "execution_count": 120,
     "metadata": {},
     "output_type": "execute_result"
    }
   ],
   "source": [
    "%%sql\n",
    "SELECT location.urban_or_rural, COUNT(*) AS frequency,CAST(COUNT(*) AS float) / CAST((SELECT COUNT(*) FROM accidents) AS FLOAT) AS proportion FROM accidents\n",
    "JOIN location\n",
    "ON accidents.location_key = location.location_key\n",
    "GROUP BY location.urban_or_rural\n",
    "ORDER BY location.urban_or_rural;"
   ]
  },
  {
   "cell_type": "code",
   "execution_count": 121,
   "metadata": {},
   "outputs": [
    {
     "data": {
      "text/plain": [
       "([<matplotlib.patches.Wedge at 0x7f2ab79d55f8>,\n",
       "  <matplotlib.patches.Wedge at 0x7f2ab79d5b00>],\n",
       " [Text(-0.537706,0.959621,'1 307896'), Text(0.537706,-0.959621,'2 156801')])"
      ]
     },
     "execution_count": 121,
     "metadata": {},
     "output_type": "execute_result"
    },
    {
     "data": {
      "image/png": "[encoded data removed]",
      "text/plain": [
       "<Figure size 432x288 with 1 Axes>"
      ]
     },
     "metadata": {},
     "output_type": "display_data"
    }
   ],
   "source": [
    "_.pie()"
   ]
  },
  {
   "cell_type": "markdown",
   "metadata": {},
   "source": [
    "As our expectation, in urban area accident happened more than in rural area."
   ]
  },
  {
   "cell_type": "code",
   "execution_count": 122,
   "metadata": {},
   "outputs": [
    {
     "name": "stdout",
     "output_type": "stream",
     "text": [
      " * postgresql://student@/project4\n",
      "6 rows affected.\n"
     ]
    },
    {
     "data": {
      "text/html": [
       "<table>\n",
       "    <tr>\n",
       "        <th>urban_or_rural</th>\n",
       "        <th>severity</th>\n",
       "        <th>frequency</th>\n",
       "        <th>proportion</th>\n",
       "    </tr>\n",
       "    <tr>\n",
       "        <td>1</td>\n",
       "        <td>1</td>\n",
       "        <td>1997</td>\n",
       "        <td>0.00648595629693143</td>\n",
       "    </tr>\n",
       "    <tr>\n",
       "        <td>1</td>\n",
       "        <td>2</td>\n",
       "        <td>40258</td>\n",
       "        <td>0.130751942214254</td>\n",
       "    </tr>\n",
       "    <tr>\n",
       "        <td>1</td>\n",
       "        <td>3</td>\n",
       "        <td>265641</td>\n",
       "        <td>0.862762101488814</td>\n",
       "    </tr>\n",
       "    <tr>\n",
       "        <td>2</td>\n",
       "        <td>1</td>\n",
       "        <td>3306</td>\n",
       "        <td>0.0210840492088698</td>\n",
       "    </tr>\n",
       "    <tr>\n",
       "        <td>2</td>\n",
       "        <td>2</td>\n",
       "        <td>26526</td>\n",
       "        <td>0.169169839478065</td>\n",
       "    </tr>\n",
       "    <tr>\n",
       "        <td>2</td>\n",
       "        <td>3</td>\n",
       "        <td>126969</td>\n",
       "        <td>0.809746111313066</td>\n",
       "    </tr>\n",
       "</table>"
      ],
      "text/plain": [
       "[('1', Decimal('1'), 1997, 0.00648595629693143),\n",
       " ('1', Decimal('2'), 40258, 0.130751942214254),\n",
       " ('1', Decimal('3'), 265641, 0.862762101488814),\n",
       " ('2', Decimal('1'), 3306, 0.0210840492088698),\n",
       " ('2', Decimal('2'), 26526, 0.169169839478065),\n",
       " ('2', Decimal('3'), 126969, 0.809746111313066)]"
      ]
     },
     "execution_count": 122,
     "metadata": {},
     "output_type": "execute_result"
    }
   ],
   "source": [
    "%%sql\n",
    "SELECT t1.urban_or_rural, t1.severity, t1.frequency, CAST(t1.frequency AS FLOAT) / CAST(t2.urban_rural_frequency AS FLOAT) AS proportion\n",
    "FROM (\n",
    "    SELECT location.urban_or_rural AS urban_or_rural, accidents.severity AS severity, COUNT(*) AS frequency\n",
    "    FROM accidents\n",
    "    JOIN location\n",
    "    ON accidents.location_key = location.location_key\n",
    "    GROUP BY location.urban_or_rural, accidents.severity\n",
    "    ORDER BY location.urban_or_rural, accidents.severity\n",
    "    ) AS t1\n",
    "JOIN (\n",
    "    SELECT location.urban_or_rural AS urban_or_rural, COUNT(*) AS urban_rural_frequency\n",
    "    FROM accidents \n",
    "    JOIN location \n",
    "    ON accidents.location_key = location.location_key \n",
    "    GROUP BY location.urban_or_rural\n",
    "    ) AS t2\n",
    "ON t1.urban_or_rural = t2.urban_or_rural"
   ]
  },
  {
   "cell_type": "code",
   "execution_count": 129,
   "metadata": {},
   "outputs": [
    {
     "data": {
      "text/html": [
       "<img src=\"https://i.ibb.co/sCtbRp0/U-R.png\"/>"
      ],
      "text/plain": [
       "<IPython.core.display.Image object>"
      ]
     },
     "execution_count": 129,
     "metadata": {},
     "output_type": "execute_result"
    }
   ],
   "source": [
    "Image(url=\"https://i.ibb.co/sCtbRp0/U-R.png\")"
   ]
  },
  {
   "cell_type": "markdown",
   "metadata": {},
   "source": [
    "As the table and plot shown above, we can see low severity(3) accidents occured more in urban area than in rural area. Severity of serious(2) and fatal(1) occured more in rural area than in urban area. Although accident frequency is higher in urban area than in rural area, serious and fatal accidents happened more in rural rathar than in urban area."
   ]
  },
  {
   "cell_type": "markdown",
   "metadata": {},
   "source": [
    "We presume that the reason may be that people tend to drive faster in rural area because there are less vehicles and more space, which lead to more severe accidents."
   ]
  },
  {
   "cell_type": "markdown",
   "metadata": {},
   "source": [
    "## Analysis 7\n",
    "## Top 10 regions where have most accidents"
   ]
  },
  {
   "cell_type": "code",
   "execution_count": 123,
   "metadata": {},
   "outputs": [
    {
     "name": "stdout",
     "output_type": "stream",
     "text": [
      " * postgresql://student@/project4\n",
      "10 rows affected.\n"
     ]
    },
    {
     "data": {
      "text/html": [
       "<table>\n",
       "    <tr>\n",
       "        <th>region</th>\n",
       "        <th>count</th>\n",
       "    </tr>\n",
       "    <tr>\n",
       "        <td>Birmingham</td>\n",
       "        <td>7017</td>\n",
       "    </tr>\n",
       "    <tr>\n",
       "        <td>Leeds</td>\n",
       "        <td>5702</td>\n",
       "    </tr>\n",
       "    <tr>\n",
       "        <td>Westminster</td>\n",
       "        <td>4534</td>\n",
       "    </tr>\n",
       "    <tr>\n",
       "        <td>Liverpool</td>\n",
       "        <td>4272</td>\n",
       "    </tr>\n",
       "    <tr>\n",
       "        <td>Cheshire East</td>\n",
       "        <td>4077</td>\n",
       "    </tr>\n",
       "    <tr>\n",
       "        <td>County Durham</td>\n",
       "        <td>3903</td>\n",
       "    </tr>\n",
       "    <tr>\n",
       "        <td>Wandsworth</td>\n",
       "        <td>3866</td>\n",
       "    </tr>\n",
       "    <tr>\n",
       "        <td>Bradford</td>\n",
       "        <td>3855</td>\n",
       "    </tr>\n",
       "    <tr>\n",
       "        <td>Cornwall</td>\n",
       "        <td>3853</td>\n",
       "    </tr>\n",
       "    <tr>\n",
       "        <td>Ealing</td>\n",
       "        <td>3804</td>\n",
       "    </tr>\n",
       "</table>"
      ],
      "text/plain": [
       "[('Birmingham', 7017),\n",
       " ('Leeds', 5702),\n",
       " ('Westminster', 4534),\n",
       " ('Liverpool', 4272),\n",
       " ('Cheshire East', 4077),\n",
       " ('County Durham', 3903),\n",
       " ('Wandsworth', 3866),\n",
       " ('Bradford', 3855),\n",
       " ('Cornwall', 3853),\n",
       " ('Ealing', 3804)]"
      ]
     },
     "execution_count": 123,
     "metadata": {},
     "output_type": "execute_result"
    }
   ],
   "source": [
    "%%sql\n",
    "SELECT location.region, COUNT(*) FROM accidents\n",
    "JOIN location\n",
    "ON accidents.location_key = location.location_key\n",
    "AND location.region NOT LIKE '%unknown%'\n",
    "GROUP BY location.region\n",
    "ORDER BY COUNT(*) DESC\n",
    "LIMIT 10;"
   ]
  },
  {
   "cell_type": "code",
   "execution_count": 124,
   "metadata": {},
   "outputs": [
    {
     "name": "stdout",
     "output_type": "stream",
     "text": [
      " * postgresql://student@/project4\n",
      "10 rows affected.\n"
     ]
    },
    {
     "data": {
      "text/html": [
       "<table>\n",
       "    <tr>\n",
       "        <th>region</th>\n",
       "    </tr>\n",
       "    <tr>\n",
       "        <td>Birmingham</td>\n",
       "    </tr>\n",
       "    <tr>\n",
       "        <td>Leeds</td>\n",
       "    </tr>\n",
       "    <tr>\n",
       "        <td>Westminster</td>\n",
       "    </tr>\n",
       "    <tr>\n",
       "        <td>Liverpool</td>\n",
       "    </tr>\n",
       "    <tr>\n",
       "        <td>Cheshire East</td>\n",
       "    </tr>\n",
       "    <tr>\n",
       "        <td>County Durham</td>\n",
       "    </tr>\n",
       "    <tr>\n",
       "        <td>Wandsworth</td>\n",
       "    </tr>\n",
       "    <tr>\n",
       "        <td>Bradford</td>\n",
       "    </tr>\n",
       "    <tr>\n",
       "        <td>Cornwall</td>\n",
       "    </tr>\n",
       "    <tr>\n",
       "        <td>Ealing</td>\n",
       "    </tr>\n",
       "</table>"
      ],
      "text/plain": [
       "[('Birmingham',),\n",
       " ('Leeds',),\n",
       " ('Westminster',),\n",
       " ('Liverpool',),\n",
       " ('Cheshire East',),\n",
       " ('County Durham',),\n",
       " ('Wandsworth',),\n",
       " ('Bradford',),\n",
       " ('Cornwall',),\n",
       " ('Ealing',)]"
      ]
     },
     "execution_count": 124,
     "metadata": {},
     "output_type": "execute_result"
    }
   ],
   "source": [
    "%%sql\n",
    "SELECT location.region FROM accidents\n",
    "    JOIN location\n",
    "    ON accidents.location_key = location.location_key\n",
    "    AND location.region NOT LIKE '%unknown%'\n",
    "    GROUP BY location.region\n",
    "    ORDER BY COUNT(*) DESC\n",
    "    LIMIT 10"
   ]
  },
  {
   "cell_type": "markdown",
   "metadata": {},
   "source": [
    "NOTE: the assigned value 'unknown' is null value so we exclude it."
   ]
  },
  {
   "cell_type": "markdown",
   "metadata": {},
   "source": [
    "According to the table, Birmingham has most accidents, followed by Leeds, Westminster, Liverpool, Cheshire East, County Durham, Wandsworth, Bradford, Cornwall and Ealing."
   ]
  },
  {
   "cell_type": "markdown",
   "metadata": {},
   "source": [
    "## Analysis 7 Extension \n",
    "## The distribution of road type in top 10 regions where have the higher frequency of accidents"
   ]
  },
  {
   "cell_type": "markdown",
   "metadata": {},
   "source": [
    "#### Expectation: 'Slip road' and 'Roundabout' have more accidents"
   ]
  },
  {
   "cell_type": "code",
   "execution_count": 129,
   "metadata": {},
   "outputs": [
    {
     "name": "stdout",
     "output_type": "stream",
     "text": [
      " * postgresql://student@/project4\n",
      "6 rows affected.\n"
     ]
    },
    {
     "data": {
      "text/html": [
       "<table>\n",
       "    <tr>\n",
       "        <th>road_type</th>\n",
       "        <th>count</th>\n",
       "    </tr>\n",
       "    <tr>\n",
       "        <td>Single carriageway</td>\n",
       "        <td>34173</td>\n",
       "    </tr>\n",
       "    <tr>\n",
       "        <td>Dual carriageway</td>\n",
       "        <td>6911</td>\n",
       "    </tr>\n",
       "    <tr>\n",
       "        <td>Roundabout</td>\n",
       "        <td>2463</td>\n",
       "    </tr>\n",
       "    <tr>\n",
       "        <td>One way street</td>\n",
       "        <td>970</td>\n",
       "    </tr>\n",
       "    <tr>\n",
       "        <td>Slip road</td>\n",
       "        <td>304</td>\n",
       "    </tr>\n",
       "    <tr>\n",
       "        <td>Unknown</td>\n",
       "        <td>62</td>\n",
       "    </tr>\n",
       "</table>"
      ],
      "text/plain": [
       "[('Single carriageway', 34173),\n",
       " ('Dual carriageway', 6911),\n",
       " ('Roundabout', 2463),\n",
       " ('One way street', 970),\n",
       " ('Slip road', 304),\n",
       " ('Unknown', 62)]"
      ]
     },
     "execution_count": 129,
     "metadata": {},
     "output_type": "execute_result"
    }
   ],
   "source": [
    "%%sql\n",
    "SELECT  road.road_type , COUNT(*) \n",
    "FROM accidents\n",
    "JOIN road\n",
    "ON accidents.road_key = road.road_key\n",
    "JOIN location\n",
    "ON accidents.location_key = location.location_key\n",
    "WHERE location.region IN (\n",
    "    SELECT location.region FROM accidents\n",
    "    JOIN location\n",
    "    ON accidents.location_key = location.location_key\n",
    "    AND location.region NOT LIKE '%unknown%'\n",
    "    GROUP BY location.region\n",
    "    ORDER BY COUNT(*) DESC\n",
    "    LIMIT 10\n",
    ")\n",
    "GROUP BY road.road_type\n",
    "ORDER BY COUNT(*) DESC"
   ]
  },
  {
   "cell_type": "markdown",
   "metadata": {},
   "source": [
    "Contrary to our expectation, single carriage way has most accidents in the top 10 cities having most accidents."
   ]
  },
  {
   "cell_type": "markdown",
   "metadata": {},
   "source": [
    "Government needs to pay more attention to single carriageway in the top 10 cities having most accidents."
   ]
  },
  {
   "cell_type": "code",
   "execution_count": 130,
   "metadata": {},
   "outputs": [
    {
     "name": "stdout",
     "output_type": "stream",
     "text": [
      " * postgresql://student@/project4\n",
      "6 rows affected.\n"
     ]
    },
    {
     "data": {
      "text/html": [
       "<table>\n",
       "    <tr>\n",
       "        <th>road_type</th>\n",
       "        <th>avg_casualties</th>\n",
       "    </tr>\n",
       "    <tr>\n",
       "        <td>Dual carriageway</td>\n",
       "        <td>1.50</td>\n",
       "    </tr>\n",
       "    <tr>\n",
       "        <td>Slip road</td>\n",
       "        <td>1.49</td>\n",
       "    </tr>\n",
       "    <tr>\n",
       "        <td>Single carriageway</td>\n",
       "        <td>1.34</td>\n",
       "    </tr>\n",
       "    <tr>\n",
       "        <td>Roundabout</td>\n",
       "        <td>1.28</td>\n",
       "    </tr>\n",
       "    <tr>\n",
       "        <td>One way street</td>\n",
       "        <td>1.20</td>\n",
       "    </tr>\n",
       "    <tr>\n",
       "        <td>Unknown</td>\n",
       "        <td>1.19</td>\n",
       "    </tr>\n",
       "</table>"
      ],
      "text/plain": [
       "[('Dual carriageway', Decimal('1.50')),\n",
       " ('Slip road', Decimal('1.49')),\n",
       " ('Single carriageway', Decimal('1.34')),\n",
       " ('Roundabout', Decimal('1.28')),\n",
       " ('One way street', Decimal('1.20')),\n",
       " ('Unknown', Decimal('1.19'))]"
      ]
     },
     "execution_count": 130,
     "metadata": {},
     "output_type": "execute_result"
    }
   ],
   "source": [
    "%%sql\n",
    "SELECT  road.road_type , ROUND(AVG(accidents.number_casualties),2) AS avg_casualties\n",
    "FROM accidents\n",
    "JOIN road\n",
    "ON accidents.road_key = road.road_key\n",
    "JOIN location\n",
    "ON accidents.location_key = location.location_key\n",
    "WHERE location.region IN (\n",
    "    SELECT location.region FROM accidents\n",
    "    JOIN location\n",
    "    ON accidents.location_key = location.location_key\n",
    "    AND location.region NOT LIKE '%unknown%'\n",
    "    GROUP BY location.region\n",
    "    ORDER BY COUNT(*) DESC\n",
    "    LIMIT 10\n",
    ")\n",
    "GROUP BY road.road_type\n",
    "ORDER BY avg_casualties DESC"
   ]
  },
  {
   "cell_type": "markdown",
   "metadata": {},
   "source": [
    "Dual carriageway has the highest average number of casualties."
   ]
  },
  {
   "cell_type": "markdown",
   "metadata": {},
   "source": [
    "## Analysis 8\n",
    "## Distribution of accidents in different speed limit"
   ]
  },
  {
   "cell_type": "markdown",
   "metadata": {},
   "source": [
    "#### Expectation: intermediate speed limit has most accidents. Generally, in the road with high-speed limit such as high-speed railway, people tend to pay more attention to driving. As for the road with low-speed limit, it is hard that accident in the road with low-speed limit occurs and some roads with that speed limit means that road could occur accidents frequently in the past, so people may pay fine with high value when they exceed the speed limit."
   ]
  },
  {
   "cell_type": "code",
   "execution_count": 131,
   "metadata": {},
   "outputs": [
    {
     "name": "stdout",
     "output_type": "stream",
     "text": [
      " * postgresql://student@/project4\n",
      "7 rows affected.\n"
     ]
    },
    {
     "data": {
      "text/html": [
       "<table>\n",
       "    <tr>\n",
       "        <th>speed_limit</th>\n",
       "        <th>count</th>\n",
       "    </tr>\n",
       "    <tr>\n",
       "        <td>10</td>\n",
       "        <td>1</td>\n",
       "    </tr>\n",
       "    <tr>\n",
       "        <td>20</td>\n",
       "        <td>9055</td>\n",
       "    </tr>\n",
       "    <tr>\n",
       "        <td>30</td>\n",
       "        <td>304842</td>\n",
       "    </tr>\n",
       "    <tr>\n",
       "        <td>40</td>\n",
       "        <td>37538</td>\n",
       "    </tr>\n",
       "    <tr>\n",
       "        <td>50</td>\n",
       "        <td>17312</td>\n",
       "    </tr>\n",
       "    <tr>\n",
       "        <td>60</td>\n",
       "        <td>64465</td>\n",
       "    </tr>\n",
       "    <tr>\n",
       "        <td>70</td>\n",
       "        <td>31484</td>\n",
       "    </tr>\n",
       "</table>"
      ],
      "text/plain": [
       "[(Decimal('10'), 1),\n",
       " (Decimal('20'), 9055),\n",
       " (Decimal('30'), 304842),\n",
       " (Decimal('40'), 37538),\n",
       " (Decimal('50'), 17312),\n",
       " (Decimal('60'), 64465),\n",
       " (Decimal('70'), 31484)]"
      ]
     },
     "execution_count": 131,
     "metadata": {},
     "output_type": "execute_result"
    }
   ],
   "source": [
    "%%sql\n",
    "SELECT road.speed_limit, COUNT(*) FROM accidents\n",
    "JOIN road\n",
    "ON accidents.road_key = road.road_key\n",
    "GROUP BY road.speed_limit\n",
    "ORDER BY road.speed_limit;"
   ]
  },
  {
   "cell_type": "code",
   "execution_count": 132,
   "metadata": {},
   "outputs": [
    {
     "data": {
      "text/plain": [
       "<BarContainer object of 7 artists>"
      ]
     },
     "execution_count": 132,
     "metadata": {},
     "output_type": "execute_result"
    },
    {
     "data": {
      "image/png": "[encoded data removed]",
      "text/plain": [
       "<Figure size 432x288 with 1 Axes>"
      ]
     },
     "metadata": {
      "needs_background": "light"
     },
     "output_type": "display_data"
    }
   ],
   "source": [
    "_.bar()"
   ]
  },
  {
   "cell_type": "code",
   "execution_count": 133,
   "metadata": {},
   "outputs": [
    {
     "data": {
      "image/jpeg": "[encoded data removed]",
      "text/plain": [
       "<IPython.core.display.Image object>"
      ]
     },
     "execution_count": 133,
     "metadata": {},
     "output_type": "execute_result"
    }
   ],
   "source": [
    "from IPython.display import Image\n",
    "Image(\"https://i.ibb.co/qC39K1Q/Sheet-9.jpg\")"
   ]
  },
  {
   "cell_type": "markdown",
   "metadata": {},
   "source": [
    "As we can see, accidents occured most frequently when the speed limit is 30. We consider this result mataches with our expectation."
   ]
  },
  {
   "cell_type": "markdown",
   "metadata": {},
   "source": [
    "# Bonus Augment"
   ]
  },
  {
   "cell_type": "markdown",
   "metadata": {},
   "source": [
    "Sometimes the most value can be gained from one dataset when it is studied alongside data drawn from other sources. Identify and describe at least one additional data source that can complement your analysis. Pull this additional data into your chosen environment and explore at least one more theme you are able to further analyze that depends upon a combination of data from both sources."
   ]
  },
  {
   "cell_type": "markdown",
   "metadata": {},
   "source": [
    "In part 2, we have added another dataset to locate accidents in specific regions. In addition to that, we want to add another new dataset that shows total traffic volume in specifc region in specific year."
   ]
  },
  {
   "cell_type": "markdown",
   "metadata": {},
   "source": [
    "This dataset is also from kaggle. This dataset is named 'ukTrafficAADF.csv' and is about UK annual average daily traffic estimates for major roadways, 2000 to 2016."
   ]
  },
  {
   "cell_type": "markdown",
   "metadata": {},
   "source": [
    "Data Link: https://www.kaggle.com/daveianhickey/2000-16-traffic-flow-england-scotland-wales#accidents_2005_to_2007.csv"
   ]
  },
  {
   "cell_type": "markdown",
   "metadata": {},
   "source": [
    "After adding this new dataset, we can find the accident rate in specific region."
   ]
  },
  {
   "cell_type": "code",
   "execution_count": 134,
   "metadata": {},
   "outputs": [
    {
     "name": "stdout",
     "output_type": "stream",
     "text": [
      "--2018-12-10 00:39:18--  https://s3.amazonaws.com/istm/ukTrafficAADF.csv\n",
      "Resolving s3.amazonaws.com (s3.amazonaws.com)... 52.216.160.29\n",
      "Connecting to s3.amazonaws.com (s3.amazonaws.com)|52.216.160.29|:443... connected.\n",
      "HTTP request sent, awaiting response... 200 OK\n",
      "Length: 55504514 (53M) [text/csv]\n",
      "Saving to: ‘ukTrafficAADF.csv’\n",
      "\n",
      "ukTrafficAADF.csv   100%[===================>]  52.93M  61.1MB/s    in 0.9s    \n",
      "\n",
      "2018-12-10 00:39:19 (61.1 MB/s) - ‘ukTrafficAADF.csv’ saved [55504514/55504514]\n",
      "\n"
     ]
    }
   ],
   "source": [
    "!wget https://s3.amazonaws.com/istm/ukTrafficAADF.csv"
   ]
  },
  {
   "cell_type": "markdown",
   "metadata": {},
   "source": [
    "### Extract the infomation we want in this dataset: AADFYear (year), LocalAuthority (region), and AllMotorVehicles(traffic volume)"
   ]
  },
  {
   "cell_type": "code",
   "execution_count": 135,
   "metadata": {},
   "outputs": [],
   "source": [
    "AADFdata = pd.read_csv('ukTrafficAADF.csv')"
   ]
  },
  {
   "cell_type": "code",
   "execution_count": 136,
   "metadata": {},
   "outputs": [
    {
     "data": {
      "text/html": [
       "<div>\n",
       "<style scoped>\n",
       "    .dataframe tbody tr th:only-of-type {\n",
       "        vertical-align: middle;\n",
       "    }\n",
       "\n",
       "    .dataframe tbody tr th {\n",
       "        vertical-align: top;\n",
       "    }\n",
       "\n",
       "    .dataframe thead th {\n",
       "        text-align: right;\n",
       "    }\n",
       "</style>\n",
       "<table border=\"1\" class=\"dataframe\">\n",
       "  <thead>\n",
       "    <tr style=\"text-align: right;\">\n",
       "      <th></th>\n",
       "      <th>AADFYear</th>\n",
       "      <th>CP</th>\n",
       "      <th>Estimation_method</th>\n",
       "      <th>Estimation_method_detailed</th>\n",
       "      <th>Region</th>\n",
       "      <th>LocalAuthority</th>\n",
       "      <th>Road</th>\n",
       "      <th>RoadCategory</th>\n",
       "      <th>Easting</th>\n",
       "      <th>Northing</th>\n",
       "      <th>...</th>\n",
       "      <th>V2AxleRigidHGV</th>\n",
       "      <th>V3AxleRigidHGV</th>\n",
       "      <th>V4or5AxleRigidHGV</th>\n",
       "      <th>V3or4AxleArticHGV</th>\n",
       "      <th>V5AxleArticHGV</th>\n",
       "      <th>V6orMoreAxleArticHGV</th>\n",
       "      <th>AllHGVs</th>\n",
       "      <th>AllMotorVehicles</th>\n",
       "      <th>Lat</th>\n",
       "      <th>Lon</th>\n",
       "    </tr>\n",
       "  </thead>\n",
       "  <tbody>\n",
       "    <tr>\n",
       "      <th>0</th>\n",
       "      <td>2000</td>\n",
       "      <td>6007</td>\n",
       "      <td>Counted</td>\n",
       "      <td>Manual count</td>\n",
       "      <td>Yorkshire and the Humber</td>\n",
       "      <td>Rotherham</td>\n",
       "      <td>M1</td>\n",
       "      <td>TM</td>\n",
       "      <td>446000</td>\n",
       "      <td>389300</td>\n",
       "      <td>...</td>\n",
       "      <td>5351</td>\n",
       "      <td>656</td>\n",
       "      <td>711</td>\n",
       "      <td>1588</td>\n",
       "      <td>4715</td>\n",
       "      <td>2149</td>\n",
       "      <td>15170</td>\n",
       "      <td>111146</td>\n",
       "      <td>53.398531</td>\n",
       "      <td>-1.309655</td>\n",
       "    </tr>\n",
       "    <tr>\n",
       "      <th>1</th>\n",
       "      <td>2000</td>\n",
       "      <td>6009</td>\n",
       "      <td>Counted</td>\n",
       "      <td>Manual count</td>\n",
       "      <td>Yorkshire and the Humber</td>\n",
       "      <td>Leeds</td>\n",
       "      <td>M621</td>\n",
       "      <td>TM</td>\n",
       "      <td>432150</td>\n",
       "      <td>429500</td>\n",
       "      <td>...</td>\n",
       "      <td>1293</td>\n",
       "      <td>272</td>\n",
       "      <td>287</td>\n",
       "      <td>628</td>\n",
       "      <td>1494</td>\n",
       "      <td>921</td>\n",
       "      <td>4895</td>\n",
       "      <td>65939</td>\n",
       "      <td>53.760869</td>\n",
       "      <td>-1.513814</td>\n",
       "    </tr>\n",
       "    <tr>\n",
       "      <th>2</th>\n",
       "      <td>2000</td>\n",
       "      <td>6035</td>\n",
       "      <td>Counted</td>\n",
       "      <td>Manual count</td>\n",
       "      <td>Yorkshire and the Humber</td>\n",
       "      <td>Doncaster</td>\n",
       "      <td>M18</td>\n",
       "      <td>TM</td>\n",
       "      <td>466400</td>\n",
       "      <td>407900</td>\n",
       "      <td>...</td>\n",
       "      <td>1952</td>\n",
       "      <td>257</td>\n",
       "      <td>239</td>\n",
       "      <td>745</td>\n",
       "      <td>3695</td>\n",
       "      <td>2000</td>\n",
       "      <td>8888</td>\n",
       "      <td>40229</td>\n",
       "      <td>53.563523</td>\n",
       "      <td>-0.998970</td>\n",
       "    </tr>\n",
       "    <tr>\n",
       "      <th>3</th>\n",
       "      <td>2000</td>\n",
       "      <td>6054</td>\n",
       "      <td>Counted</td>\n",
       "      <td>Manual count</td>\n",
       "      <td>Yorkshire and the Humber</td>\n",
       "      <td>Calderdale</td>\n",
       "      <td>M62</td>\n",
       "      <td>TM</td>\n",
       "      <td>404000</td>\n",
       "      <td>416600</td>\n",
       "      <td>...</td>\n",
       "      <td>3121</td>\n",
       "      <td>508</td>\n",
       "      <td>354</td>\n",
       "      <td>1786</td>\n",
       "      <td>5902</td>\n",
       "      <td>3438</td>\n",
       "      <td>15109</td>\n",
       "      <td>85759</td>\n",
       "      <td>53.645893</td>\n",
       "      <td>-1.940967</td>\n",
       "    </tr>\n",
       "    <tr>\n",
       "      <th>4</th>\n",
       "      <td>2000</td>\n",
       "      <td>6055</td>\n",
       "      <td>Counted</td>\n",
       "      <td>Manual count</td>\n",
       "      <td>Yorkshire and the Humber</td>\n",
       "      <td>Leeds</td>\n",
       "      <td>M62</td>\n",
       "      <td>TM</td>\n",
       "      <td>426000</td>\n",
       "      <td>426200</td>\n",
       "      <td>...</td>\n",
       "      <td>4030</td>\n",
       "      <td>624</td>\n",
       "      <td>423</td>\n",
       "      <td>1947</td>\n",
       "      <td>6669</td>\n",
       "      <td>3743</td>\n",
       "      <td>17436</td>\n",
       "      <td>98487</td>\n",
       "      <td>53.731551</td>\n",
       "      <td>-1.607374</td>\n",
       "    </tr>\n",
       "  </tbody>\n",
       "</table>\n",
       "<p>5 rows × 29 columns</p>\n",
       "</div>"
      ],
      "text/plain": [
       "   AADFYear    CP Estimation_method Estimation_method_detailed  \\\n",
       "0      2000  6007           Counted               Manual count   \n",
       "1      2000  6009           Counted               Manual count   \n",
       "2      2000  6035           Counted               Manual count   \n",
       "3      2000  6054           Counted               Manual count   \n",
       "4      2000  6055           Counted               Manual count   \n",
       "\n",
       "                     Region LocalAuthority  Road RoadCategory  Easting  \\\n",
       "0  Yorkshire and the Humber      Rotherham    M1           TM   446000   \n",
       "1  Yorkshire and the Humber          Leeds  M621           TM   432150   \n",
       "2  Yorkshire and the Humber      Doncaster   M18           TM   466400   \n",
       "3  Yorkshire and the Humber     Calderdale   M62           TM   404000   \n",
       "4  Yorkshire and the Humber          Leeds   M62           TM   426000   \n",
       "\n",
       "   Northing    ...    V2AxleRigidHGV V3AxleRigidHGV  V4or5AxleRigidHGV  \\\n",
       "0    389300    ...              5351            656                711   \n",
       "1    429500    ...              1293            272                287   \n",
       "2    407900    ...              1952            257                239   \n",
       "3    416600    ...              3121            508                354   \n",
       "4    426200    ...              4030            624                423   \n",
       "\n",
       "   V3or4AxleArticHGV  V5AxleArticHGV  V6orMoreAxleArticHGV  AllHGVs  \\\n",
       "0               1588            4715                  2149    15170   \n",
       "1                628            1494                   921     4895   \n",
       "2                745            3695                  2000     8888   \n",
       "3               1786            5902                  3438    15109   \n",
       "4               1947            6669                  3743    17436   \n",
       "\n",
       "   AllMotorVehicles        Lat       Lon  \n",
       "0            111146  53.398531 -1.309655  \n",
       "1             65939  53.760869 -1.513814  \n",
       "2             40229  53.563523 -0.998970  \n",
       "3             85759  53.645893 -1.940967  \n",
       "4             98487  53.731551 -1.607374  \n",
       "\n",
       "[5 rows x 29 columns]"
      ]
     },
     "execution_count": 136,
     "metadata": {},
     "output_type": "execute_result"
    }
   ],
   "source": [
    "AADFdata.head()"
   ]
  },
  {
   "cell_type": "code",
   "execution_count": 137,
   "metadata": {},
   "outputs": [],
   "source": [
    "AADF = AADFdata.loc[:,['AADFYear','LocalAuthority','AllMotorVehicles']]"
   ]
  },
  {
   "cell_type": "code",
   "execution_count": 138,
   "metadata": {},
   "outputs": [
    {
     "data": {
      "text/html": [
       "<div>\n",
       "<style scoped>\n",
       "    .dataframe tbody tr th:only-of-type {\n",
       "        vertical-align: middle;\n",
       "    }\n",
       "\n",
       "    .dataframe tbody tr th {\n",
       "        vertical-align: top;\n",
       "    }\n",
       "\n",
       "    .dataframe thead th {\n",
       "        text-align: right;\n",
       "    }\n",
       "</style>\n",
       "<table border=\"1\" class=\"dataframe\">\n",
       "  <thead>\n",
       "    <tr style=\"text-align: right;\">\n",
       "      <th></th>\n",
       "      <th>AADFYear</th>\n",
       "      <th>LocalAuthority</th>\n",
       "      <th>AllMotorVehicles</th>\n",
       "    </tr>\n",
       "  </thead>\n",
       "  <tbody>\n",
       "    <tr>\n",
       "      <th>0</th>\n",
       "      <td>2000</td>\n",
       "      <td>Rotherham</td>\n",
       "      <td>111146</td>\n",
       "    </tr>\n",
       "    <tr>\n",
       "      <th>1</th>\n",
       "      <td>2000</td>\n",
       "      <td>Leeds</td>\n",
       "      <td>65939</td>\n",
       "    </tr>\n",
       "    <tr>\n",
       "      <th>2</th>\n",
       "      <td>2000</td>\n",
       "      <td>Doncaster</td>\n",
       "      <td>40229</td>\n",
       "    </tr>\n",
       "    <tr>\n",
       "      <th>3</th>\n",
       "      <td>2000</td>\n",
       "      <td>Calderdale</td>\n",
       "      <td>85759</td>\n",
       "    </tr>\n",
       "    <tr>\n",
       "      <th>4</th>\n",
       "      <td>2000</td>\n",
       "      <td>Leeds</td>\n",
       "      <td>98487</td>\n",
       "    </tr>\n",
       "  </tbody>\n",
       "</table>\n",
       "</div>"
      ],
      "text/plain": [
       "   AADFYear LocalAuthority  AllMotorVehicles\n",
       "0      2000      Rotherham            111146\n",
       "1      2000          Leeds             65939\n",
       "2      2000      Doncaster             40229\n",
       "3      2000     Calderdale             85759\n",
       "4      2000          Leeds             98487"
      ]
     },
     "execution_count": 138,
     "metadata": {},
     "output_type": "execute_result"
    }
   ],
   "source": [
    "AADF.head()"
   ]
  },
  {
   "cell_type": "code",
   "execution_count": 139,
   "metadata": {},
   "outputs": [
    {
     "data": {
      "text/plain": [
       "AADFYear            275385\n",
       "LocalAuthority      275385\n",
       "AllMotorVehicles    275385\n",
       "dtype: int64"
      ]
     },
     "execution_count": 139,
     "metadata": {},
     "output_type": "execute_result"
    }
   ],
   "source": [
    "AADF.count()"
   ]
  },
  {
   "cell_type": "markdown",
   "metadata": {},
   "source": [
    "Transform the data to csv file."
   ]
  },
  {
   "cell_type": "code",
   "execution_count": 140,
   "metadata": {},
   "outputs": [],
   "source": [
    "AADF.to_csv('AADF.csv', index = None)"
   ]
  },
  {
   "cell_type": "markdown",
   "metadata": {},
   "source": [
    "#### Create table AADF and insert value from the csv file"
   ]
  },
  {
   "cell_type": "code",
   "execution_count": 141,
   "metadata": {},
   "outputs": [
    {
     "name": "stdout",
     "output_type": "stream",
     "text": [
      " * postgresql://student@/project4\n",
      "Done.\n",
      "Done.\n"
     ]
    },
    {
     "data": {
      "text/plain": [
       "[]"
      ]
     },
     "execution_count": 141,
     "metadata": {},
     "output_type": "execute_result"
    }
   ],
   "source": [
    "%%sql\n",
    "DROP TABLE IF EXISTS AADF;\n",
    "\n",
    "CREATE TABLE AADF(\n",
    "    Year NUMERIC,\n",
    "    Region VARCHAR(100),\n",
    "    Volume NUMERIC\n",
    ")"
   ]
  },
  {
   "cell_type": "markdown",
   "metadata": {},
   "source": [
    "#### Note: if you get error 'cannot allocate memory', please change to another path."
   ]
  },
  {
   "cell_type": "code",
   "execution_count": 143,
   "metadata": {},
   "outputs": [
    {
     "ename": "OSError",
     "evalue": "[Errno 12] Cannot allocate memory",
     "output_type": "error",
     "traceback": [
      "\u001b[0;31m---------------------------------------------------------------------------\u001b[0m",
      "\u001b[0;31mOSError\u001b[0m                                   Traceback (most recent call last)",
      "\u001b[0;32m<ipython-input-143-8ab60f3f1fbd>\u001b[0m in \u001b[0;36m<module>\u001b[0;34m()\u001b[0m\n\u001b[0;32m----> 1\u001b[0;31m \u001b[0mget_ipython\u001b[0m\u001b[0;34m(\u001b[0m\u001b[0;34m)\u001b[0m\u001b[0;34m.\u001b[0m\u001b[0msystem\u001b[0m\u001b[0;34m(\u001b[0m\u001b[0;34m'cp AADF.csv /home/ubuntu/AADF.csv'\u001b[0m\u001b[0;34m)\u001b[0m\u001b[0;34m\u001b[0m\u001b[0m\n\u001b[0m",
      "\u001b[0;32m~/.local/lib/python3.5/site-packages/IPython/core/interactiveshell.py\u001b[0m in \u001b[0;36msystem_piped\u001b[0;34m(self, cmd)\u001b[0m\n\u001b[1;32m   2259\u001b[0m         \u001b[0;31m# a non-None value would trigger :func:`sys.displayhook` calls.\u001b[0m\u001b[0;34m\u001b[0m\u001b[0;34m\u001b[0m\u001b[0m\n\u001b[1;32m   2260\u001b[0m         \u001b[0;31m# Instead, we store the exit_code in user_ns.\u001b[0m\u001b[0;34m\u001b[0m\u001b[0;34m\u001b[0m\u001b[0m\n\u001b[0;32m-> 2261\u001b[0;31m         \u001b[0mself\u001b[0m\u001b[0;34m.\u001b[0m\u001b[0muser_ns\u001b[0m\u001b[0;34m[\u001b[0m\u001b[0;34m'_exit_code'\u001b[0m\u001b[0;34m]\u001b[0m \u001b[0;34m=\u001b[0m \u001b[0msystem\u001b[0m\u001b[0;34m(\u001b[0m\u001b[0mself\u001b[0m\u001b[0;34m.\u001b[0m\u001b[0mvar_expand\u001b[0m\u001b[0;34m(\u001b[0m\u001b[0mcmd\u001b[0m\u001b[0;34m,\u001b[0m \u001b[0mdepth\u001b[0m\u001b[0;34m=\u001b[0m\u001b[0;36m1\u001b[0m\u001b[0;34m)\u001b[0m\u001b[0;34m)\u001b[0m\u001b[0;34m\u001b[0m\u001b[0m\n\u001b[0m\u001b[1;32m   2262\u001b[0m \u001b[0;34m\u001b[0m\u001b[0m\n\u001b[1;32m   2263\u001b[0m     \u001b[0;32mdef\u001b[0m \u001b[0msystem_raw\u001b[0m\u001b[0;34m(\u001b[0m\u001b[0mself\u001b[0m\u001b[0;34m,\u001b[0m \u001b[0mcmd\u001b[0m\u001b[0;34m)\u001b[0m\u001b[0;34m:\u001b[0m\u001b[0;34m\u001b[0m\u001b[0m\n",
      "\u001b[0;32m~/.local/lib/python3.5/site-packages/IPython/utils/_process_posix.py\u001b[0m in \u001b[0;36msystem\u001b[0;34m(self, cmd)\u001b[0m\n\u001b[1;32m    154\u001b[0m                 \u001b[0mchild\u001b[0m \u001b[0;34m=\u001b[0m \u001b[0mpexpect\u001b[0m\u001b[0;34m.\u001b[0m\u001b[0mspawnb\u001b[0m\u001b[0;34m(\u001b[0m\u001b[0mself\u001b[0m\u001b[0;34m.\u001b[0m\u001b[0msh\u001b[0m\u001b[0;34m,\u001b[0m \u001b[0margs\u001b[0m\u001b[0;34m=\u001b[0m\u001b[0;34m[\u001b[0m\u001b[0;34m'-c'\u001b[0m\u001b[0;34m,\u001b[0m \u001b[0mcmd\u001b[0m\u001b[0;34m]\u001b[0m\u001b[0;34m)\u001b[0m \u001b[0;31m# Pexpect-U\u001b[0m\u001b[0;34m\u001b[0m\u001b[0m\n\u001b[1;32m    155\u001b[0m             \u001b[0;32melse\u001b[0m\u001b[0;34m:\u001b[0m\u001b[0;34m\u001b[0m\u001b[0m\n\u001b[0;32m--> 156\u001b[0;31m                 \u001b[0mchild\u001b[0m \u001b[0;34m=\u001b[0m \u001b[0mpexpect\u001b[0m\u001b[0;34m.\u001b[0m\u001b[0mspawn\u001b[0m\u001b[0;34m(\u001b[0m\u001b[0mself\u001b[0m\u001b[0;34m.\u001b[0m\u001b[0msh\u001b[0m\u001b[0;34m,\u001b[0m \u001b[0margs\u001b[0m\u001b[0;34m=\u001b[0m\u001b[0;34m[\u001b[0m\u001b[0;34m'-c'\u001b[0m\u001b[0;34m,\u001b[0m \u001b[0mcmd\u001b[0m\u001b[0;34m]\u001b[0m\u001b[0;34m)\u001b[0m  \u001b[0;31m# Vanilla Pexpect\u001b[0m\u001b[0;34m\u001b[0m\u001b[0m\n\u001b[0m\u001b[1;32m    157\u001b[0m             \u001b[0mflush\u001b[0m \u001b[0;34m=\u001b[0m \u001b[0msys\u001b[0m\u001b[0;34m.\u001b[0m\u001b[0mstdout\u001b[0m\u001b[0;34m.\u001b[0m\u001b[0mflush\u001b[0m\u001b[0;34m\u001b[0m\u001b[0m\n\u001b[1;32m    158\u001b[0m             \u001b[0;32mwhile\u001b[0m \u001b[0;32mTrue\u001b[0m\u001b[0;34m:\u001b[0m\u001b[0;34m\u001b[0m\u001b[0m\n",
      "\u001b[0;32m~/.local/lib/python3.5/site-packages/pexpect/pty_spawn.py\u001b[0m in \u001b[0;36m__init__\u001b[0;34m(self, command, args, timeout, maxread, searchwindowsize, logfile, cwd, env, ignore_sighup, echo, preexec_fn, encoding, codec_errors, dimensions, use_poll)\u001b[0m\n\u001b[1;32m    202\u001b[0m             \u001b[0mself\u001b[0m\u001b[0;34m.\u001b[0m\u001b[0mname\u001b[0m \u001b[0;34m=\u001b[0m \u001b[0;34m'<pexpect factory incomplete>'\u001b[0m\u001b[0;34m\u001b[0m\u001b[0m\n\u001b[1;32m    203\u001b[0m         \u001b[0;32melse\u001b[0m\u001b[0;34m:\u001b[0m\u001b[0;34m\u001b[0m\u001b[0m\n\u001b[0;32m--> 204\u001b[0;31m             \u001b[0mself\u001b[0m\u001b[0;34m.\u001b[0m\u001b[0m_spawn\u001b[0m\u001b[0;34m(\u001b[0m\u001b[0mcommand\u001b[0m\u001b[0;34m,\u001b[0m \u001b[0margs\u001b[0m\u001b[0;34m,\u001b[0m \u001b[0mpreexec_fn\u001b[0m\u001b[0;34m,\u001b[0m \u001b[0mdimensions\u001b[0m\u001b[0;34m)\u001b[0m\u001b[0;34m\u001b[0m\u001b[0m\n\u001b[0m\u001b[1;32m    205\u001b[0m         \u001b[0mself\u001b[0m\u001b[0;34m.\u001b[0m\u001b[0muse_poll\u001b[0m \u001b[0;34m=\u001b[0m \u001b[0muse_poll\u001b[0m\u001b[0;34m\u001b[0m\u001b[0m\n\u001b[1;32m    206\u001b[0m \u001b[0;34m\u001b[0m\u001b[0m\n",
      "\u001b[0;32m~/.local/lib/python3.5/site-packages/pexpect/pty_spawn.py\u001b[0m in \u001b[0;36m_spawn\u001b[0;34m(self, command, args, preexec_fn, dimensions)\u001b[0m\n\u001b[1;32m    301\u001b[0m \u001b[0;34m\u001b[0m\u001b[0m\n\u001b[1;32m    302\u001b[0m         self.ptyproc = self._spawnpty(self.args, env=self.env,\n\u001b[0;32m--> 303\u001b[0;31m                                      cwd=self.cwd, **kwargs)\n\u001b[0m\u001b[1;32m    304\u001b[0m \u001b[0;34m\u001b[0m\u001b[0m\n\u001b[1;32m    305\u001b[0m         \u001b[0mself\u001b[0m\u001b[0;34m.\u001b[0m\u001b[0mpid\u001b[0m \u001b[0;34m=\u001b[0m \u001b[0mself\u001b[0m\u001b[0;34m.\u001b[0m\u001b[0mptyproc\u001b[0m\u001b[0;34m.\u001b[0m\u001b[0mpid\u001b[0m\u001b[0;34m\u001b[0m\u001b[0m\n",
      "\u001b[0;32m~/.local/lib/python3.5/site-packages/pexpect/pty_spawn.py\u001b[0m in \u001b[0;36m_spawnpty\u001b[0;34m(self, args, **kwargs)\u001b[0m\n\u001b[1;32m    312\u001b[0m     \u001b[0;32mdef\u001b[0m \u001b[0m_spawnpty\u001b[0m\u001b[0;34m(\u001b[0m\u001b[0mself\u001b[0m\u001b[0;34m,\u001b[0m \u001b[0margs\u001b[0m\u001b[0;34m,\u001b[0m \u001b[0;34m**\u001b[0m\u001b[0mkwargs\u001b[0m\u001b[0;34m)\u001b[0m\u001b[0;34m:\u001b[0m\u001b[0;34m\u001b[0m\u001b[0m\n\u001b[1;32m    313\u001b[0m         \u001b[0;34m'''Spawn a pty and return an instance of PtyProcess.'''\u001b[0m\u001b[0;34m\u001b[0m\u001b[0m\n\u001b[0;32m--> 314\u001b[0;31m         \u001b[0;32mreturn\u001b[0m \u001b[0mptyprocess\u001b[0m\u001b[0;34m.\u001b[0m\u001b[0mPtyProcess\u001b[0m\u001b[0;34m.\u001b[0m\u001b[0mspawn\u001b[0m\u001b[0;34m(\u001b[0m\u001b[0margs\u001b[0m\u001b[0;34m,\u001b[0m \u001b[0;34m**\u001b[0m\u001b[0mkwargs\u001b[0m\u001b[0;34m)\u001b[0m\u001b[0;34m\u001b[0m\u001b[0m\n\u001b[0m\u001b[1;32m    315\u001b[0m \u001b[0;34m\u001b[0m\u001b[0m\n\u001b[1;32m    316\u001b[0m     \u001b[0;32mdef\u001b[0m \u001b[0mclose\u001b[0m\u001b[0;34m(\u001b[0m\u001b[0mself\u001b[0m\u001b[0;34m,\u001b[0m \u001b[0mforce\u001b[0m\u001b[0;34m=\u001b[0m\u001b[0;32mTrue\u001b[0m\u001b[0;34m)\u001b[0m\u001b[0;34m:\u001b[0m\u001b[0;34m\u001b[0m\u001b[0m\n",
      "\u001b[0;32m~/.local/lib/python3.5/site-packages/ptyprocess/ptyprocess.py\u001b[0m in \u001b[0;36mspawn\u001b[0;34m(cls, argv, cwd, env, echo, preexec_fn, dimensions)\u001b[0m\n\u001b[1;32m    224\u001b[0m \u001b[0;34m\u001b[0m\u001b[0m\n\u001b[1;32m    225\u001b[0m         \u001b[0;32mif\u001b[0m \u001b[0muse_native_pty_fork\u001b[0m\u001b[0;34m:\u001b[0m\u001b[0;34m\u001b[0m\u001b[0m\n\u001b[0;32m--> 226\u001b[0;31m             \u001b[0mpid\u001b[0m\u001b[0;34m,\u001b[0m \u001b[0mfd\u001b[0m \u001b[0;34m=\u001b[0m \u001b[0mpty\u001b[0m\u001b[0;34m.\u001b[0m\u001b[0mfork\u001b[0m\u001b[0;34m(\u001b[0m\u001b[0;34m)\u001b[0m\u001b[0;34m\u001b[0m\u001b[0m\n\u001b[0m\u001b[1;32m    227\u001b[0m         \u001b[0;32melse\u001b[0m\u001b[0;34m:\u001b[0m\u001b[0;34m\u001b[0m\u001b[0m\n\u001b[1;32m    228\u001b[0m             \u001b[0;31m# Use internal fork_pty, for Solaris\u001b[0m\u001b[0;34m\u001b[0m\u001b[0;34m\u001b[0m\u001b[0m\n",
      "\u001b[0;32m/usr/lib/python3.5/pty.py\u001b[0m in \u001b[0;36mfork\u001b[0;34m()\u001b[0m\n\u001b[1;32m     95\u001b[0m \u001b[0;34m\u001b[0m\u001b[0m\n\u001b[1;32m     96\u001b[0m     \u001b[0mmaster_fd\u001b[0m\u001b[0;34m,\u001b[0m \u001b[0mslave_fd\u001b[0m \u001b[0;34m=\u001b[0m \u001b[0mopenpty\u001b[0m\u001b[0;34m(\u001b[0m\u001b[0;34m)\u001b[0m\u001b[0;34m\u001b[0m\u001b[0m\n\u001b[0;32m---> 97\u001b[0;31m     \u001b[0mpid\u001b[0m \u001b[0;34m=\u001b[0m \u001b[0mos\u001b[0m\u001b[0;34m.\u001b[0m\u001b[0mfork\u001b[0m\u001b[0;34m(\u001b[0m\u001b[0;34m)\u001b[0m\u001b[0;34m\u001b[0m\u001b[0m\n\u001b[0m\u001b[1;32m     98\u001b[0m     \u001b[0;32mif\u001b[0m \u001b[0mpid\u001b[0m \u001b[0;34m==\u001b[0m \u001b[0mCHILD\u001b[0m\u001b[0;34m:\u001b[0m\u001b[0;34m\u001b[0m\u001b[0m\n\u001b[1;32m     99\u001b[0m         \u001b[0;31m# Establish a new session.\u001b[0m\u001b[0;34m\u001b[0m\u001b[0;34m\u001b[0m\u001b[0m\n",
      "\u001b[0;31mOSError\u001b[0m: [Errno 12] Cannot allocate memory"
     ]
    }
   ],
   "source": [
    "!cp AADF.csv /tmp/AADF.csv"
   ]
  },
  {
   "cell_type": "code",
   "execution_count": 96,
   "metadata": {},
   "outputs": [
    {
     "name": "stdout",
     "output_type": "stream",
     "text": [
      " * postgresql://student@/project4\n",
      "(psycopg2.OperationalError) could not open file \"/tmp/AADF.csv\" for reading: No such file or directory\n",
      " [SQL: \"COPY AADF\\nFROM '/tmp/AADF.csv'\\nCSV\\nHEADER;\"] (Background on this error at: http://sqlalche.me/e/e3q8)\n"
     ]
    }
   ],
   "source": [
    "%%sql\n",
    "COPY AADF\n",
    "FROM '/tmp/AADF.csv'\n",
    "CSV\n",
    "HEADER;"
   ]
  },
  {
   "cell_type": "code",
   "execution_count": 97,
   "metadata": {},
   "outputs": [
    {
     "name": "stdout",
     "output_type": "stream",
     "text": [
      " * postgresql://student@/project4\n",
      "0 rows affected.\n"
     ]
    },
    {
     "data": {
      "text/html": [
       "<table>\n",
       "    <tr>\n",
       "        <th>year</th>\n",
       "        <th>region</th>\n",
       "        <th>sum</th>\n",
       "    </tr>\n",
       "</table>"
      ],
      "text/plain": [
       "[]"
      ]
     },
     "execution_count": 97,
     "metadata": {},
     "output_type": "execute_result"
    }
   ],
   "source": [
    "%%sql\n",
    "SELECT year, region, SUM(volume) FROM AADF\n",
    "GROUP BY year, region\n",
    "ORDER BY year, region\n",
    "LIMIT 5;"
   ]
  },
  {
   "cell_type": "markdown",
   "metadata": {},
   "source": [
    "#### Create new table AADF_volume and extract value from table AADF that its year is from 2012 to 2014"
   ]
  },
  {
   "cell_type": "code",
   "execution_count": 152,
   "metadata": {},
   "outputs": [
    {
     "name": "stdout",
     "output_type": "stream",
     "text": [
      " * postgresql://student@/project4\n",
      "Done.\n",
      "Done.\n"
     ]
    },
    {
     "data": {
      "text/plain": [
       "[]"
      ]
     },
     "execution_count": 152,
     "metadata": {},
     "output_type": "execute_result"
    }
   ],
   "source": [
    "%%sql\n",
    "DROP TABLE IF EXISTS AADF_volume;\n",
    "\n",
    "CREATE TABLE AADF_volume(\n",
    "    Year NUMERIC,\n",
    "    Region VARCHAR(100),\n",
    "    Volume NUMERIC\n",
    ")"
   ]
  },
  {
   "cell_type": "code",
   "execution_count": 153,
   "metadata": {},
   "outputs": [
    {
     "name": "stdout",
     "output_type": "stream",
     "text": [
      " * postgresql://student@/project4\n",
      "570 rows affected.\n"
     ]
    },
    {
     "data": {
      "text/plain": [
       "[]"
      ]
     },
     "execution_count": 153,
     "metadata": {},
     "output_type": "execute_result"
    }
   ],
   "source": [
    "%%sql\n",
    "INSERT INTO AADF_volume (year, region, volume)\n",
    "SELECT year, region, SUM(volume) FROM AADF\n",
    "WHERE year IN (2012,2013,2014)\n",
    "GROUP BY year, region\n",
    "ORDER BY year, region"
   ]
  },
  {
   "cell_type": "markdown",
   "metadata": {},
   "source": [
    "### Now, we want to find the traffic accident rate from the top 10 cities where happen accdients the most"
   ]
  },
  {
   "cell_type": "markdown",
   "metadata": {},
   "source": [
    "In analysis 7, we have already finded the top 10 cities where happen accdients the most. The table is below."
   ]
  },
  {
   "cell_type": "code",
   "execution_count": 155,
   "metadata": {},
   "outputs": [
    {
     "name": "stdout",
     "output_type": "stream",
     "text": [
      " * postgresql://student@/project4\n",
      "10 rows affected.\n"
     ]
    },
    {
     "data": {
      "text/html": [
       "<table>\n",
       "    <tr>\n",
       "        <th>region</th>\n",
       "        <th>count</th>\n",
       "    </tr>\n",
       "    <tr>\n",
       "        <td>Birmingham</td>\n",
       "        <td>7017</td>\n",
       "    </tr>\n",
       "    <tr>\n",
       "        <td>Leeds</td>\n",
       "        <td>5702</td>\n",
       "    </tr>\n",
       "    <tr>\n",
       "        <td>Westminster</td>\n",
       "        <td>4534</td>\n",
       "    </tr>\n",
       "    <tr>\n",
       "        <td>Liverpool</td>\n",
       "        <td>4272</td>\n",
       "    </tr>\n",
       "    <tr>\n",
       "        <td>Cheshire East</td>\n",
       "        <td>4077</td>\n",
       "    </tr>\n",
       "    <tr>\n",
       "        <td>County Durham</td>\n",
       "        <td>3903</td>\n",
       "    </tr>\n",
       "    <tr>\n",
       "        <td>Wandsworth</td>\n",
       "        <td>3866</td>\n",
       "    </tr>\n",
       "    <tr>\n",
       "        <td>Bradford</td>\n",
       "        <td>3855</td>\n",
       "    </tr>\n",
       "    <tr>\n",
       "        <td>Cornwall</td>\n",
       "        <td>3853</td>\n",
       "    </tr>\n",
       "    <tr>\n",
       "        <td>Ealing</td>\n",
       "        <td>3804</td>\n",
       "    </tr>\n",
       "</table>"
      ],
      "text/plain": [
       "[('Birmingham', 7017),\n",
       " ('Leeds', 5702),\n",
       " ('Westminster', 4534),\n",
       " ('Liverpool', 4272),\n",
       " ('Cheshire East', 4077),\n",
       " ('County Durham', 3903),\n",
       " ('Wandsworth', 3866),\n",
       " ('Bradford', 3855),\n",
       " ('Cornwall', 3853),\n",
       " ('Ealing', 3804)]"
      ]
     },
     "execution_count": 155,
     "metadata": {},
     "output_type": "execute_result"
    }
   ],
   "source": [
    "%%sql\n",
    "SELECT location.region, COUNT(*) FROM accidents\n",
    "JOIN location\n",
    "ON accidents.location_key = location.location_key\n",
    "AND location.region NOT LIKE '%unknown%'\n",
    "GROUP BY location.region\n",
    "ORDER BY COUNT(*) DESC\n",
    "LIMIT 10;"
   ]
  },
  {
   "cell_type": "markdown",
   "metadata": {},
   "source": [
    "Next, we want to find whether there are regions in top 10 that cannot be found in our AADF_volume table."
   ]
  },
  {
   "cell_type": "code",
   "execution_count": 156,
   "metadata": {},
   "outputs": [
    {
     "name": "stdout",
     "output_type": "stream",
     "text": [
      " * postgresql://student@/project4\n",
      "7 rows affected.\n"
     ]
    },
    {
     "data": {
      "text/html": [
       "<table>\n",
       "    <tr>\n",
       "        <th>region</th>\n",
       "    </tr>\n",
       "    <tr>\n",
       "        <td>Westminster</td>\n",
       "    </tr>\n",
       "    <tr>\n",
       "        <td>Leeds</td>\n",
       "    </tr>\n",
       "    <tr>\n",
       "        <td>Birmingham</td>\n",
       "    </tr>\n",
       "    <tr>\n",
       "        <td>Liverpool</td>\n",
       "    </tr>\n",
       "    <tr>\n",
       "        <td>Wandsworth</td>\n",
       "    </tr>\n",
       "    <tr>\n",
       "        <td>Ealing</td>\n",
       "    </tr>\n",
       "    <tr>\n",
       "        <td>Bradford</td>\n",
       "    </tr>\n",
       "</table>"
      ],
      "text/plain": [
       "[('Westminster',),\n",
       " ('Leeds',),\n",
       " ('Birmingham',),\n",
       " ('Liverpool',),\n",
       " ('Wandsworth',),\n",
       " ('Ealing',),\n",
       " ('Bradford',)]"
      ]
     },
     "execution_count": 156,
     "metadata": {},
     "output_type": "execute_result"
    }
   ],
   "source": [
    "%%sql\n",
    "SELECT DISTINCT AADF_volume.region FROM AADF_volume\n",
    "JOIN location ON AADF_volume.region = location.region\n",
    "WHERE AADF_volume.region IN (  \n",
    "                    'Birmingham',\n",
    "                    'Leeds',\n",
    "                    'Westminster',\n",
    "                    'Liverpool',\n",
    "                    'Cheshire East',\n",
    "                    'County Durham',\n",
    "                    'Wandsworth',\n",
    "                    'Bradford',\n",
    "                    'Cornwall',\n",
    "                    'Ealing')"
   ]
  },
  {
   "cell_type": "markdown",
   "metadata": {},
   "source": [
    "We cannot find Cornwall,Cheshire East, and County Durham in AADF_volume table."
   ]
  },
  {
   "cell_type": "markdown",
   "metadata": {},
   "source": [
    "#### Next, find the relationship between traffic volume and accident frequency in top 7 cities having most accidents. The table will be ordered by total traffic volume descendingly in each year"
   ]
  },
  {
   "cell_type": "code",
   "execution_count": 157,
   "metadata": {},
   "outputs": [
    {
     "name": "stdout",
     "output_type": "stream",
     "text": [
      " * postgresql://student@/project4\n",
      "21 rows affected.\n"
     ]
    },
    {
     "data": {
      "text/html": [
       "<table>\n",
       "    <tr>\n",
       "        <th>year</th>\n",
       "        <th>region</th>\n",
       "        <th>total_traffic_volume</th>\n",
       "        <th>accident_frequency</th>\n",
       "        <th>rate</th>\n",
       "    </tr>\n",
       "    <tr>\n",
       "        <td>2012</td>\n",
       "        <td>Leeds</td>\n",
       "        <td>36729310527</td>\n",
       "        <td>6201</td>\n",
       "        <td>1.68829741452446e-07</td>\n",
       "    </tr>\n",
       "    <tr>\n",
       "        <td>2012</td>\n",
       "        <td>Birmingham</td>\n",
       "        <td>25915199008</td>\n",
       "        <td>5856</td>\n",
       "        <td>2.25967780459346e-07</td>\n",
       "    </tr>\n",
       "    <tr>\n",
       "        <td>2012</td>\n",
       "        <td>Liverpool</td>\n",
       "        <td>18722797884</td>\n",
       "        <td>6426</td>\n",
       "        <td>3.43217933548889e-07</td>\n",
       "    </tr>\n",
       "    <tr>\n",
       "        <td>2012</td>\n",
       "        <td>Westminster</td>\n",
       "        <td>11588692848</td>\n",
       "        <td>4272</td>\n",
       "        <td>3.68635190873772e-07</td>\n",
       "    </tr>\n",
       "    <tr>\n",
       "        <td>2012</td>\n",
       "        <td>Bradford</td>\n",
       "        <td>9881659500</td>\n",
       "        <td>4500</td>\n",
       "        <td>4.55389097347465e-07</td>\n",
       "    </tr>\n",
       "    <tr>\n",
       "        <td>2012</td>\n",
       "        <td>Wandsworth</td>\n",
       "        <td>9727991910</td>\n",
       "        <td>5805</td>\n",
       "        <td>5.96731581780273e-07</td>\n",
       "    </tr>\n",
       "    <tr>\n",
       "        <td>2012</td>\n",
       "        <td>Ealing</td>\n",
       "        <td>8132328480</td>\n",
       "        <td>5436</td>\n",
       "        <td>6.68443240256326e-07</td>\n",
       "    </tr>\n",
       "    <tr>\n",
       "        <td>2013</td>\n",
       "        <td>Birmingham</td>\n",
       "        <td>32327617615</td>\n",
       "        <td>7305</td>\n",
       "        <td>2.25967780459346e-07</td>\n",
       "    </tr>\n",
       "    <tr>\n",
       "        <td>2013</td>\n",
       "        <td>Leeds</td>\n",
       "        <td>30616643463</td>\n",
       "        <td>5169</td>\n",
       "        <td>1.68829741452446e-07</td>\n",
       "    </tr>\n",
       "    <tr>\n",
       "        <td>2013</td>\n",
       "        <td>Westminster</td>\n",
       "        <td>12369953040</td>\n",
       "        <td>4560</td>\n",
       "        <td>3.68635190873772e-07</td>\n",
       "    </tr>\n",
       "    <tr>\n",
       "        <td>2013</td>\n",
       "        <td>Liverpool</td>\n",
       "        <td>8050278642</td>\n",
       "        <td>2763</td>\n",
       "        <td>3.43217933548889e-07</td>\n",
       "    </tr>\n",
       "    <tr>\n",
       "        <td>2013</td>\n",
       "        <td>Bradford</td>\n",
       "        <td>7345366895</td>\n",
       "        <td>3345</td>\n",
       "        <td>4.55389097347465e-07</td>\n",
       "    </tr>\n",
       "    <tr>\n",
       "        <td>2013</td>\n",
       "        <td>Wandsworth</td>\n",
       "        <td>4519620014</td>\n",
       "        <td>2697</td>\n",
       "        <td>5.96731581780273e-07</td>\n",
       "    </tr>\n",
       "    <tr>\n",
       "        <td>2013</td>\n",
       "        <td>Ealing</td>\n",
       "        <td>4236709760</td>\n",
       "        <td>2832</td>\n",
       "        <td>6.68443240256326e-07</td>\n",
       "    </tr>\n",
       "    <tr>\n",
       "        <td>2014</td>\n",
       "        <td>Birmingham</td>\n",
       "        <td>34916482270</td>\n",
       "        <td>7890</td>\n",
       "        <td>2.25967780459346e-07</td>\n",
       "    </tr>\n",
       "    <tr>\n",
       "        <td>2014</td>\n",
       "        <td>Leeds</td>\n",
       "        <td>33975056472</td>\n",
       "        <td>5736</td>\n",
       "        <td>1.68829741452446e-07</td>\n",
       "    </tr>\n",
       "    <tr>\n",
       "        <td>2014</td>\n",
       "        <td>Westminster</td>\n",
       "        <td>12939621930</td>\n",
       "        <td>4770</td>\n",
       "        <td>3.68635190873772e-07</td>\n",
       "    </tr>\n",
       "    <tr>\n",
       "        <td>2014</td>\n",
       "        <td>Liverpool</td>\n",
       "        <td>10567629618</td>\n",
       "        <td>3627</td>\n",
       "        <td>3.43217933548889e-07</td>\n",
       "    </tr>\n",
       "    <tr>\n",
       "        <td>2014</td>\n",
       "        <td>Bradford</td>\n",
       "        <td>8168838520</td>\n",
       "        <td>3720</td>\n",
       "        <td>4.55389097347465e-07</td>\n",
       "    </tr>\n",
       "    <tr>\n",
       "        <td>2014</td>\n",
       "        <td>Wandsworth</td>\n",
       "        <td>5188262352</td>\n",
       "        <td>3096</td>\n",
       "        <td>5.96731581780273e-07</td>\n",
       "    </tr>\n",
       "    <tr>\n",
       "        <td>2014</td>\n",
       "        <td>Ealing</td>\n",
       "        <td>4703465920</td>\n",
       "        <td>3144</td>\n",
       "        <td>6.68443240256326e-07</td>\n",
       "    </tr>\n",
       "</table>"
      ],
      "text/plain": [
       "[(Decimal('2012'), 'Leeds', Decimal('36729310527'), 6201, 1.68829741452446e-07),\n",
       " (Decimal('2012'), 'Birmingham', Decimal('25915199008'), 5856, 2.25967780459346e-07),\n",
       " (Decimal('2012'), 'Liverpool', Decimal('18722797884'), 6426, 3.43217933548889e-07),\n",
       " (Decimal('2012'), 'Westminster', Decimal('11588692848'), 4272, 3.68635190873772e-07),\n",
       " (Decimal('2012'), 'Bradford', Decimal('9881659500'), 4500, 4.55389097347465e-07),\n",
       " (Decimal('2012'), 'Wandsworth', Decimal('9727991910'), 5805, 5.96731581780273e-07),\n",
       " (Decimal('2012'), 'Ealing', Decimal('8132328480'), 5436, 6.68443240256326e-07),\n",
       " (Decimal('2013'), 'Birmingham', Decimal('32327617615'), 7305, 2.25967780459346e-07),\n",
       " (Decimal('2013'), 'Leeds', Decimal('30616643463'), 5169, 1.68829741452446e-07),\n",
       " (Decimal('2013'), 'Westminster', Decimal('12369953040'), 4560, 3.68635190873772e-07),\n",
       " (Decimal('2013'), 'Liverpool', Decimal('8050278642'), 2763, 3.43217933548889e-07),\n",
       " (Decimal('2013'), 'Bradford', Decimal('7345366895'), 3345, 4.55389097347465e-07),\n",
       " (Decimal('2013'), 'Wandsworth', Decimal('4519620014'), 2697, 5.96731581780273e-07),\n",
       " (Decimal('2013'), 'Ealing', Decimal('4236709760'), 2832, 6.68443240256326e-07),\n",
       " (Decimal('2014'), 'Birmingham', Decimal('34916482270'), 7890, 2.25967780459346e-07),\n",
       " (Decimal('2014'), 'Leeds', Decimal('33975056472'), 5736, 1.68829741452446e-07),\n",
       " (Decimal('2014'), 'Westminster', Decimal('12939621930'), 4770, 3.68635190873772e-07),\n",
       " (Decimal('2014'), 'Liverpool', Decimal('10567629618'), 3627, 3.43217933548889e-07),\n",
       " (Decimal('2014'), 'Bradford', Decimal('8168838520'), 3720, 4.55389097347465e-07),\n",
       " (Decimal('2014'), 'Wandsworth', Decimal('5188262352'), 3096, 5.96731581780273e-07),\n",
       " (Decimal('2014'), 'Ealing', Decimal('4703465920'), 3144, 6.68443240256326e-07)]"
      ]
     },
     "execution_count": 157,
     "metadata": {},
     "output_type": "execute_result"
    }
   ],
   "source": [
    "%%sql\n",
    "SELECT t1.year, t1.region, t2.total_volume AS total_traffic_volume , t1.accident_frequency,CAST(t1.accident_frequency AS FLOAT) / CAST(t2.total_volume AS FLOAT) AS rate\n",
    "\n",
    "\n",
    "FROM(\n",
    "        SELECT  date.year AS year, location.region AS region, COUNT(*) AS accident_frequency\n",
    "        FROM accidents \n",
    "        JOIN road ON accidents.road_key = road.road_key\n",
    "        JOIN location ON accidents.location_key = location.location_key\n",
    "        JOIN date ON accidents.date_key = date.date_key\n",
    "        JOIN AADF_volume ON AADF_volume.region = location.region\n",
    "        WHERE location.region IN (\n",
    "            SELECT location.region FROM accidents\n",
    "            JOIN location\n",
    "            ON accidents.location_key = location.location_key\n",
    "            AND location.region NOT LIKE '%unknown%'\n",
    "            GROUP BY location.region\n",
    "            ORDER BY COUNT(*) DESC\n",
    "            LIMIT 10\n",
    "        )\n",
    "        GROUP BY date.year, location.region\n",
    "        ORDER BY year, region\n",
    "     ) AS t1\n",
    "JOIN(\n",
    "        SELECT  date.year AS year, location.region AS region, SUM(AADF_volume.volume) AS total_volume\n",
    "        FROM accidents \n",
    "        JOIN road ON accidents.road_key = road.road_key\n",
    "        JOIN location ON accidents.location_key = location.location_key\n",
    "        JOIN date ON accidents.date_key = date.date_key\n",
    "        JOIN AADF_volume ON AADF_volume.region = location.region\n",
    "        WHERE location.region IN (\n",
    "            SELECT location.region FROM accidents\n",
    "            JOIN location\n",
    "            ON accidents.location_key = location.location_key\n",
    "            AND location.region NOT LIKE '%unknown%'\n",
    "            GROUP BY location.region\n",
    "            ORDER BY COUNT(*) DESC\n",
    "            LIMIT 10\n",
    "        )\n",
    "        GROUP BY date.year, location.region\n",
    "        ORDER BY year, region\n",
    "     ) AS t2\n",
    "ON t1.year = t2.year\n",
    "AND t1.region = t2.region\n",
    "ORDER BY t1.year ASC, t2.total_volume DESC"
   ]
  },
  {
   "cell_type": "markdown",
   "metadata": {},
   "source": [
    "We cannot see clearly the relationship, so we decide to expand our sample and plot scatter plot."
   ]
  },
  {
   "cell_type": "markdown",
   "metadata": {},
   "source": [
    "#### We extract result in year 2012 and export to csv file so that we can use seaborn.regplot to plot the scatter plot as well as best-fitting line"
   ]
  },
  {
   "cell_type": "code",
   "execution_count": 158,
   "metadata": {},
   "outputs": [
    {
     "name": "stdout",
     "output_type": "stream",
     "text": [
      " * postgresql://student@/project4\n",
      "106 rows affected.\n"
     ]
    },
    {
     "data": {
      "text/plain": [
       "[]"
      ]
     },
     "execution_count": 158,
     "metadata": {},
     "output_type": "execute_result"
    }
   ],
   "source": [
    "%%sql\n",
    "Copy (\n",
    "SELECT t2.total_volume AS total_traffic_volume , t1.accident_frequency\n",
    "\n",
    "\n",
    "FROM(\n",
    "        SELECT  date.year AS year, location.region AS region, COUNT(*) AS accident_frequency\n",
    "        FROM accidents \n",
    "        JOIN road ON accidents.road_key = road.road_key\n",
    "        JOIN location ON accidents.location_key = location.location_key\n",
    "        JOIN date ON accidents.date_key = date.date_key\n",
    "        JOIN AADF_volume ON AADF_volume.region = location.region\n",
    "        WHERE location.region IN (\n",
    "            SELECT location.region FROM accidents\n",
    "            JOIN location\n",
    "            ON accidents.location_key = location.location_key\n",
    "            AND location.region NOT LIKE '%unknown%'\n",
    "            GROUP BY location.region\n",
    "            ORDER BY COUNT(*) DESC\n",
    "            LIMIT 200\n",
    "        )\n",
    "        GROUP BY date.year, location.region\n",
    "        ORDER BY year, region\n",
    "     ) AS t1\n",
    "JOIN(\n",
    "        SELECT  date.year AS year, location.region AS region, SUM(AADF_volume.volume) AS total_volume\n",
    "        FROM accidents \n",
    "        JOIN road ON accidents.road_key = road.road_key\n",
    "        JOIN location ON accidents.location_key = location.location_key\n",
    "        JOIN date ON accidents.date_key = date.date_key\n",
    "        JOIN AADF_volume ON AADF_volume.region = location.region\n",
    "        WHERE location.region IN (\n",
    "            SELECT location.region FROM accidents\n",
    "            JOIN location\n",
    "            ON accidents.location_key = location.location_key\n",
    "            AND location.region NOT LIKE '%unknown%'\n",
    "            GROUP BY location.region\n",
    "            ORDER BY COUNT(*) DESC\n",
    "            LIMIT 200\n",
    "        )\n",
    "        GROUP BY date.year, location.region\n",
    "        ORDER BY year, region\n",
    "     ) AS t2\n",
    "ON t1.year = t2.year\n",
    "AND t1.region = t2.region\n",
    "WHERE t1.year = 2012\n",
    "ORDER BY t1.year ASC, t2.total_volume DESC\n",
    "\n",
    "\n",
    ") To '/tmp/test.csv' With CSV DELIMITER ',';"
   ]
  },
  {
   "cell_type": "code",
   "execution_count": 159,
   "metadata": {},
   "outputs": [],
   "source": [
    "test = pd.read_csv('/tmp/test.csv', header = None)"
   ]
  },
  {
   "cell_type": "code",
   "execution_count": 160,
   "metadata": {},
   "outputs": [],
   "source": [
    "test.columns = ['traffic volume','accident']"
   ]
  },
  {
   "cell_type": "code",
   "execution_count": 161,
   "metadata": {},
   "outputs": [
    {
     "data": {
      "text/html": [
       "<div>\n",
       "<style scoped>\n",
       "    .dataframe tbody tr th:only-of-type {\n",
       "        vertical-align: middle;\n",
       "    }\n",
       "\n",
       "    .dataframe tbody tr th {\n",
       "        vertical-align: top;\n",
       "    }\n",
       "\n",
       "    .dataframe thead th {\n",
       "        text-align: right;\n",
       "    }\n",
       "</style>\n",
       "<table border=\"1\" class=\"dataframe\">\n",
       "  <thead>\n",
       "    <tr style=\"text-align: right;\">\n",
       "      <th></th>\n",
       "      <th>traffic volume</th>\n",
       "      <th>accident</th>\n",
       "    </tr>\n",
       "  </thead>\n",
       "  <tbody>\n",
       "    <tr>\n",
       "      <th>0</th>\n",
       "      <td>36729310527</td>\n",
       "      <td>6201</td>\n",
       "    </tr>\n",
       "    <tr>\n",
       "      <th>1</th>\n",
       "      <td>25915199008</td>\n",
       "      <td>5856</td>\n",
       "    </tr>\n",
       "    <tr>\n",
       "      <th>2</th>\n",
       "      <td>21727641728</td>\n",
       "      <td>4992</td>\n",
       "    </tr>\n",
       "    <tr>\n",
       "      <th>3</th>\n",
       "      <td>18722797884</td>\n",
       "      <td>6426</td>\n",
       "    </tr>\n",
       "    <tr>\n",
       "      <th>4</th>\n",
       "      <td>17006856680</td>\n",
       "      <td>5748</td>\n",
       "    </tr>\n",
       "  </tbody>\n",
       "</table>\n",
       "</div>"
      ],
      "text/plain": [
       "   traffic volume  accident\n",
       "0     36729310527      6201\n",
       "1     25915199008      5856\n",
       "2     21727641728      4992\n",
       "3     18722797884      6426\n",
       "4     17006856680      5748"
      ]
     },
     "execution_count": 161,
     "metadata": {},
     "output_type": "execute_result"
    }
   ],
   "source": [
    "test.head()"
   ]
  },
  {
   "cell_type": "markdown",
   "metadata": {},
   "source": [
    "The result are exported correctly."
   ]
  },
  {
   "cell_type": "code",
   "execution_count": 162,
   "metadata": {},
   "outputs": [],
   "source": [
    "import matplotlib.pyplot as plt\n",
    "import seaborn as sns"
   ]
  },
  {
   "cell_type": "code",
   "execution_count": 163,
   "metadata": {},
   "outputs": [
    {
     "data": {
      "image/png": "[encoded data removed]",
      "text/plain": [
       "<Figure size 432x288 with 1 Axes>"
      ]
     },
     "metadata": {
      "needs_background": "light"
     },
     "output_type": "display_data"
    }
   ],
   "source": [
    "plt.clf()\n",
    "plot = sns.regplot('traffic volume','accident',data = test)\n",
    "plot.set(xlabel='traffic volume', ylabel='accident')\n",
    "plt.show()"
   ]
  },
  {
   "cell_type": "markdown",
   "metadata": {},
   "source": [
    "As we can see, there is a positive relationship between traffic volume and accident frequency. The higher the traffic volume, the higher the accident frequency."
   ]
  },
  {
   "cell_type": "markdown",
   "metadata": {},
   "source": [
    "# Participation"
   ]
  },
  {
   "cell_type": "markdown",
   "metadata": {},
   "source": [
    "All team members have contributed substantially and meaningfully to our project."
   ]
  },
  {
   "cell_type": "markdown",
   "metadata": {},
   "source": [
    "Guangzhe Zhu: Focused on Part 3 analysis and Part 2 schema design, also helped to review and modify the final result."
   ]
  },
  {
   "cell_type": "markdown",
   "metadata": {},
   "source": [
    "Jiaqi Chen: Focused on Part 1 initial data exploration and Part 2, also helped to review and modify the final result."
   ]
  },
  {
   "cell_type": "markdown",
   "metadata": {},
   "source": [
    "Wenyu Wang: Focused on schema design, Part 3 analysis and Bonus, also helped to review and modify the final result."
   ]
  },
  {
   "cell_type": "markdown",
   "metadata": {},
   "source": [
    "Yingbing Zhu: Focused on Part 2 wrangling and Part 3, also helped to review and modify the final results."
   ]
  }
 ],
 "metadata": {
  "kernelspec": {
   "display_name": "Python 3",
   "language": "python",
   "name": "python3"
  },
  "language_info": {
   "codemirror_mode": {
    "name": "ipython",
    "version": 3
   },
   "file_extension": ".py",
   "mimetype": "text/x-python",
   "name": "python",
   "nbconvert_exporter": "python",
   "pygments_lexer": "ipython3",
   "version": "3.7.1"
  }
 },
 "nbformat": 4,
 "nbformat_minor": 2
}
